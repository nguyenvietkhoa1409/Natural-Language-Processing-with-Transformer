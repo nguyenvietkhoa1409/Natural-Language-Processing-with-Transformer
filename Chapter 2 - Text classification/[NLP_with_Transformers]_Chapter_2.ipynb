{
  "cells": [
    {
      "cell_type": "code",
      "execution_count": null,
      "metadata": {
        "colab": {
          "base_uri": "https://localhost:8080/"
        },
        "id": "Ly9oP9Q8S9o7",
        "outputId": "586fb6d4-5b31-4d64-af65-1cc5acfb33d9"
      },
      "outputs": [
        {
          "name": "stdout",
          "output_type": "stream",
          "text": [
            "Requirement already satisfied: bertviz in /usr/local/lib/python3.11/dist-packages (1.4.0)\n",
            "Requirement already satisfied: transformers>=2.0 in /usr/local/lib/python3.11/dist-packages (from bertviz) (4.48.3)\n",
            "Requirement already satisfied: torch>=1.0 in /usr/local/lib/python3.11/dist-packages (from bertviz) (2.5.1+cu124)\n",
            "Requirement already satisfied: tqdm in /usr/local/lib/python3.11/dist-packages (from bertviz) (4.67.1)\n",
            "Requirement already satisfied: boto3 in /usr/local/lib/python3.11/dist-packages (from bertviz) (1.37.9)\n",
            "Requirement already satisfied: requests in /usr/local/lib/python3.11/dist-packages (from bertviz) (2.32.3)\n",
            "Requirement already satisfied: regex in /usr/local/lib/python3.11/dist-packages (from bertviz) (2024.11.6)\n",
            "Requirement already satisfied: sentencepiece in /usr/local/lib/python3.11/dist-packages (from bertviz) (0.2.0)\n",
            "Requirement already satisfied: filelock in /usr/local/lib/python3.11/dist-packages (from torch>=1.0->bertviz) (3.17.0)\n",
            "Requirement already satisfied: typing-extensions>=4.8.0 in /usr/local/lib/python3.11/dist-packages (from torch>=1.0->bertviz) (4.12.2)\n",
            "Requirement already satisfied: networkx in /usr/local/lib/python3.11/dist-packages (from torch>=1.0->bertviz) (3.4.2)\n",
            "Requirement already satisfied: jinja2 in /usr/local/lib/python3.11/dist-packages (from torch>=1.0->bertviz) (3.1.5)\n",
            "Requirement already satisfied: fsspec in /usr/local/lib/python3.11/dist-packages (from torch>=1.0->bertviz) (2024.10.0)\n",
            "Requirement already satisfied: nvidia-cuda-nvrtc-cu12==12.4.127 in /usr/local/lib/python3.11/dist-packages (from torch>=1.0->bertviz) (12.4.127)\n",
            "Requirement already satisfied: nvidia-cuda-runtime-cu12==12.4.127 in /usr/local/lib/python3.11/dist-packages (from torch>=1.0->bertviz) (12.4.127)\n",
            "Requirement already satisfied: nvidia-cuda-cupti-cu12==12.4.127 in /usr/local/lib/python3.11/dist-packages (from torch>=1.0->bertviz) (12.4.127)\n",
            "Requirement already satisfied: nvidia-cudnn-cu12==9.1.0.70 in /usr/local/lib/python3.11/dist-packages (from torch>=1.0->bertviz) (9.1.0.70)\n",
            "Requirement already satisfied: nvidia-cublas-cu12==12.4.5.8 in /usr/local/lib/python3.11/dist-packages (from torch>=1.0->bertviz) (12.4.5.8)\n",
            "Requirement already satisfied: nvidia-cufft-cu12==11.2.1.3 in /usr/local/lib/python3.11/dist-packages (from torch>=1.0->bertviz) (11.2.1.3)\n",
            "Requirement already satisfied: nvidia-curand-cu12==10.3.5.147 in /usr/local/lib/python3.11/dist-packages (from torch>=1.0->bertviz) (10.3.5.147)\n",
            "Requirement already satisfied: nvidia-cusolver-cu12==11.6.1.9 in /usr/local/lib/python3.11/dist-packages (from torch>=1.0->bertviz) (11.6.1.9)\n",
            "Requirement already satisfied: nvidia-cusparse-cu12==12.3.1.170 in /usr/local/lib/python3.11/dist-packages (from torch>=1.0->bertviz) (12.3.1.170)\n",
            "Requirement already satisfied: nvidia-nccl-cu12==2.21.5 in /usr/local/lib/python3.11/dist-packages (from torch>=1.0->bertviz) (2.21.5)\n",
            "Requirement already satisfied: nvidia-nvtx-cu12==12.4.127 in /usr/local/lib/python3.11/dist-packages (from torch>=1.0->bertviz) (12.4.127)\n",
            "Requirement already satisfied: nvidia-nvjitlink-cu12==12.4.127 in /usr/local/lib/python3.11/dist-packages (from torch>=1.0->bertviz) (12.4.127)\n",
            "Requirement already satisfied: triton==3.1.0 in /usr/local/lib/python3.11/dist-packages (from torch>=1.0->bertviz) (3.1.0)\n",
            "Requirement already satisfied: sympy==1.13.1 in /usr/local/lib/python3.11/dist-packages (from torch>=1.0->bertviz) (1.13.1)\n",
            "Requirement already satisfied: mpmath<1.4,>=1.1.0 in /usr/local/lib/python3.11/dist-packages (from sympy==1.13.1->torch>=1.0->bertviz) (1.3.0)\n",
            "Requirement already satisfied: huggingface-hub<1.0,>=0.24.0 in /usr/local/lib/python3.11/dist-packages (from transformers>=2.0->bertviz) (0.28.1)\n",
            "Requirement already satisfied: numpy>=1.17 in /usr/local/lib/python3.11/dist-packages (from transformers>=2.0->bertviz) (1.26.4)\n",
            "Requirement already satisfied: packaging>=20.0 in /usr/local/lib/python3.11/dist-packages (from transformers>=2.0->bertviz) (24.2)\n",
            "Requirement already satisfied: pyyaml>=5.1 in /usr/local/lib/python3.11/dist-packages (from transformers>=2.0->bertviz) (6.0.2)\n",
            "Requirement already satisfied: tokenizers<0.22,>=0.21 in /usr/local/lib/python3.11/dist-packages (from transformers>=2.0->bertviz) (0.21.0)\n",
            "Requirement already satisfied: safetensors>=0.4.1 in /usr/local/lib/python3.11/dist-packages (from transformers>=2.0->bertviz) (0.5.3)\n",
            "Requirement already satisfied: botocore<1.38.0,>=1.37.9 in /usr/local/lib/python3.11/dist-packages (from boto3->bertviz) (1.37.9)\n",
            "Requirement already satisfied: jmespath<2.0.0,>=0.7.1 in /usr/local/lib/python3.11/dist-packages (from boto3->bertviz) (1.0.1)\n",
            "Requirement already satisfied: s3transfer<0.12.0,>=0.11.0 in /usr/local/lib/python3.11/dist-packages (from boto3->bertviz) (0.11.4)\n",
            "Requirement already satisfied: charset-normalizer<4,>=2 in /usr/local/lib/python3.11/dist-packages (from requests->bertviz) (3.4.1)\n",
            "Requirement already satisfied: idna<4,>=2.5 in /usr/local/lib/python3.11/dist-packages (from requests->bertviz) (3.10)\n",
            "Requirement already satisfied: urllib3<3,>=1.21.1 in /usr/local/lib/python3.11/dist-packages (from requests->bertviz) (2.3.0)\n",
            "Requirement already satisfied: certifi>=2017.4.17 in /usr/local/lib/python3.11/dist-packages (from requests->bertviz) (2025.1.31)\n",
            "Requirement already satisfied: python-dateutil<3.0.0,>=2.1 in /usr/local/lib/python3.11/dist-packages (from botocore<1.38.0,>=1.37.9->boto3->bertviz) (2.8.2)\n",
            "Requirement already satisfied: MarkupSafe>=2.0 in /usr/local/lib/python3.11/dist-packages (from jinja2->torch>=1.0->bertviz) (3.0.2)\n",
            "Requirement already satisfied: six>=1.5 in /usr/local/lib/python3.11/dist-packages (from python-dateutil<3.0.0,>=2.1->botocore<1.38.0,>=1.37.9->boto3->bertviz) (1.17.0)\n"
          ]
        }
      ],
      "source": [
        "!pip install bertviz"
      ]
    },
    {
      "cell_type": "code",
      "execution_count": null,
      "metadata": {
        "id": "T_mUpPrRS1fh"
      },
      "outputs": [],
      "source": [
        "from transformers import AutoTokenizer, AutoModel\n",
        "from bertviz.transformers_neuron_view import BertModel\n",
        "from bertviz.neuron_view import show\n"
      ]
    },
    {
      "cell_type": "code",
      "execution_count": null,
      "metadata": {
        "colab": {
          "base_uri": "https://localhost:8080/",
          "height": 463,
          "referenced_widgets": [
            "ea9341ee1cdc4776983a12f63f85a8fa",
            "e58253edca6c4388ad1571012607a5b3",
            "644076043b124404a895c279d9f4de97",
            "6495be66653a4208b47ab91f7912bc56",
            "afaf2f1c91d44578826b266d38d3c641",
            "ef4a95b5e030473993680c859035961f",
            "47d4be139e484fa3817e54b39261baca",
            "9d5b74ddbcf34f47b2aadffa3137eb36",
            "a2db7ab446f246e3be6616d0266bc3c4",
            "80b308f3297f40929fb8e9dba6cc33e6",
            "e8f94d439f5c4727a029bca7607ed943",
            "dd66a2190555423e99d47281b45c8780",
            "2c5169a6fe6b4ca1ba674719091b0411",
            "67a1a425b753405bb761323c9d569288",
            "b62c4b24aca240dea36374b2ff5ad2a4",
            "8d72b8d1699f4446bbb1f396ecb1e7d6",
            "45b8bcedc4a54906973189ddd6d6bd43",
            "568bd2fb94244997a5de205e17b627b5",
            "97da5fa9dfd848d0b25445a59cd4cdfc",
            "608068e478be4d1cbfc4676bab3e5c59",
            "b2ba7d3ab29347a0bd5bee57da351aa6",
            "e712ae20c6cc440a84c670cec4ef84ef",
            "8c27e20c58d145a28e75a1a5df3511b7",
            "d93615ac902d41b593cb692312d66d58",
            "aff354b074324eb5adb79014985620c5",
            "93d5267894ef4a678549e6574b459e76",
            "efa0b7829ca1437d89565bc118b85436",
            "036f61dd0a26443c87286f7ef5c12286",
            "e72246d749734cfb9b003a40120ad823",
            "0194d3ba1b5c4e22aa0e39ebbe09d7e1",
            "8af4f8ae1ed149c595db3986300e8309",
            "f34e5436d4a54cf1a48a611c9f94e922",
            "b18a87735e6e4ac3b3e6d8c72c44fe03",
            "c82c3fda5e1440e29da20916551f070c",
            "0ed3743a4c02468594286ccf2e1b2151",
            "6e41a645a8d843f4b50a1d1fded6546c",
            "6ee87b3119694eb09ed0fa06ed9e11cc",
            "e9fa351ab9bb4ab6bb7bcdf5ddb57f50",
            "ed4666135e4b4b9f8742d20a60a505b2",
            "2e19049c024f4e628241336a10b5ec6d",
            "40d0058349fd41f7bd938f24ab2c2507",
            "7a881c7d32384fba8c57c2efed57b32a",
            "513a07508c9f48289087539f01537048",
            "63b0048e788f4f5283f0de5feb6b25bb"
          ]
        },
        "id": "CiG4x0OmG-vM",
        "outputId": "e3fc5565-1fdf-4cfa-e39b-c1647e32d65f"
      },
      "outputs": [
        {
          "name": "stderr",
          "output_type": "stream",
          "text": [
            "/usr/local/lib/python3.11/dist-packages/huggingface_hub/utils/_auth.py:94: UserWarning: \n",
            "The secret `HF_TOKEN` does not exist in your Colab secrets.\n",
            "To authenticate with the Hugging Face Hub, create a token in your settings tab (https://huggingface.co/settings/tokens), set it as secret in your Google Colab and restart your session.\n",
            "You will be able to reuse this secret in all of your notebooks.\n",
            "Please note that authentication is recommended but still optional to access public models or datasets.\n",
            "  warnings.warn(\n"
          ]
        },
        {
          "data": {
            "application/vnd.jupyter.widget-view+json": {
              "model_id": "ea9341ee1cdc4776983a12f63f85a8fa",
              "version_major": 2,
              "version_minor": 0
            },
            "text/plain": [
              "tokenizer_config.json:   0%|          | 0.00/48.0 [00:00<?, ?B/s]"
            ]
          },
          "metadata": {},
          "output_type": "display_data"
        },
        {
          "data": {
            "application/vnd.jupyter.widget-view+json": {
              "model_id": "dd66a2190555423e99d47281b45c8780",
              "version_major": 2,
              "version_minor": 0
            },
            "text/plain": [
              "config.json:   0%|          | 0.00/570 [00:00<?, ?B/s]"
            ]
          },
          "metadata": {},
          "output_type": "display_data"
        },
        {
          "data": {
            "application/vnd.jupyter.widget-view+json": {
              "model_id": "8c27e20c58d145a28e75a1a5df3511b7",
              "version_major": 2,
              "version_minor": 0
            },
            "text/plain": [
              "vocab.txt:   0%|          | 0.00/232k [00:00<?, ?B/s]"
            ]
          },
          "metadata": {},
          "output_type": "display_data"
        },
        {
          "data": {
            "application/vnd.jupyter.widget-view+json": {
              "model_id": "c82c3fda5e1440e29da20916551f070c",
              "version_major": 2,
              "version_minor": 0
            },
            "text/plain": [
              "tokenizer.json:   0%|          | 0.00/466k [00:00<?, ?B/s]"
            ]
          },
          "metadata": {},
          "output_type": "display_data"
        },
        {
          "ename": "NameError",
          "evalue": "name 'BertModel' is not defined",
          "output_type": "error",
          "traceback": [
            "\u001b[0;31m---------------------------------------------------------------------------\u001b[0m",
            "\u001b[0;31mNameError\u001b[0m                                 Traceback (most recent call last)",
            "\u001b[0;32m<ipython-input-4-7abc949239f7>\u001b[0m in \u001b[0;36m<cell line: 0>\u001b[0;34m()\u001b[0m\n\u001b[1;32m      1\u001b[0m \u001b[0mmodel_ckpt\u001b[0m \u001b[0;34m=\u001b[0m \u001b[0;34m'bert-base-uncased'\u001b[0m\u001b[0;34m\u001b[0m\u001b[0;34m\u001b[0m\u001b[0m\n\u001b[1;32m      2\u001b[0m \u001b[0mtokenizer\u001b[0m \u001b[0;34m=\u001b[0m \u001b[0mAutoTokenizer\u001b[0m\u001b[0;34m.\u001b[0m\u001b[0mfrom_pretrained\u001b[0m\u001b[0;34m(\u001b[0m\u001b[0mmodel_ckpt\u001b[0m\u001b[0;34m)\u001b[0m\u001b[0;34m\u001b[0m\u001b[0;34m\u001b[0m\u001b[0m\n\u001b[0;32m----> 3\u001b[0;31m \u001b[0mmodel\u001b[0m \u001b[0;34m=\u001b[0m \u001b[0mBertModel\u001b[0m\u001b[0;34m.\u001b[0m\u001b[0mfrom_pretrained\u001b[0m\u001b[0;34m(\u001b[0m\u001b[0mmodel_ckpt\u001b[0m\u001b[0;34m)\u001b[0m\u001b[0;34m\u001b[0m\u001b[0;34m\u001b[0m\u001b[0m\n\u001b[0m\u001b[1;32m      4\u001b[0m \u001b[0mtext\u001b[0m \u001b[0;34m=\u001b[0m \u001b[0;34m'time flies like an arrow'\u001b[0m\u001b[0;34m\u001b[0m\u001b[0;34m\u001b[0m\u001b[0m\n\u001b[1;32m      5\u001b[0m \u001b[0mshow\u001b[0m\u001b[0;34m(\u001b[0m\u001b[0mmodel\u001b[0m\u001b[0;34m,\u001b[0m \u001b[0;34m'bert'\u001b[0m\u001b[0;34m,\u001b[0m \u001b[0mtokenizer\u001b[0m\u001b[0;34m,\u001b[0m \u001b[0mtext\u001b[0m\u001b[0;34m,\u001b[0m \u001b[0mdisplay_mode\u001b[0m \u001b[0;34m=\u001b[0m \u001b[0;34m'light'\u001b[0m\u001b[0;34m,\u001b[0m \u001b[0mlayer\u001b[0m \u001b[0;34m=\u001b[0m \u001b[0;36m0\u001b[0m\u001b[0;34m,\u001b[0m \u001b[0mhead\u001b[0m \u001b[0;34m=\u001b[0m \u001b[0;36m8\u001b[0m\u001b[0;34m)\u001b[0m\u001b[0;34m\u001b[0m\u001b[0;34m\u001b[0m\u001b[0m\n",
            "\u001b[0;31mNameError\u001b[0m: name 'BertModel' is not defined"
          ]
        }
      ],
      "source": [
        "model_ckpt = 'bert-base-uncased'\n",
        "tokenizer = AutoTokenizer.from_pretrained(model_ckpt)\n",
        "model = BertModel.from_pretrained(model_ckpt)\n",
        "text = 'time flies like an arrow'\n",
        "show(model, 'bert', tokenizer, text, display_mode = 'light', layer = 0, head = 8)"
      ]
    },
    {
      "cell_type": "code",
      "execution_count": null,
      "metadata": {
        "colab": {
          "base_uri": "https://localhost:8080/"
        },
        "id": "BI7GjKFhmfEE",
        "outputId": "1d2dc893-55f4-4b18-8ca9-f10d2175a15c"
      },
      "outputs": [
        {
          "data": {
            "text/plain": [
              "tensor([[ 2051, 10029,  2066,  2019,  8612]])"
            ]
          },
          "execution_count": 7,
          "metadata": {},
          "output_type": "execute_result"
        }
      ],
      "source": [
        "text = 'time flies like an arrow'\n",
        "inputs = tokenizer(text, return_tensors = 'pt', add_special_tokens = False) #add_special_tokens = False will eliminate [CLS] and [SEP] token.\n",
        "inputs.input_ids\n"
      ]
    },
    {
      "cell_type": "code",
      "execution_count": null,
      "metadata": {
        "colab": {
          "base_uri": "https://localhost:8080/"
        },
        "id": "fSgYYI6sm35P",
        "outputId": "7e97f7c7-b635-4401-eba0-cc53370c5135"
      },
      "outputs": [
        {
          "data": {
            "text/plain": [
              "Embedding(30522, 768)"
            ]
          },
          "execution_count": 8,
          "metadata": {},
          "output_type": "execute_result"
        }
      ],
      "source": [
        "from torch import nn\n",
        "from transformers import AutoConfig\n",
        "\n",
        "config = AutoConfig.from_pretrained(model_ckpt)\n",
        "token_emb = nn.Embedding(config.vocab_size, config.hidden_size)\n",
        "token_emb"
      ]
    },
    {
      "cell_type": "markdown",
      "metadata": {
        "id": "cydR-eZ2pM_W"
      },
      "source": [
        "<code>AutoConfig</code> class is used to load the config.json file associated with the bert-uncase-based checkpoint. This file specifies specific hyperparameters like vocab_size and hidden_size. Then each input ID will be mapped to one of 30522 vectors, each with a size of 768. The token embeddings here are independent of their context.\n",
        "\n"
      ]
    },
    {
      "cell_type": "code",
      "execution_count": null,
      "metadata": {
        "colab": {
          "base_uri": "https://localhost:8080/"
        },
        "id": "1notdGvtp1JQ",
        "outputId": "2c28c6b8-328a-403e-b868-5f581fd99e71"
      },
      "outputs": [
        {
          "data": {
            "text/plain": [
              "torch.Size([1, 5, 768])"
            ]
          },
          "execution_count": 9,
          "metadata": {},
          "output_type": "execute_result"
        }
      ],
      "source": [
        "input_embs = token_emb(inputs.input_ids)\n",
        "input_embs.size()"
      ]
    },
    {
      "cell_type": "code",
      "execution_count": null,
      "metadata": {
        "colab": {
          "base_uri": "https://localhost:8080/"
        },
        "id": "dl6ajVtFqJkJ",
        "outputId": "691b1324-10bd-4dbb-e464-8c6e284fbd47"
      },
      "outputs": [
        {
          "data": {
            "text/plain": [
              "torch.Size([1, 5, 5])"
            ]
          },
          "execution_count": 10,
          "metadata": {},
          "output_type": "execute_result"
        }
      ],
      "source": [
        "import torch\n",
        "from math import sqrt\n",
        "\n",
        "query = key = value = input_embs\n",
        "dim_k = key.size(-1) #768 in this case\n",
        "scores = torch.bmm(query, key.transpose(1,2))/sqrt(dim_k)\n",
        "scores.size()"
      ]
    },
    {
      "cell_type": "markdown",
      "metadata": {
        "id": "veu0kjiVq-lE"
      },
      "source": [
        "A **(5x5) matrix** is of attention scores is created per sample in the batch. We now see Query, Key, and Value is not multiplied with repsective weight matrix, but keep equal. This is for the simplicity of the illustration."
      ]
    },
    {
      "cell_type": "code",
      "execution_count": null,
      "metadata": {
        "colab": {
          "base_uri": "https://localhost:8080/"
        },
        "id": "5WQWU9G0ti3R",
        "outputId": "e9506785-a306-4c00-8d27-3b3c15a5383a"
      },
      "outputs": [
        {
          "data": {
            "text/plain": [
              "tensor([[1., 1., 1., 1., 1.]], grad_fn=<SumBackward1>)"
            ]
          },
          "execution_count": 11,
          "metadata": {},
          "output_type": "execute_result"
        }
      ],
      "source": [
        "import torch.nn.functional as F\n",
        "\n",
        "weights = F.softmax(scores, dim = -1)\n",
        "#Check that the weight values is sum up to 1\n",
        "weights.sum(dim = -1)\n"
      ]
    },
    {
      "cell_type": "code",
      "execution_count": null,
      "metadata": {
        "colab": {
          "base_uri": "https://localhost:8080/"
        },
        "id": "6Li0aSq7wYwz",
        "outputId": "8e0f2bab-8cee-46e0-d940-33413feca6e1"
      },
      "outputs": [
        {
          "data": {
            "text/plain": [
              "torch.Size([1, 5, 768])"
            ]
          },
          "execution_count": 12,
          "metadata": {},
          "output_type": "execute_result"
        }
      ],
      "source": [
        "attn_outputs = torch.bmm(weights, value)\n",
        "attn_outputs.shape\n",
        "#The output have the same dimension as the input embedding vector. But the values are 'updated' with contextual information."
      ]
    },
    {
      "cell_type": "code",
      "execution_count": null,
      "metadata": {
        "id": "KqC28Ky2w5E7"
      },
      "outputs": [],
      "source": [
        "#warp up these calculations into a function\n",
        "def scaled_dot_product_attention(query, key, value):\n",
        "  #retrieve the dimension of key matrix\n",
        "  dim_k = key.size(-1)\n",
        "\n",
        "  #compute batch-matrix-multiplication\n",
        "    #Q(batch_size, seq_len, head_dim)\n",
        "    #K_transpose(head_dim, seq_len, batch_size)\n",
        "    #Dot product of Q and K_transpose is a matrix of (batch_size, seq_len, seq_len)\n",
        "  scores = torch.bmm(query, key.transpose(1,2))/sqrt(dim_k) #\n",
        "\n",
        "  #Soft-max transform to have attention score matrix\n",
        "  weights = F.softmax(scores, dim = -1)\n",
        "\n",
        "  #Multiplied weights with value to 'update' the value of input hidden_states\n",
        "  return torch.bmm(weights, value)"
      ]
    },
    {
      "cell_type": "markdown",
      "metadata": {
        "id": "o2mG5UgJsCtY"
      },
      "source": [
        "![image.png](data:image/png;base64,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)"
      ]
    },
    {
      "cell_type": "markdown",
      "metadata": {
        "id": "9StQsKfpxx2J"
      },
      "source": [
        "<h2> Multi-headed attention</h2>"
      ]
    },
    {
      "cell_type": "code",
      "execution_count": null,
      "metadata": {
        "id": "DYnCx91wxvL_"
      },
      "outputs": [],
      "source": [
        "class AttentionHead(nn.Module):\n",
        "  def __init__(self, embed_dim, head_dim):\n",
        "    # Initializes the Attention Head.\n",
        "    # embed_dim: The input embedding size (768 in BERT)\n",
        "    # head_dim: The output embedding size (768/12 = 64 in BERT)\n",
        "    super().__init__()\n",
        "\n",
        "    #Linear layers for Query, Key, and Value transformation\n",
        "    #nn.Linear is dense linear layer, such as keras.layers.Dense in Tesorflow\n",
        "    self.q = nn.Linear(embed_dim, head_dim) # Projects embeddings to Queries\n",
        "    self.k = nn.Linear(embed_dim, head_dim) # Projects embeddings to Keys\n",
        "    self.v = nn.Linear(embed_dim, head_dim) # Projects embeddings to Values\n",
        "\n",
        "  def forward(self, hidden_state):\n",
        "    # Forward Input:\n",
        "    # Hidden_state: Input tensor of shape [batch_size, seq_len, embed_dim]\n",
        "    # Output:\n",
        "    # attn_outputs: Tensor of shape [batch_size, seq_len, head_dim]\n",
        "    # Transformation:\n",
        "    #Transform input matrix input output matrix (for each projection)\n",
        "    attn_outputs =  scaled_dot_product_attention(\n",
        "        self.q(hidden_state), self.k(hidden_state), self.v(hidden_state)\n",
        "    )\n",
        "    return attn_outputs"
      ]
    },
    {
      "cell_type": "markdown",
      "metadata": {
        "id": "dS0zvzS0ymvi"
      },
      "source": [
        "Here, we initialized 3 independent linear layers that applied the matrix multiplication to transform the embedding vector `(batch_size, seq_len, embedd_dim)` into a tensors of shape `(batch_size, seq_len, head_dim)`. Then, we can concatenate the outputs of each one to implement the full multi-head attention layer:"
      ]
    },
    {
      "cell_type": "code",
      "execution_count": null,
      "metadata": {
        "id": "AcZdFY_J2SU_"
      },
      "outputs": [],
      "source": [
        "class MultiHeadAttention(nn.Module):\n",
        "    def __init__(self, config):\n",
        "        super().__init__()\n",
        "\n",
        "        # Step 1: Extract model hyperparameters from `config`\n",
        "        embed_dim = config.hidden_size       # Total embedding size (e.g., 768 for BERT)\n",
        "        num_heads = config.num_attention_heads  # Number of attention heads (e.g., 12 for BERT)\n",
        "        head_dim = embed_dim // num_heads    # Dimension of each individual attention head\n",
        "\n",
        "        # Step 2: Initialize multiple attention heads\n",
        "        self.heads = nn.ModuleList(\n",
        "            [AttentionHead(embed_dim, head_dim) for _ in range(num_heads)]\n",
        "        )\n",
        "\n",
        "        # Step 3: Linear projection to combine all attention head outputs\n",
        "        self.output_linear = nn.Linear(embed_dim, embed_dim)\n",
        "\n",
        "    def forward(self, hidden_state):\n",
        "        \"\"\"\n",
        "        Forward pass through Multi-Head Attention.\n",
        "\n",
        "        Args:\n",
        "        - hidden_state: Tensor of shape [batch_size, seq_len, embed_dim]\n",
        "\n",
        "        Returns:\n",
        "        - Tensor of shape [batch_size, seq_len, embed_dim]\n",
        "        \"\"\"\n",
        "\n",
        "        # Step 4: Apply each attention head independently\n",
        "        x = torch.cat([h(hidden_state) for h in self.heads], dim=-1)\n",
        "\n",
        "        # Step 5: Project back to the original embedding dimension\n",
        "        x = self.output_linear(x)\n",
        "\n",
        "        return x\n"
      ]
    },
    {
      "cell_type": "code",
      "execution_count": null,
      "metadata": {
        "id": "yWtdoLfj138a"
      },
      "outputs": [],
      "source": [
        "multihead_attn = MultiHeadAttention(config)\n",
        "attn_outputs = multihead_attn(input_embs)"
      ]
    },
    {
      "cell_type": "code",
      "execution_count": null,
      "metadata": {
        "colab": {
          "base_uri": "https://localhost:8080/"
        },
        "id": "49VQK7_x3AAU",
        "outputId": "610976f9-dbaf-4a05-8595-5d075e5a8690"
      },
      "outputs": [
        {
          "data": {
            "text/plain": [
              "torch.Size([1, 5, 768])"
            ]
          },
          "execution_count": 17,
          "metadata": {},
          "output_type": "execute_result"
        }
      ],
      "source": [
        "attn_outputs.size()"
      ]
    },
    {
      "cell_type": "code",
      "execution_count": null,
      "metadata": {
        "id": "tRn5dH2Y3g9-"
      },
      "outputs": [],
      "source": [
        "#Use BERT again to visualize 2 different uses of the word \"flies\""
      ]
    },
    {
      "cell_type": "code",
      "execution_count": null,
      "metadata": {
        "colab": {
          "base_uri": "https://localhost:8080/",
          "height": 385
        },
        "id": "GJ061jIn3s0m",
        "outputId": "4b0d7590-7172-400a-b3c4-f58535b798ba"
      },
      "outputs": [
        {
          "ename": "ModuleNotFoundError",
          "evalue": "No module named 'bertviz'",
          "output_type": "error",
          "traceback": [
            "\u001b[0;31m---------------------------------------------------------------------------\u001b[0m",
            "\u001b[0;31mModuleNotFoundError\u001b[0m                       Traceback (most recent call last)",
            "\u001b[0;32m<ipython-input-19-828ce371e177>\u001b[0m in \u001b[0;36m<cell line: 0>\u001b[0;34m()\u001b[0m\n\u001b[0;32m----> 1\u001b[0;31m \u001b[0;32mfrom\u001b[0m \u001b[0mbertviz\u001b[0m \u001b[0;32mimport\u001b[0m \u001b[0mhead_view\u001b[0m\u001b[0;34m\u001b[0m\u001b[0;34m\u001b[0m\u001b[0m\n\u001b[0m\u001b[1;32m      2\u001b[0m \u001b[0;32mfrom\u001b[0m \u001b[0mtransformers\u001b[0m \u001b[0;32mimport\u001b[0m \u001b[0mAutoModel\u001b[0m\u001b[0;34m\u001b[0m\u001b[0;34m\u001b[0m\u001b[0m\n\u001b[1;32m      3\u001b[0m \u001b[0mmodel\u001b[0m \u001b[0;34m=\u001b[0m \u001b[0mAutoModel\u001b[0m\u001b[0;34m.\u001b[0m\u001b[0mfrom_pretrained\u001b[0m\u001b[0;34m(\u001b[0m\u001b[0mmodel_ckpt\u001b[0m\u001b[0;34m,\u001b[0m \u001b[0moutput_attentions\u001b[0m\u001b[0;34m=\u001b[0m\u001b[0;32mTrue\u001b[0m\u001b[0;34m)\u001b[0m\u001b[0;34m\u001b[0m\u001b[0;34m\u001b[0m\u001b[0m\n\u001b[1;32m      4\u001b[0m \u001b[0msentence_a\u001b[0m \u001b[0;34m=\u001b[0m \u001b[0;34m\"time flies like an arrow\"\u001b[0m\u001b[0;34m\u001b[0m\u001b[0;34m\u001b[0m\u001b[0m\n\u001b[1;32m      5\u001b[0m \u001b[0msentence_b\u001b[0m \u001b[0;34m=\u001b[0m \u001b[0;34m\"fruit flies like a banana\"\u001b[0m\u001b[0;34m\u001b[0m\u001b[0;34m\u001b[0m\u001b[0m\n",
            "\u001b[0;31mModuleNotFoundError\u001b[0m: No module named 'bertviz'",
            "",
            "\u001b[0;31m---------------------------------------------------------------------------\u001b[0;32m\nNOTE: If your import is failing due to a missing package, you can\nmanually install dependencies using either !pip or !apt.\n\nTo view examples of installing some common dependencies, click the\n\"Open Examples\" button below.\n\u001b[0;31m---------------------------------------------------------------------------\u001b[0m\n"
          ]
        }
      ],
      "source": [
        "from bertviz import head_view\n",
        "from transformers import AutoModel\n",
        "model = AutoModel.from_pretrained(model_ckpt, output_attentions=True)\n",
        "sentence_a = \"time flies like an arrow\"\n",
        "sentence_b = \"fruit flies like a banana\"\n",
        "viz_inputs = tokenizer(sentence_a, sentence_b, return_tensors='pt')\n",
        "attention = model(**viz_inputs).attentions\n",
        "sentence_b_start = (viz_inputs.token_type_ids == 0).sum(dim=1)\n",
        "tokens = tokenizer.convert_ids_to_tokens(viz_inputs.input_ids[0])\n",
        "head_view(attention, tokens, sentence_b_start, heads=[8])"
      ]
    },
    {
      "cell_type": "markdown",
      "metadata": {
        "id": "Oon41pe89MIf"
      },
      "source": [
        "<h1> Feed forward layer"
      ]
    },
    {
      "cell_type": "markdown",
      "metadata": {
        "id": "Uu1XCQQ4BR2Y"
      },
      "source": [
        "After the self-attention mechanism has processed the input embeddings, the next step is to apply a feed-forward neural network (FFN).\n",
        "The feed-forward sublayer in the encoder and decoder is just a simple two-layer fully\n",
        "connected neural network, but with a twist: instead of processing the whole sequence\n",
        "of embeddings as a single vector, it processes each embedding independently. This mechanism ensures that each token embedding in the sequence undergoes the same transformation without mixing information between tokens."
      ]
    },
    {
      "cell_type": "code",
      "execution_count": null,
      "metadata": {
        "id": "2F6WMHVl5Rrp"
      },
      "outputs": [],
      "source": [
        "class FeedForward(nn.Module):\n",
        "  def __init__(self, config):\n",
        "    super().__init__()\n",
        "    self.linear_1 = nn.Linear(config.hidden_size, config.intermediate_size)\n",
        "    self.linear_2 = nn.Linear(config.intermediate_size, config.hidden_size)\n",
        "    self.gelu = nn.GELU()\n",
        "    self.dropout = nn.Dropout(config.hidden_dropout_prob)\n",
        "\n",
        "  def forward(self, x):\n",
        "    x = self.linear_1(x)\n",
        "    x = self.gelu(x)\n",
        "    x = self.linear_2(x)\n",
        "    x = self.dropout(x)\n",
        "    return x"
      ]
    },
    {
      "cell_type": "code",
      "execution_count": null,
      "metadata": {
        "colab": {
          "base_uri": "https://localhost:8080/"
        },
        "id": "5etN5lN0AImu",
        "outputId": "a7539886-6c2b-422e-8c9b-f98c6731881d"
      },
      "outputs": [
        {
          "data": {
            "text/plain": [
              "torch.Size([1, 5, 768])"
            ]
          },
          "execution_count": 16,
          "metadata": {},
          "output_type": "execute_result"
        }
      ],
      "source": [
        "feed_forward = FeedForward(config)\n",
        "ff_outputs = feed_forward(attn_outputs)\n",
        "ff_outputs.size()"
      ]
    },
    {
      "cell_type": "markdown",
      "metadata": {
        "id": "qhrHBIWrL5R2"
      },
      "source": [
        "<h2>Adding Layer Normalization</h2>"
      ]
    },
    {
      "cell_type": "markdown",
      "metadata": {
        "id": "HUWWCVruQP3s"
      },
      "source": [
        "2 new concept of this part: Normalization layer and Skip Connection"
      ]
    },
    {
      "cell_type": "code",
      "execution_count": null,
      "metadata": {
        "id": "A12fMrsvKfZ-"
      },
      "outputs": [],
      "source": [
        "class TransformersEncoderLayer(nn.Module):\n",
        "  def __init__(self, config):\n",
        "    super().__init__()\n",
        "    self.layer_norm_1 = nn.LayerNorm(config.hidden_size)\n",
        "    self.layer_norm_2 = nn.LayerNorm(config.hidden_size)\n",
        "    self.attention = MultiHeadAttention(config)\n",
        "    self.feed_forward = FeedForward(config)\n",
        "  def forward(self, x):\n",
        "    #Apply layer normalization and then copy the input into query, key, and value\n",
        "    hidden_state = self.layer_norm_1(x)\n",
        "    #apply attention with a skip connection\n",
        "    x = x + self.attention(hidden_state)\n",
        "    x = x + self.feed_forward(self.layer_norm_2(x))\n",
        "    return x"
      ]
    },
    {
      "cell_type": "code",
      "execution_count": null,
      "metadata": {
        "colab": {
          "base_uri": "https://localhost:8080/"
        },
        "id": "mDa27V7qVOLB",
        "outputId": "a95a2b44-6db4-4f62-bb1d-735c51c3a7fd"
      },
      "outputs": [
        {
          "data": {
            "text/plain": [
              "(torch.Size([1, 5, 768]), torch.Size([1, 5, 768]))"
            ]
          },
          "execution_count": 18,
          "metadata": {},
          "output_type": "execute_result"
        }
      ],
      "source": [
        "encoder_layer = TransformersEncoderLayer(config)\n",
        "input_embs.shape, encoder_layer(input_embs).shape"
      ]
    },
    {
      "cell_type": "markdown",
      "metadata": {
        "id": "4YH46H8sahhR"
      },
      "source": [
        "<h2>Positional Encoder</h2>"
      ]
    },
    {
      "cell_type": "code",
      "execution_count": null,
      "metadata": {
        "colab": {
          "base_uri": "https://localhost:8080/"
        },
        "id": "o8qfzj-Rak43",
        "outputId": "8ffd64da-3f72-4ccc-d7ab-7dd9beaf986e"
      },
      "outputs": [
        {
          "data": {
            "text/plain": [
              "torch.Size([1, 5, 768])"
            ]
          },
          "execution_count": 22,
          "metadata": {},
          "output_type": "execute_result"
        }
      ],
      "source": [
        "class Embeddings(nn.Module):\n",
        "  def __init__(self, config):\n",
        "    super().__init__()\n",
        "    self.token_embeddings = nn.Embedding(config.vocab_size, config.hidden_size)\n",
        "    self.position_embeddings = nn.Embedding(config.max_position_embeddings, config.hidden_size)\n",
        "    self.layer_norm = nn.LayerNorm(config.hidden_size, eps = 1e-12)\n",
        "    self.dropout = nn.Dropout()\n",
        "\n",
        "  def forward(self, input_ids):\n",
        "    #Create a position IDs for input sequence:\n",
        "    seq_length = input_ids.size(1)\n",
        "    position_ids = torch.arange(seq_length, dtype = torch.long).unsqueeze(0)\n",
        "\n",
        "    #Create token and position embeddings:\n",
        "    token_embeddings = self.token_embeddings(input_ids)\n",
        "    position_embeddings = self.position_embeddings(position_ids)\n",
        "\n",
        "    #Combine token and position embeddings:\n",
        "    embeddings = token_embeddings + position_embeddings\n",
        "    embeddings = self.layer_norm(embeddings)\n",
        "    embeddings = self.dropout(embeddings)\n",
        "    return embeddings\n",
        "embedding_layer = Embeddings(config)\n",
        "embedding_layer(inputs.input_ids).size()"
      ]
    },
    {
      "cell_type": "markdown",
      "metadata": {
        "id": "wufYKWxEfPAf"
      },
      "source": [
        "<h2>Combining Embedding and Encoding Layers</h2>"
      ]
    },
    {
      "cell_type": "code",
      "execution_count": null,
      "metadata": {
        "id": "jK2TaiCSfODY"
      },
      "outputs": [],
      "source": [
        "class TransformerEncoder(nn.Module):\n",
        "  def __init__(self, config):\n",
        "    super().__init__()\n",
        "    self.embeddings = Embeddings(config)\n",
        "    self.layers = nn.ModuleList([TransformersEncoderLayer(config) for _ in range(config.num_hidden_layers)])\n",
        "\n",
        "  def forward(self, x):\n",
        "    x = self.embeddings(x)\n",
        "    for layer in self.layers: #Forward through each [layer_norm, multihead_attention, layer_norm2, Position-wise FFNN] encoder block\n",
        "      x = layer(x)\n",
        "    return x"
      ]
    },
    {
      "cell_type": "code",
      "execution_count": null,
      "metadata": {
        "colab": {
          "base_uri": "https://localhost:8080/"
        },
        "id": "z5iNGZXog0d2",
        "outputId": "1d0673f8-61b6-4159-f000-5cd0caba526b"
      },
      "outputs": [
        {
          "data": {
            "text/plain": [
              "torch.Size([1, 5, 768])"
            ]
          },
          "execution_count": 24,
          "metadata": {},
          "output_type": "execute_result"
        }
      ],
      "source": [
        "transformer_encoding = TransformerEncoder(config)\n",
        "transformer_encoding(inputs.input_ids).size()"
      ]
    },
    {
      "cell_type": "markdown",
      "metadata": {
        "id": "W3yhAuN6idPb"
      },
      "source": [
        "<h2> Adding Classification Head</h2>"
      ]
    },
    {
      "cell_type": "code",
      "execution_count": null,
      "metadata": {
        "id": "WLOfDKPvif7g"
      },
      "outputs": [],
      "source": [
        "class TransformerEncoder_ClassificationHead(nn.Module):\n",
        "  def __init__(self, config):\n",
        "    super().__init__()\n",
        "    self.Encoder = TransformerEncoder(config)\n",
        "    self.dropout = nn.Dropout(config.hidden_dropout_prob)\n",
        "    self.Classification_head = nn.Linear(config.hidden_size, config.num_labels)\n",
        "\n",
        "  def forward(self, x):\n",
        "    x = self.Encoder(x)[:,0,:] #extract only [CLS token] from [batch_size, tok_num, tok_embs]\n",
        "    x = self.dropout(x)\n",
        "    x = self.Classification_head(x)\n",
        "    return x"
      ]
    },
    {
      "cell_type": "code",
      "execution_count": null,
      "metadata": {
        "colab": {
          "base_uri": "https://localhost:8080/"
        },
        "id": "-9lB9TQA9eLO",
        "outputId": "1df6c9e6-5127-4900-e297-2534f2eacfef"
      },
      "outputs": [
        {
          "data": {
            "text/plain": [
              "torch.Size([1, 3])"
            ]
          },
          "execution_count": 46,
          "metadata": {},
          "output_type": "execute_result"
        }
      ],
      "source": [
        "#Define num_labels from config\n",
        "config.num_labels = 3\n",
        "encoder_classifier = TransformerEncoder_ClassificationHead(config)\n",
        "encoder_classifier(inputs.input_ids).size()"
      ]
    }
  ],
  "metadata": {
    "colab": {
      "provenance": []
    },
    "kernelspec": {
      "display_name": "Python 3",
      "name": "python3"
    },
    "language_info": {
      "name": "python"
    },
    "widgets": {
      "application/vnd.jupyter.widget-state+json": {
        "0194d3ba1b5c4e22aa0e39ebbe09d7e1": {
          "model_module": "@jupyter-widgets/base",
          "model_module_version": "1.2.0",
          "model_name": "LayoutModel",
          "state": {
            "_model_module": "@jupyter-widgets/base",
            "_model_module_version": "1.2.0",
            "_model_name": "LayoutModel",
            "_view_count": null,
            "_view_module": "@jupyter-widgets/base",
            "_view_module_version": "1.2.0",
            "_view_name": "LayoutView",
            "align_content": null,
            "align_items": null,
            "align_self": null,
            "border": null,
            "bottom": null,
            "display": null,
            "flex": null,
            "flex_flow": null,
            "grid_area": null,
            "grid_auto_columns": null,
            "grid_auto_flow": null,
            "grid_auto_rows": null,
            "grid_column": null,
            "grid_gap": null,
            "grid_row": null,
            "grid_template_areas": null,
            "grid_template_columns": null,
            "grid_template_rows": null,
            "height": null,
            "justify_content": null,
            "justify_items": null,
            "left": null,
            "margin": null,
            "max_height": null,
            "max_width": null,
            "min_height": null,
            "min_width": null,
            "object_fit": null,
            "object_position": null,
            "order": null,
            "overflow": null,
            "overflow_x": null,
            "overflow_y": null,
            "padding": null,
            "right": null,
            "top": null,
            "visibility": null,
            "width": null
          }
        },
        "036f61dd0a26443c87286f7ef5c12286": {
          "model_module": "@jupyter-widgets/base",
          "model_module_version": "1.2.0",
          "model_name": "LayoutModel",
          "state": {
            "_model_module": "@jupyter-widgets/base",
            "_model_module_version": "1.2.0",
            "_model_name": "LayoutModel",
            "_view_count": null,
            "_view_module": "@jupyter-widgets/base",
            "_view_module_version": "1.2.0",
            "_view_name": "LayoutView",
            "align_content": null,
            "align_items": null,
            "align_self": null,
            "border": null,
            "bottom": null,
            "display": null,
            "flex": null,
            "flex_flow": null,
            "grid_area": null,
            "grid_auto_columns": null,
            "grid_auto_flow": null,
            "grid_auto_rows": null,
            "grid_column": null,
            "grid_gap": null,
            "grid_row": null,
            "grid_template_areas": null,
            "grid_template_columns": null,
            "grid_template_rows": null,
            "height": null,
            "justify_content": null,
            "justify_items": null,
            "left": null,
            "margin": null,
            "max_height": null,
            "max_width": null,
            "min_height": null,
            "min_width": null,
            "object_fit": null,
            "object_position": null,
            "order": null,
            "overflow": null,
            "overflow_x": null,
            "overflow_y": null,
            "padding": null,
            "right": null,
            "top": null,
            "visibility": null,
            "width": null
          }
        },
        "0ed3743a4c02468594286ccf2e1b2151": {
          "model_module": "@jupyter-widgets/controls",
          "model_module_version": "1.5.0",
          "model_name": "HTMLModel",
          "state": {
            "_dom_classes": [],
            "_model_module": "@jupyter-widgets/controls",
            "_model_module_version": "1.5.0",
            "_model_name": "HTMLModel",
            "_view_count": null,
            "_view_module": "@jupyter-widgets/controls",
            "_view_module_version": "1.5.0",
            "_view_name": "HTMLView",
            "description": "",
            "description_tooltip": null,
            "layout": "IPY_MODEL_ed4666135e4b4b9f8742d20a60a505b2",
            "placeholder": "​",
            "style": "IPY_MODEL_2e19049c024f4e628241336a10b5ec6d",
            "value": "tokenizer.json: 100%"
          }
        },
        "2c5169a6fe6b4ca1ba674719091b0411": {
          "model_module": "@jupyter-widgets/controls",
          "model_module_version": "1.5.0",
          "model_name": "HTMLModel",
          "state": {
            "_dom_classes": [],
            "_model_module": "@jupyter-widgets/controls",
            "_model_module_version": "1.5.0",
            "_model_name": "HTMLModel",
            "_view_count": null,
            "_view_module": "@jupyter-widgets/controls",
            "_view_module_version": "1.5.0",
            "_view_name": "HTMLView",
            "description": "",
            "description_tooltip": null,
            "layout": "IPY_MODEL_45b8bcedc4a54906973189ddd6d6bd43",
            "placeholder": "​",
            "style": "IPY_MODEL_568bd2fb94244997a5de205e17b627b5",
            "value": "config.json: 100%"
          }
        },
        "2e19049c024f4e628241336a10b5ec6d": {
          "model_module": "@jupyter-widgets/controls",
          "model_module_version": "1.5.0",
          "model_name": "DescriptionStyleModel",
          "state": {
            "_model_module": "@jupyter-widgets/controls",
            "_model_module_version": "1.5.0",
            "_model_name": "DescriptionStyleModel",
            "_view_count": null,
            "_view_module": "@jupyter-widgets/base",
            "_view_module_version": "1.2.0",
            "_view_name": "StyleView",
            "description_width": ""
          }
        },
        "40d0058349fd41f7bd938f24ab2c2507": {
          "model_module": "@jupyter-widgets/base",
          "model_module_version": "1.2.0",
          "model_name": "LayoutModel",
          "state": {
            "_model_module": "@jupyter-widgets/base",
            "_model_module_version": "1.2.0",
            "_model_name": "LayoutModel",
            "_view_count": null,
            "_view_module": "@jupyter-widgets/base",
            "_view_module_version": "1.2.0",
            "_view_name": "LayoutView",
            "align_content": null,
            "align_items": null,
            "align_self": null,
            "border": null,
            "bottom": null,
            "display": null,
            "flex": null,
            "flex_flow": null,
            "grid_area": null,
            "grid_auto_columns": null,
            "grid_auto_flow": null,
            "grid_auto_rows": null,
            "grid_column": null,
            "grid_gap": null,
            "grid_row": null,
            "grid_template_areas": null,
            "grid_template_columns": null,
            "grid_template_rows": null,
            "height": null,
            "justify_content": null,
            "justify_items": null,
            "left": null,
            "margin": null,
            "max_height": null,
            "max_width": null,
            "min_height": null,
            "min_width": null,
            "object_fit": null,
            "object_position": null,
            "order": null,
            "overflow": null,
            "overflow_x": null,
            "overflow_y": null,
            "padding": null,
            "right": null,
            "top": null,
            "visibility": null,
            "width": null
          }
        },
        "45b8bcedc4a54906973189ddd6d6bd43": {
          "model_module": "@jupyter-widgets/base",
          "model_module_version": "1.2.0",
          "model_name": "LayoutModel",
          "state": {
            "_model_module": "@jupyter-widgets/base",
            "_model_module_version": "1.2.0",
            "_model_name": "LayoutModel",
            "_view_count": null,
            "_view_module": "@jupyter-widgets/base",
            "_view_module_version": "1.2.0",
            "_view_name": "LayoutView",
            "align_content": null,
            "align_items": null,
            "align_self": null,
            "border": null,
            "bottom": null,
            "display": null,
            "flex": null,
            "flex_flow": null,
            "grid_area": null,
            "grid_auto_columns": null,
            "grid_auto_flow": null,
            "grid_auto_rows": null,
            "grid_column": null,
            "grid_gap": null,
            "grid_row": null,
            "grid_template_areas": null,
            "grid_template_columns": null,
            "grid_template_rows": null,
            "height": null,
            "justify_content": null,
            "justify_items": null,
            "left": null,
            "margin": null,
            "max_height": null,
            "max_width": null,
            "min_height": null,
            "min_width": null,
            "object_fit": null,
            "object_position": null,
            "order": null,
            "overflow": null,
            "overflow_x": null,
            "overflow_y": null,
            "padding": null,
            "right": null,
            "top": null,
            "visibility": null,
            "width": null
          }
        },
        "47d4be139e484fa3817e54b39261baca": {
          "model_module": "@jupyter-widgets/controls",
          "model_module_version": "1.5.0",
          "model_name": "DescriptionStyleModel",
          "state": {
            "_model_module": "@jupyter-widgets/controls",
            "_model_module_version": "1.5.0",
            "_model_name": "DescriptionStyleModel",
            "_view_count": null,
            "_view_module": "@jupyter-widgets/base",
            "_view_module_version": "1.2.0",
            "_view_name": "StyleView",
            "description_width": ""
          }
        },
        "513a07508c9f48289087539f01537048": {
          "model_module": "@jupyter-widgets/base",
          "model_module_version": "1.2.0",
          "model_name": "LayoutModel",
          "state": {
            "_model_module": "@jupyter-widgets/base",
            "_model_module_version": "1.2.0",
            "_model_name": "LayoutModel",
            "_view_count": null,
            "_view_module": "@jupyter-widgets/base",
            "_view_module_version": "1.2.0",
            "_view_name": "LayoutView",
            "align_content": null,
            "align_items": null,
            "align_self": null,
            "border": null,
            "bottom": null,
            "display": null,
            "flex": null,
            "flex_flow": null,
            "grid_area": null,
            "grid_auto_columns": null,
            "grid_auto_flow": null,
            "grid_auto_rows": null,
            "grid_column": null,
            "grid_gap": null,
            "grid_row": null,
            "grid_template_areas": null,
            "grid_template_columns": null,
            "grid_template_rows": null,
            "height": null,
            "justify_content": null,
            "justify_items": null,
            "left": null,
            "margin": null,
            "max_height": null,
            "max_width": null,
            "min_height": null,
            "min_width": null,
            "object_fit": null,
            "object_position": null,
            "order": null,
            "overflow": null,
            "overflow_x": null,
            "overflow_y": null,
            "padding": null,
            "right": null,
            "top": null,
            "visibility": null,
            "width": null
          }
        },
        "568bd2fb94244997a5de205e17b627b5": {
          "model_module": "@jupyter-widgets/controls",
          "model_module_version": "1.5.0",
          "model_name": "DescriptionStyleModel",
          "state": {
            "_model_module": "@jupyter-widgets/controls",
            "_model_module_version": "1.5.0",
            "_model_name": "DescriptionStyleModel",
            "_view_count": null,
            "_view_module": "@jupyter-widgets/base",
            "_view_module_version": "1.2.0",
            "_view_name": "StyleView",
            "description_width": ""
          }
        },
        "608068e478be4d1cbfc4676bab3e5c59": {
          "model_module": "@jupyter-widgets/controls",
          "model_module_version": "1.5.0",
          "model_name": "ProgressStyleModel",
          "state": {
            "_model_module": "@jupyter-widgets/controls",
            "_model_module_version": "1.5.0",
            "_model_name": "ProgressStyleModel",
            "_view_count": null,
            "_view_module": "@jupyter-widgets/base",
            "_view_module_version": "1.2.0",
            "_view_name": "StyleView",
            "bar_color": null,
            "description_width": ""
          }
        },
        "63b0048e788f4f5283f0de5feb6b25bb": {
          "model_module": "@jupyter-widgets/controls",
          "model_module_version": "1.5.0",
          "model_name": "DescriptionStyleModel",
          "state": {
            "_model_module": "@jupyter-widgets/controls",
            "_model_module_version": "1.5.0",
            "_model_name": "DescriptionStyleModel",
            "_view_count": null,
            "_view_module": "@jupyter-widgets/base",
            "_view_module_version": "1.2.0",
            "_view_name": "StyleView",
            "description_width": ""
          }
        },
        "644076043b124404a895c279d9f4de97": {
          "model_module": "@jupyter-widgets/controls",
          "model_module_version": "1.5.0",
          "model_name": "FloatProgressModel",
          "state": {
            "_dom_classes": [],
            "_model_module": "@jupyter-widgets/controls",
            "_model_module_version": "1.5.0",
            "_model_name": "FloatProgressModel",
            "_view_count": null,
            "_view_module": "@jupyter-widgets/controls",
            "_view_module_version": "1.5.0",
            "_view_name": "ProgressView",
            "bar_style": "success",
            "description": "",
            "description_tooltip": null,
            "layout": "IPY_MODEL_9d5b74ddbcf34f47b2aadffa3137eb36",
            "max": 48,
            "min": 0,
            "orientation": "horizontal",
            "style": "IPY_MODEL_a2db7ab446f246e3be6616d0266bc3c4",
            "value": 48
          }
        },
        "6495be66653a4208b47ab91f7912bc56": {
          "model_module": "@jupyter-widgets/controls",
          "model_module_version": "1.5.0",
          "model_name": "HTMLModel",
          "state": {
            "_dom_classes": [],
            "_model_module": "@jupyter-widgets/controls",
            "_model_module_version": "1.5.0",
            "_model_name": "HTMLModel",
            "_view_count": null,
            "_view_module": "@jupyter-widgets/controls",
            "_view_module_version": "1.5.0",
            "_view_name": "HTMLView",
            "description": "",
            "description_tooltip": null,
            "layout": "IPY_MODEL_80b308f3297f40929fb8e9dba6cc33e6",
            "placeholder": "​",
            "style": "IPY_MODEL_e8f94d439f5c4727a029bca7607ed943",
            "value": " 48.0/48.0 [00:00&lt;00:00, 2.16kB/s]"
          }
        },
        "67a1a425b753405bb761323c9d569288": {
          "model_module": "@jupyter-widgets/controls",
          "model_module_version": "1.5.0",
          "model_name": "FloatProgressModel",
          "state": {
            "_dom_classes": [],
            "_model_module": "@jupyter-widgets/controls",
            "_model_module_version": "1.5.0",
            "_model_name": "FloatProgressModel",
            "_view_count": null,
            "_view_module": "@jupyter-widgets/controls",
            "_view_module_version": "1.5.0",
            "_view_name": "ProgressView",
            "bar_style": "success",
            "description": "",
            "description_tooltip": null,
            "layout": "IPY_MODEL_97da5fa9dfd848d0b25445a59cd4cdfc",
            "max": 570,
            "min": 0,
            "orientation": "horizontal",
            "style": "IPY_MODEL_608068e478be4d1cbfc4676bab3e5c59",
            "value": 570
          }
        },
        "6e41a645a8d843f4b50a1d1fded6546c": {
          "model_module": "@jupyter-widgets/controls",
          "model_module_version": "1.5.0",
          "model_name": "FloatProgressModel",
          "state": {
            "_dom_classes": [],
            "_model_module": "@jupyter-widgets/controls",
            "_model_module_version": "1.5.0",
            "_model_name": "FloatProgressModel",
            "_view_count": null,
            "_view_module": "@jupyter-widgets/controls",
            "_view_module_version": "1.5.0",
            "_view_name": "ProgressView",
            "bar_style": "success",
            "description": "",
            "description_tooltip": null,
            "layout": "IPY_MODEL_40d0058349fd41f7bd938f24ab2c2507",
            "max": 466062,
            "min": 0,
            "orientation": "horizontal",
            "style": "IPY_MODEL_7a881c7d32384fba8c57c2efed57b32a",
            "value": 466062
          }
        },
        "6ee87b3119694eb09ed0fa06ed9e11cc": {
          "model_module": "@jupyter-widgets/controls",
          "model_module_version": "1.5.0",
          "model_name": "HTMLModel",
          "state": {
            "_dom_classes": [],
            "_model_module": "@jupyter-widgets/controls",
            "_model_module_version": "1.5.0",
            "_model_name": "HTMLModel",
            "_view_count": null,
            "_view_module": "@jupyter-widgets/controls",
            "_view_module_version": "1.5.0",
            "_view_name": "HTMLView",
            "description": "",
            "description_tooltip": null,
            "layout": "IPY_MODEL_513a07508c9f48289087539f01537048",
            "placeholder": "​",
            "style": "IPY_MODEL_63b0048e788f4f5283f0de5feb6b25bb",
            "value": " 466k/466k [00:00&lt;00:00, 6.38MB/s]"
          }
        },
        "7a881c7d32384fba8c57c2efed57b32a": {
          "model_module": "@jupyter-widgets/controls",
          "model_module_version": "1.5.0",
          "model_name": "ProgressStyleModel",
          "state": {
            "_model_module": "@jupyter-widgets/controls",
            "_model_module_version": "1.5.0",
            "_model_name": "ProgressStyleModel",
            "_view_count": null,
            "_view_module": "@jupyter-widgets/base",
            "_view_module_version": "1.2.0",
            "_view_name": "StyleView",
            "bar_color": null,
            "description_width": ""
          }
        },
        "80b308f3297f40929fb8e9dba6cc33e6": {
          "model_module": "@jupyter-widgets/base",
          "model_module_version": "1.2.0",
          "model_name": "LayoutModel",
          "state": {
            "_model_module": "@jupyter-widgets/base",
            "_model_module_version": "1.2.0",
            "_model_name": "LayoutModel",
            "_view_count": null,
            "_view_module": "@jupyter-widgets/base",
            "_view_module_version": "1.2.0",
            "_view_name": "LayoutView",
            "align_content": null,
            "align_items": null,
            "align_self": null,
            "border": null,
            "bottom": null,
            "display": null,
            "flex": null,
            "flex_flow": null,
            "grid_area": null,
            "grid_auto_columns": null,
            "grid_auto_flow": null,
            "grid_auto_rows": null,
            "grid_column": null,
            "grid_gap": null,
            "grid_row": null,
            "grid_template_areas": null,
            "grid_template_columns": null,
            "grid_template_rows": null,
            "height": null,
            "justify_content": null,
            "justify_items": null,
            "left": null,
            "margin": null,
            "max_height": null,
            "max_width": null,
            "min_height": null,
            "min_width": null,
            "object_fit": null,
            "object_position": null,
            "order": null,
            "overflow": null,
            "overflow_x": null,
            "overflow_y": null,
            "padding": null,
            "right": null,
            "top": null,
            "visibility": null,
            "width": null
          }
        },
        "8af4f8ae1ed149c595db3986300e8309": {
          "model_module": "@jupyter-widgets/controls",
          "model_module_version": "1.5.0",
          "model_name": "ProgressStyleModel",
          "state": {
            "_model_module": "@jupyter-widgets/controls",
            "_model_module_version": "1.5.0",
            "_model_name": "ProgressStyleModel",
            "_view_count": null,
            "_view_module": "@jupyter-widgets/base",
            "_view_module_version": "1.2.0",
            "_view_name": "StyleView",
            "bar_color": null,
            "description_width": ""
          }
        },
        "8c27e20c58d145a28e75a1a5df3511b7": {
          "model_module": "@jupyter-widgets/controls",
          "model_module_version": "1.5.0",
          "model_name": "HBoxModel",
          "state": {
            "_dom_classes": [],
            "_model_module": "@jupyter-widgets/controls",
            "_model_module_version": "1.5.0",
            "_model_name": "HBoxModel",
            "_view_count": null,
            "_view_module": "@jupyter-widgets/controls",
            "_view_module_version": "1.5.0",
            "_view_name": "HBoxView",
            "box_style": "",
            "children": [
              "IPY_MODEL_d93615ac902d41b593cb692312d66d58",
              "IPY_MODEL_aff354b074324eb5adb79014985620c5",
              "IPY_MODEL_93d5267894ef4a678549e6574b459e76"
            ],
            "layout": "IPY_MODEL_efa0b7829ca1437d89565bc118b85436"
          }
        },
        "8d72b8d1699f4446bbb1f396ecb1e7d6": {
          "model_module": "@jupyter-widgets/base",
          "model_module_version": "1.2.0",
          "model_name": "LayoutModel",
          "state": {
            "_model_module": "@jupyter-widgets/base",
            "_model_module_version": "1.2.0",
            "_model_name": "LayoutModel",
            "_view_count": null,
            "_view_module": "@jupyter-widgets/base",
            "_view_module_version": "1.2.0",
            "_view_name": "LayoutView",
            "align_content": null,
            "align_items": null,
            "align_self": null,
            "border": null,
            "bottom": null,
            "display": null,
            "flex": null,
            "flex_flow": null,
            "grid_area": null,
            "grid_auto_columns": null,
            "grid_auto_flow": null,
            "grid_auto_rows": null,
            "grid_column": null,
            "grid_gap": null,
            "grid_row": null,
            "grid_template_areas": null,
            "grid_template_columns": null,
            "grid_template_rows": null,
            "height": null,
            "justify_content": null,
            "justify_items": null,
            "left": null,
            "margin": null,
            "max_height": null,
            "max_width": null,
            "min_height": null,
            "min_width": null,
            "object_fit": null,
            "object_position": null,
            "order": null,
            "overflow": null,
            "overflow_x": null,
            "overflow_y": null,
            "padding": null,
            "right": null,
            "top": null,
            "visibility": null,
            "width": null
          }
        },
        "93d5267894ef4a678549e6574b459e76": {
          "model_module": "@jupyter-widgets/controls",
          "model_module_version": "1.5.0",
          "model_name": "HTMLModel",
          "state": {
            "_dom_classes": [],
            "_model_module": "@jupyter-widgets/controls",
            "_model_module_version": "1.5.0",
            "_model_name": "HTMLModel",
            "_view_count": null,
            "_view_module": "@jupyter-widgets/controls",
            "_view_module_version": "1.5.0",
            "_view_name": "HTMLView",
            "description": "",
            "description_tooltip": null,
            "layout": "IPY_MODEL_f34e5436d4a54cf1a48a611c9f94e922",
            "placeholder": "​",
            "style": "IPY_MODEL_b18a87735e6e4ac3b3e6d8c72c44fe03",
            "value": " 232k/232k [00:00&lt;00:00, 3.14MB/s]"
          }
        },
        "97da5fa9dfd848d0b25445a59cd4cdfc": {
          "model_module": "@jupyter-widgets/base",
          "model_module_version": "1.2.0",
          "model_name": "LayoutModel",
          "state": {
            "_model_module": "@jupyter-widgets/base",
            "_model_module_version": "1.2.0",
            "_model_name": "LayoutModel",
            "_view_count": null,
            "_view_module": "@jupyter-widgets/base",
            "_view_module_version": "1.2.0",
            "_view_name": "LayoutView",
            "align_content": null,
            "align_items": null,
            "align_self": null,
            "border": null,
            "bottom": null,
            "display": null,
            "flex": null,
            "flex_flow": null,
            "grid_area": null,
            "grid_auto_columns": null,
            "grid_auto_flow": null,
            "grid_auto_rows": null,
            "grid_column": null,
            "grid_gap": null,
            "grid_row": null,
            "grid_template_areas": null,
            "grid_template_columns": null,
            "grid_template_rows": null,
            "height": null,
            "justify_content": null,
            "justify_items": null,
            "left": null,
            "margin": null,
            "max_height": null,
            "max_width": null,
            "min_height": null,
            "min_width": null,
            "object_fit": null,
            "object_position": null,
            "order": null,
            "overflow": null,
            "overflow_x": null,
            "overflow_y": null,
            "padding": null,
            "right": null,
            "top": null,
            "visibility": null,
            "width": null
          }
        },
        "9d5b74ddbcf34f47b2aadffa3137eb36": {
          "model_module": "@jupyter-widgets/base",
          "model_module_version": "1.2.0",
          "model_name": "LayoutModel",
          "state": {
            "_model_module": "@jupyter-widgets/base",
            "_model_module_version": "1.2.0",
            "_model_name": "LayoutModel",
            "_view_count": null,
            "_view_module": "@jupyter-widgets/base",
            "_view_module_version": "1.2.0",
            "_view_name": "LayoutView",
            "align_content": null,
            "align_items": null,
            "align_self": null,
            "border": null,
            "bottom": null,
            "display": null,
            "flex": null,
            "flex_flow": null,
            "grid_area": null,
            "grid_auto_columns": null,
            "grid_auto_flow": null,
            "grid_auto_rows": null,
            "grid_column": null,
            "grid_gap": null,
            "grid_row": null,
            "grid_template_areas": null,
            "grid_template_columns": null,
            "grid_template_rows": null,
            "height": null,
            "justify_content": null,
            "justify_items": null,
            "left": null,
            "margin": null,
            "max_height": null,
            "max_width": null,
            "min_height": null,
            "min_width": null,
            "object_fit": null,
            "object_position": null,
            "order": null,
            "overflow": null,
            "overflow_x": null,
            "overflow_y": null,
            "padding": null,
            "right": null,
            "top": null,
            "visibility": null,
            "width": null
          }
        },
        "a2db7ab446f246e3be6616d0266bc3c4": {
          "model_module": "@jupyter-widgets/controls",
          "model_module_version": "1.5.0",
          "model_name": "ProgressStyleModel",
          "state": {
            "_model_module": "@jupyter-widgets/controls",
            "_model_module_version": "1.5.0",
            "_model_name": "ProgressStyleModel",
            "_view_count": null,
            "_view_module": "@jupyter-widgets/base",
            "_view_module_version": "1.2.0",
            "_view_name": "StyleView",
            "bar_color": null,
            "description_width": ""
          }
        },
        "afaf2f1c91d44578826b266d38d3c641": {
          "model_module": "@jupyter-widgets/base",
          "model_module_version": "1.2.0",
          "model_name": "LayoutModel",
          "state": {
            "_model_module": "@jupyter-widgets/base",
            "_model_module_version": "1.2.0",
            "_model_name": "LayoutModel",
            "_view_count": null,
            "_view_module": "@jupyter-widgets/base",
            "_view_module_version": "1.2.0",
            "_view_name": "LayoutView",
            "align_content": null,
            "align_items": null,
            "align_self": null,
            "border": null,
            "bottom": null,
            "display": null,
            "flex": null,
            "flex_flow": null,
            "grid_area": null,
            "grid_auto_columns": null,
            "grid_auto_flow": null,
            "grid_auto_rows": null,
            "grid_column": null,
            "grid_gap": null,
            "grid_row": null,
            "grid_template_areas": null,
            "grid_template_columns": null,
            "grid_template_rows": null,
            "height": null,
            "justify_content": null,
            "justify_items": null,
            "left": null,
            "margin": null,
            "max_height": null,
            "max_width": null,
            "min_height": null,
            "min_width": null,
            "object_fit": null,
            "object_position": null,
            "order": null,
            "overflow": null,
            "overflow_x": null,
            "overflow_y": null,
            "padding": null,
            "right": null,
            "top": null,
            "visibility": null,
            "width": null
          }
        },
        "aff354b074324eb5adb79014985620c5": {
          "model_module": "@jupyter-widgets/controls",
          "model_module_version": "1.5.0",
          "model_name": "FloatProgressModel",
          "state": {
            "_dom_classes": [],
            "_model_module": "@jupyter-widgets/controls",
            "_model_module_version": "1.5.0",
            "_model_name": "FloatProgressModel",
            "_view_count": null,
            "_view_module": "@jupyter-widgets/controls",
            "_view_module_version": "1.5.0",
            "_view_name": "ProgressView",
            "bar_style": "success",
            "description": "",
            "description_tooltip": null,
            "layout": "IPY_MODEL_0194d3ba1b5c4e22aa0e39ebbe09d7e1",
            "max": 231508,
            "min": 0,
            "orientation": "horizontal",
            "style": "IPY_MODEL_8af4f8ae1ed149c595db3986300e8309",
            "value": 231508
          }
        },
        "b18a87735e6e4ac3b3e6d8c72c44fe03": {
          "model_module": "@jupyter-widgets/controls",
          "model_module_version": "1.5.0",
          "model_name": "DescriptionStyleModel",
          "state": {
            "_model_module": "@jupyter-widgets/controls",
            "_model_module_version": "1.5.0",
            "_model_name": "DescriptionStyleModel",
            "_view_count": null,
            "_view_module": "@jupyter-widgets/base",
            "_view_module_version": "1.2.0",
            "_view_name": "StyleView",
            "description_width": ""
          }
        },
        "b2ba7d3ab29347a0bd5bee57da351aa6": {
          "model_module": "@jupyter-widgets/base",
          "model_module_version": "1.2.0",
          "model_name": "LayoutModel",
          "state": {
            "_model_module": "@jupyter-widgets/base",
            "_model_module_version": "1.2.0",
            "_model_name": "LayoutModel",
            "_view_count": null,
            "_view_module": "@jupyter-widgets/base",
            "_view_module_version": "1.2.0",
            "_view_name": "LayoutView",
            "align_content": null,
            "align_items": null,
            "align_self": null,
            "border": null,
            "bottom": null,
            "display": null,
            "flex": null,
            "flex_flow": null,
            "grid_area": null,
            "grid_auto_columns": null,
            "grid_auto_flow": null,
            "grid_auto_rows": null,
            "grid_column": null,
            "grid_gap": null,
            "grid_row": null,
            "grid_template_areas": null,
            "grid_template_columns": null,
            "grid_template_rows": null,
            "height": null,
            "justify_content": null,
            "justify_items": null,
            "left": null,
            "margin": null,
            "max_height": null,
            "max_width": null,
            "min_height": null,
            "min_width": null,
            "object_fit": null,
            "object_position": null,
            "order": null,
            "overflow": null,
            "overflow_x": null,
            "overflow_y": null,
            "padding": null,
            "right": null,
            "top": null,
            "visibility": null,
            "width": null
          }
        },
        "b62c4b24aca240dea36374b2ff5ad2a4": {
          "model_module": "@jupyter-widgets/controls",
          "model_module_version": "1.5.0",
          "model_name": "HTMLModel",
          "state": {
            "_dom_classes": [],
            "_model_module": "@jupyter-widgets/controls",
            "_model_module_version": "1.5.0",
            "_model_name": "HTMLModel",
            "_view_count": null,
            "_view_module": "@jupyter-widgets/controls",
            "_view_module_version": "1.5.0",
            "_view_name": "HTMLView",
            "description": "",
            "description_tooltip": null,
            "layout": "IPY_MODEL_b2ba7d3ab29347a0bd5bee57da351aa6",
            "placeholder": "​",
            "style": "IPY_MODEL_e712ae20c6cc440a84c670cec4ef84ef",
            "value": " 570/570 [00:00&lt;00:00, 24.3kB/s]"
          }
        },
        "c82c3fda5e1440e29da20916551f070c": {
          "model_module": "@jupyter-widgets/controls",
          "model_module_version": "1.5.0",
          "model_name": "HBoxModel",
          "state": {
            "_dom_classes": [],
            "_model_module": "@jupyter-widgets/controls",
            "_model_module_version": "1.5.0",
            "_model_name": "HBoxModel",
            "_view_count": null,
            "_view_module": "@jupyter-widgets/controls",
            "_view_module_version": "1.5.0",
            "_view_name": "HBoxView",
            "box_style": "",
            "children": [
              "IPY_MODEL_0ed3743a4c02468594286ccf2e1b2151",
              "IPY_MODEL_6e41a645a8d843f4b50a1d1fded6546c",
              "IPY_MODEL_6ee87b3119694eb09ed0fa06ed9e11cc"
            ],
            "layout": "IPY_MODEL_e9fa351ab9bb4ab6bb7bcdf5ddb57f50"
          }
        },
        "d93615ac902d41b593cb692312d66d58": {
          "model_module": "@jupyter-widgets/controls",
          "model_module_version": "1.5.0",
          "model_name": "HTMLModel",
          "state": {
            "_dom_classes": [],
            "_model_module": "@jupyter-widgets/controls",
            "_model_module_version": "1.5.0",
            "_model_name": "HTMLModel",
            "_view_count": null,
            "_view_module": "@jupyter-widgets/controls",
            "_view_module_version": "1.5.0",
            "_view_name": "HTMLView",
            "description": "",
            "description_tooltip": null,
            "layout": "IPY_MODEL_036f61dd0a26443c87286f7ef5c12286",
            "placeholder": "​",
            "style": "IPY_MODEL_e72246d749734cfb9b003a40120ad823",
            "value": "vocab.txt: 100%"
          }
        },
        "dd66a2190555423e99d47281b45c8780": {
          "model_module": "@jupyter-widgets/controls",
          "model_module_version": "1.5.0",
          "model_name": "HBoxModel",
          "state": {
            "_dom_classes": [],
            "_model_module": "@jupyter-widgets/controls",
            "_model_module_version": "1.5.0",
            "_model_name": "HBoxModel",
            "_view_count": null,
            "_view_module": "@jupyter-widgets/controls",
            "_view_module_version": "1.5.0",
            "_view_name": "HBoxView",
            "box_style": "",
            "children": [
              "IPY_MODEL_2c5169a6fe6b4ca1ba674719091b0411",
              "IPY_MODEL_67a1a425b753405bb761323c9d569288",
              "IPY_MODEL_b62c4b24aca240dea36374b2ff5ad2a4"
            ],
            "layout": "IPY_MODEL_8d72b8d1699f4446bbb1f396ecb1e7d6"
          }
        },
        "e58253edca6c4388ad1571012607a5b3": {
          "model_module": "@jupyter-widgets/controls",
          "model_module_version": "1.5.0",
          "model_name": "HTMLModel",
          "state": {
            "_dom_classes": [],
            "_model_module": "@jupyter-widgets/controls",
            "_model_module_version": "1.5.0",
            "_model_name": "HTMLModel",
            "_view_count": null,
            "_view_module": "@jupyter-widgets/controls",
            "_view_module_version": "1.5.0",
            "_view_name": "HTMLView",
            "description": "",
            "description_tooltip": null,
            "layout": "IPY_MODEL_ef4a95b5e030473993680c859035961f",
            "placeholder": "​",
            "style": "IPY_MODEL_47d4be139e484fa3817e54b39261baca",
            "value": "tokenizer_config.json: 100%"
          }
        },
        "e712ae20c6cc440a84c670cec4ef84ef": {
          "model_module": "@jupyter-widgets/controls",
          "model_module_version": "1.5.0",
          "model_name": "DescriptionStyleModel",
          "state": {
            "_model_module": "@jupyter-widgets/controls",
            "_model_module_version": "1.5.0",
            "_model_name": "DescriptionStyleModel",
            "_view_count": null,
            "_view_module": "@jupyter-widgets/base",
            "_view_module_version": "1.2.0",
            "_view_name": "StyleView",
            "description_width": ""
          }
        },
        "e72246d749734cfb9b003a40120ad823": {
          "model_module": "@jupyter-widgets/controls",
          "model_module_version": "1.5.0",
          "model_name": "DescriptionStyleModel",
          "state": {
            "_model_module": "@jupyter-widgets/controls",
            "_model_module_version": "1.5.0",
            "_model_name": "DescriptionStyleModel",
            "_view_count": null,
            "_view_module": "@jupyter-widgets/base",
            "_view_module_version": "1.2.0",
            "_view_name": "StyleView",
            "description_width": ""
          }
        },
        "e8f94d439f5c4727a029bca7607ed943": {
          "model_module": "@jupyter-widgets/controls",
          "model_module_version": "1.5.0",
          "model_name": "DescriptionStyleModel",
          "state": {
            "_model_module": "@jupyter-widgets/controls",
            "_model_module_version": "1.5.0",
            "_model_name": "DescriptionStyleModel",
            "_view_count": null,
            "_view_module": "@jupyter-widgets/base",
            "_view_module_version": "1.2.0",
            "_view_name": "StyleView",
            "description_width": ""
          }
        },
        "e9fa351ab9bb4ab6bb7bcdf5ddb57f50": {
          "model_module": "@jupyter-widgets/base",
          "model_module_version": "1.2.0",
          "model_name": "LayoutModel",
          "state": {
            "_model_module": "@jupyter-widgets/base",
            "_model_module_version": "1.2.0",
            "_model_name": "LayoutModel",
            "_view_count": null,
            "_view_module": "@jupyter-widgets/base",
            "_view_module_version": "1.2.0",
            "_view_name": "LayoutView",
            "align_content": null,
            "align_items": null,
            "align_self": null,
            "border": null,
            "bottom": null,
            "display": null,
            "flex": null,
            "flex_flow": null,
            "grid_area": null,
            "grid_auto_columns": null,
            "grid_auto_flow": null,
            "grid_auto_rows": null,
            "grid_column": null,
            "grid_gap": null,
            "grid_row": null,
            "grid_template_areas": null,
            "grid_template_columns": null,
            "grid_template_rows": null,
            "height": null,
            "justify_content": null,
            "justify_items": null,
            "left": null,
            "margin": null,
            "max_height": null,
            "max_width": null,
            "min_height": null,
            "min_width": null,
            "object_fit": null,
            "object_position": null,
            "order": null,
            "overflow": null,
            "overflow_x": null,
            "overflow_y": null,
            "padding": null,
            "right": null,
            "top": null,
            "visibility": null,
            "width": null
          }
        },
        "ea9341ee1cdc4776983a12f63f85a8fa": {
          "model_module": "@jupyter-widgets/controls",
          "model_module_version": "1.5.0",
          "model_name": "HBoxModel",
          "state": {
            "_dom_classes": [],
            "_model_module": "@jupyter-widgets/controls",
            "_model_module_version": "1.5.0",
            "_model_name": "HBoxModel",
            "_view_count": null,
            "_view_module": "@jupyter-widgets/controls",
            "_view_module_version": "1.5.0",
            "_view_name": "HBoxView",
            "box_style": "",
            "children": [
              "IPY_MODEL_e58253edca6c4388ad1571012607a5b3",
              "IPY_MODEL_644076043b124404a895c279d9f4de97",
              "IPY_MODEL_6495be66653a4208b47ab91f7912bc56"
            ],
            "layout": "IPY_MODEL_afaf2f1c91d44578826b266d38d3c641"
          }
        },
        "ed4666135e4b4b9f8742d20a60a505b2": {
          "model_module": "@jupyter-widgets/base",
          "model_module_version": "1.2.0",
          "model_name": "LayoutModel",
          "state": {
            "_model_module": "@jupyter-widgets/base",
            "_model_module_version": "1.2.0",
            "_model_name": "LayoutModel",
            "_view_count": null,
            "_view_module": "@jupyter-widgets/base",
            "_view_module_version": "1.2.0",
            "_view_name": "LayoutView",
            "align_content": null,
            "align_items": null,
            "align_self": null,
            "border": null,
            "bottom": null,
            "display": null,
            "flex": null,
            "flex_flow": null,
            "grid_area": null,
            "grid_auto_columns": null,
            "grid_auto_flow": null,
            "grid_auto_rows": null,
            "grid_column": null,
            "grid_gap": null,
            "grid_row": null,
            "grid_template_areas": null,
            "grid_template_columns": null,
            "grid_template_rows": null,
            "height": null,
            "justify_content": null,
            "justify_items": null,
            "left": null,
            "margin": null,
            "max_height": null,
            "max_width": null,
            "min_height": null,
            "min_width": null,
            "object_fit": null,
            "object_position": null,
            "order": null,
            "overflow": null,
            "overflow_x": null,
            "overflow_y": null,
            "padding": null,
            "right": null,
            "top": null,
            "visibility": null,
            "width": null
          }
        },
        "ef4a95b5e030473993680c859035961f": {
          "model_module": "@jupyter-widgets/base",
          "model_module_version": "1.2.0",
          "model_name": "LayoutModel",
          "state": {
            "_model_module": "@jupyter-widgets/base",
            "_model_module_version": "1.2.0",
            "_model_name": "LayoutModel",
            "_view_count": null,
            "_view_module": "@jupyter-widgets/base",
            "_view_module_version": "1.2.0",
            "_view_name": "LayoutView",
            "align_content": null,
            "align_items": null,
            "align_self": null,
            "border": null,
            "bottom": null,
            "display": null,
            "flex": null,
            "flex_flow": null,
            "grid_area": null,
            "grid_auto_columns": null,
            "grid_auto_flow": null,
            "grid_auto_rows": null,
            "grid_column": null,
            "grid_gap": null,
            "grid_row": null,
            "grid_template_areas": null,
            "grid_template_columns": null,
            "grid_template_rows": null,
            "height": null,
            "justify_content": null,
            "justify_items": null,
            "left": null,
            "margin": null,
            "max_height": null,
            "max_width": null,
            "min_height": null,
            "min_width": null,
            "object_fit": null,
            "object_position": null,
            "order": null,
            "overflow": null,
            "overflow_x": null,
            "overflow_y": null,
            "padding": null,
            "right": null,
            "top": null,
            "visibility": null,
            "width": null
          }
        },
        "efa0b7829ca1437d89565bc118b85436": {
          "model_module": "@jupyter-widgets/base",
          "model_module_version": "1.2.0",
          "model_name": "LayoutModel",
          "state": {
            "_model_module": "@jupyter-widgets/base",
            "_model_module_version": "1.2.0",
            "_model_name": "LayoutModel",
            "_view_count": null,
            "_view_module": "@jupyter-widgets/base",
            "_view_module_version": "1.2.0",
            "_view_name": "LayoutView",
            "align_content": null,
            "align_items": null,
            "align_self": null,
            "border": null,
            "bottom": null,
            "display": null,
            "flex": null,
            "flex_flow": null,
            "grid_area": null,
            "grid_auto_columns": null,
            "grid_auto_flow": null,
            "grid_auto_rows": null,
            "grid_column": null,
            "grid_gap": null,
            "grid_row": null,
            "grid_template_areas": null,
            "grid_template_columns": null,
            "grid_template_rows": null,
            "height": null,
            "justify_content": null,
            "justify_items": null,
            "left": null,
            "margin": null,
            "max_height": null,
            "max_width": null,
            "min_height": null,
            "min_width": null,
            "object_fit": null,
            "object_position": null,
            "order": null,
            "overflow": null,
            "overflow_x": null,
            "overflow_y": null,
            "padding": null,
            "right": null,
            "top": null,
            "visibility": null,
            "width": null
          }
        },
        "f34e5436d4a54cf1a48a611c9f94e922": {
          "model_module": "@jupyter-widgets/base",
          "model_module_version": "1.2.0",
          "model_name": "LayoutModel",
          "state": {
            "_model_module": "@jupyter-widgets/base",
            "_model_module_version": "1.2.0",
            "_model_name": "LayoutModel",
            "_view_count": null,
            "_view_module": "@jupyter-widgets/base",
            "_view_module_version": "1.2.0",
            "_view_name": "LayoutView",
            "align_content": null,
            "align_items": null,
            "align_self": null,
            "border": null,
            "bottom": null,
            "display": null,
            "flex": null,
            "flex_flow": null,
            "grid_area": null,
            "grid_auto_columns": null,
            "grid_auto_flow": null,
            "grid_auto_rows": null,
            "grid_column": null,
            "grid_gap": null,
            "grid_row": null,
            "grid_template_areas": null,
            "grid_template_columns": null,
            "grid_template_rows": null,
            "height": null,
            "justify_content": null,
            "justify_items": null,
            "left": null,
            "margin": null,
            "max_height": null,
            "max_width": null,
            "min_height": null,
            "min_width": null,
            "object_fit": null,
            "object_position": null,
            "order": null,
            "overflow": null,
            "overflow_x": null,
            "overflow_y": null,
            "padding": null,
            "right": null,
            "top": null,
            "visibility": null,
            "width": null
          }
        }
      }
    }
  },
  "nbformat": 4,
  "nbformat_minor": 0
}
