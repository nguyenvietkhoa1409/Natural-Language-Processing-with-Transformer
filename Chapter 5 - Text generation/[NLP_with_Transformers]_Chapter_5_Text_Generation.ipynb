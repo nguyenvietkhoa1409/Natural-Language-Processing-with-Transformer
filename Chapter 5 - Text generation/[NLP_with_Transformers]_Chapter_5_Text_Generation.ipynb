{
  "cells": [
    {
      "cell_type": "code",
      "execution_count": null,
      "metadata": {
        "colab": {
          "base_uri": "https://localhost:8080/",
          "height": 400,
          "referenced_widgets": [
            "2c049824fb774d1388b12fd21fbe5426",
            "6df399636aa74c62ac6d4041e2c7adce",
            "7c85ee518d9d42edbf14defb5ee838c7",
            "4fbee83be47345438bc746bc89583334",
            "2f197a3947bf49e284b3ee460e5bff5e",
            "5fe5032d6ee54817a244c69336f70bfc",
            "b06e49106b644ce9b754c6d3def2b76a",
            "d651ddcb148842339ddb0ab00230ae68",
            "6e16b83819ca48dbbf6a4102d8724bee",
            "7a0ae634504f40a0aae7eda7b07c1939",
            "3dbb2d345e3143a0abef82a82899ab91",
            "0b176fafd7fa4e0b8ea6bc1b8d1fdcb2",
            "d84f3631f4964041852afb6bf1eea43a",
            "0103cd2cff5943809acb7079e36a5c6c",
            "4f78e1caad31400fa4537ebd3922c7ba",
            "d4cd75464f7645cd8e61b9ae64697ae0",
            "71576d1b2eb4451abe974860346c15d9",
            "e45a5e767c3048bfa410ab97954a1f9d",
            "c96f5704348b4287be96456e9c6a1c2a",
            "6c4a650bd1a148efb5576a55ea40d4b9",
            "387f751182e84b648ada987583a99284",
            "e1f5ae800d8e4cbd8f157382877ef542",
            "e2a3946fae1a4eeaa55efc10ae210302",
            "f3236cdf1db241108d1227b0a93bef87",
            "6e781bfb13f1412a884563332aa7d4c5",
            "50651a10d1e24132b210c2bafbb70122",
            "c6b49bf4bee142289e7c2a6c4970bd8b",
            "16a7d948ac22419f9bcb83c2f1b982d2",
            "aa8bc5b958b244f5a0bfcd4a84c0aa90",
            "b8e87d3bc63c4a14893691aa9a13f158",
            "a0791a9661064e2bbdb0c0af33033e04",
            "257275c6be304abebccc2da9b0d854ae",
            "3105c44e42b545b88b7fd54d25f44598",
            "d1c06fa920c049c7b6ffa532a30e0d99",
            "4d83ba94e7fe45008af1e6356713b542",
            "1abfbb7ce25e4416bd80140d58daaafe",
            "4acf2f8adc2a408d9774240d0e91f97f",
            "8fc0b8b57fdf4adb9d632bcf3444e618",
            "a7068ccf44944005bba7cbb3afd41037",
            "7fb2f67531b246f9804dbf7b77aebb6f",
            "35721502ec5648d4bb9c5464ddda5e04",
            "e97a2bf3d20441dba4ff9dbc43ef1cd4",
            "0981b84ed4f74682be88ef37fe1265cb",
            "9025cbff69f145dd945568cda018faf6",
            "7c10aab376ea421db9e4f39cba8100ff",
            "b9635f55fbb246a1b2d4c6d92fd44642",
            "a245caa6c9014f4794e3dd5710b50bc9",
            "7e9315e2e40e4989aae64cd2da366cf0",
            "37f24928289a427a86c5ff12f20c2f96",
            "788cea62152349528e425e6b335a3b59",
            "d1c7dfe1a27645b88154d362e7970712",
            "f03f7dd7214247beba076addc4456982",
            "f0d999f6e858449a9afb9f295c6f038a",
            "e77f92e2dae246a9ad9e5a856ea34ee6",
            "d116a581a12740e88d71f899c4d8a227",
            "6f86b7c4044745e99d37423e9cf6e55d",
            "4a042b8e3a0940b3a542a2f91c007788",
            "8e30922383f24f38949d17a5367f3879",
            "f7637a40ed0b454c8b52a48089ec6eeb",
            "743bd2dd3375433e99bcafaf364b5504",
            "3dd32cecbbce410c8b05239a826cba72",
            "bf57f8fea7204c91bedab266b73fc93c",
            "064ad6ae8c80445b80f4938e21234bf4",
            "cf74d564ccbb462ca9e04e84318d2ee4",
            "67bdec743f2c4ca19fbdce774a87f7ed",
            "5c32c90266e540fda705d0fef4f74060",
            "3f621743bcd74ebb9594ca61cbb9617a",
            "daa0b919671442aea79bb3084e22e0d4",
            "b4fde0f829814caf962c9c2c917fb64b",
            "a50924546d0a4544a5a3b4c13cdaa69c",
            "ae353fdc45794efcbb9352f62260c813",
            "26cd9c28aaab4651ab54aed0176233b1",
            "3a6cf6cc342c45d48cc7b34d06d3e3d7",
            "cb5b2ceee0914744a68cd0136fa68962",
            "9d2c2d779315473285ef17d1ddd6257a",
            "05d9adcb13a94246a51640f6f8e36715",
            "f63e207e845d4e6ab27f012110bf3ecc"
          ]
        },
        "id": "m-9L_mZQjXXs",
        "outputId": "642d2f7c-6efc-4030-ace8-1687b8eeb843"
      },
      "outputs": [
        {
          "name": "stderr",
          "output_type": "stream",
          "text": [
            "/usr/local/lib/python3.11/dist-packages/huggingface_hub/utils/_auth.py:94: UserWarning: \n",
            "The secret `HF_TOKEN` does not exist in your Colab secrets.\n",
            "To authenticate with the Hugging Face Hub, create a token in your settings tab (https://huggingface.co/settings/tokens), set it as secret in your Google Colab and restart your session.\n",
            "You will be able to reuse this secret in all of your notebooks.\n",
            "Please note that authentication is recommended but still optional to access public models or datasets.\n",
            "  warnings.warn(\n"
          ]
        },
        {
          "data": {
            "application/vnd.jupyter.widget-view+json": {
              "model_id": "2c049824fb774d1388b12fd21fbe5426",
              "version_major": 2,
              "version_minor": 0
            },
            "text/plain": [
              "tokenizer_config.json:   0%|          | 0.00/26.0 [00:00<?, ?B/s]"
            ]
          },
          "metadata": {},
          "output_type": "display_data"
        },
        {
          "data": {
            "application/vnd.jupyter.widget-view+json": {
              "model_id": "0b176fafd7fa4e0b8ea6bc1b8d1fdcb2",
              "version_major": 2,
              "version_minor": 0
            },
            "text/plain": [
              "config.json:   0%|          | 0.00/689 [00:00<?, ?B/s]"
            ]
          },
          "metadata": {},
          "output_type": "display_data"
        },
        {
          "data": {
            "application/vnd.jupyter.widget-view+json": {
              "model_id": "e2a3946fae1a4eeaa55efc10ae210302",
              "version_major": 2,
              "version_minor": 0
            },
            "text/plain": [
              "vocab.json:   0%|          | 0.00/1.04M [00:00<?, ?B/s]"
            ]
          },
          "metadata": {},
          "output_type": "display_data"
        },
        {
          "data": {
            "application/vnd.jupyter.widget-view+json": {
              "model_id": "d1c06fa920c049c7b6ffa532a30e0d99",
              "version_major": 2,
              "version_minor": 0
            },
            "text/plain": [
              "merges.txt:   0%|          | 0.00/456k [00:00<?, ?B/s]"
            ]
          },
          "metadata": {},
          "output_type": "display_data"
        },
        {
          "data": {
            "application/vnd.jupyter.widget-view+json": {
              "model_id": "7c10aab376ea421db9e4f39cba8100ff",
              "version_major": 2,
              "version_minor": 0
            },
            "text/plain": [
              "tokenizer.json:   0%|          | 0.00/1.36M [00:00<?, ?B/s]"
            ]
          },
          "metadata": {},
          "output_type": "display_data"
        },
        {
          "name": "stderr",
          "output_type": "stream",
          "text": [
            "Xet Storage is enabled for this repo, but the 'hf_xet' package is not installed. Falling back to regular HTTP download. For better performance, install the package with: `pip install huggingface_hub[hf_xet]` or `pip install hf_xet`\n",
            "WARNING:huggingface_hub.file_download:Xet Storage is enabled for this repo, but the 'hf_xet' package is not installed. Falling back to regular HTTP download. For better performance, install the package with: `pip install huggingface_hub[hf_xet]` or `pip install hf_xet`\n"
          ]
        },
        {
          "data": {
            "application/vnd.jupyter.widget-view+json": {
              "model_id": "6f86b7c4044745e99d37423e9cf6e55d",
              "version_major": 2,
              "version_minor": 0
            },
            "text/plain": [
              "model.safetensors:   0%|          | 0.00/6.43G [00:00<?, ?B/s]"
            ]
          },
          "metadata": {},
          "output_type": "display_data"
        },
        {
          "data": {
            "application/vnd.jupyter.widget-view+json": {
              "model_id": "3f621743bcd74ebb9594ca61cbb9617a",
              "version_major": 2,
              "version_minor": 0
            },
            "text/plain": [
              "generation_config.json:   0%|          | 0.00/124 [00:00<?, ?B/s]"
            ]
          },
          "metadata": {},
          "output_type": "display_data"
        }
      ],
      "source": [
        "import torch\n",
        "from transformers import AutoTokenizer, AutoModelForCausalLM\n",
        "\n",
        "device = 'cuda' if torch.cuda.is_available() else 'cpu'\n",
        "model_name = 'gpt2-xl'\n",
        "tokenizer = AutoTokenizer.from_pretrained(model_name)\n",
        "model = AutoModelForCausalLM.from_pretrained(model_name).to(device)"
      ]
    },
    {
      "cell_type": "code",
      "execution_count": null,
      "metadata": {
        "colab": {
          "base_uri": "https://localhost:8080/",
          "height": 300
        },
        "id": "_qc9Igua1z9A",
        "outputId": "cebf99ec-fad2-4134-a948-f326d4921c71"
      },
      "outputs": [
        {
          "data": {
            "application/vnd.google.colaboratory.intrinsic+json": {
              "summary": "{\n  \"name\": \"pd\",\n  \"rows\": 8,\n  \"fields\": [\n    {\n      \"column\": \"Input ids\",\n      \"properties\": {\n        \"dtype\": \"string\",\n        \"num_unique_values\": 8,\n        \"samples\": [\n          \"Transformers are the most\",\n          \"Transformers are the most popular toy line in\",\n          \"Transformers are the\"\n        ],\n        \"semantic_type\": \"\",\n        \"description\": \"\"\n      }\n    },\n    {\n      \"column\": \"choice 1\",\n      \"properties\": {\n        \"dtype\": \"string\",\n        \"num_unique_values\": 8,\n        \"samples\": [\n          \" popular (16.78%)\",\n          \" the (65.99%)\",\n          \" most (8.53%)\"\n        ],\n        \"semantic_type\": \"\",\n        \"description\": \"\"\n      }\n    },\n    {\n      \"column\": \"choice 2\",\n      \"properties\": {\n        \"dtype\": \"string\",\n        \"num_unique_values\": 8,\n        \"samples\": [\n          \" powerful (5.37%)\",\n          \" history (12.42%)\",\n          \" only (4.96%)\"\n        ],\n        \"semantic_type\": \"\",\n        \"description\": \"\"\n      }\n    },\n    {\n      \"column\": \"choice 3\",\n      \"properties\": {\n        \"dtype\": \"string\",\n        \"num_unique_values\": 8,\n        \"samples\": [\n          \" common (4.96%)\",\n          \" America (6.91%)\",\n          \" best (4.65%)\"\n        ],\n        \"semantic_type\": \"\",\n        \"description\": \"\"\n      }\n    },\n    {\n      \"column\": \"choice 4\",\n      \"properties\": {\n        \"dtype\": \"string\",\n        \"num_unique_values\": 8,\n        \"samples\": [\n          \" famous (3.72%)\",\n          \" Japan (2.44%)\",\n          \" Transformers (4.37%)\"\n        ],\n        \"semantic_type\": \"\",\n        \"description\": \"\"\n      }\n    },\n    {\n      \"column\": \"choice 5\",\n      \"properties\": {\n        \"dtype\": \"string\",\n        \"num_unique_values\": 8,\n        \"samples\": [\n          \" successful (3.20%)\",\n          \" North (1.40%)\",\n          \" ultimate (2.16%)\"\n        ],\n        \"semantic_type\": \"\",\n        \"description\": \"\"\n      }\n    }\n  ]\n}",
              "type": "dataframe"
            },
            "text/html": [
              "\n",
              "  <div id=\"df-52b9382b-aaf6-43af-99d9-22710fed1cb8\" class=\"colab-df-container\">\n",
              "    <div>\n",
              "<style scoped>\n",
              "    .dataframe tbody tr th:only-of-type {\n",
              "        vertical-align: middle;\n",
              "    }\n",
              "\n",
              "    .dataframe tbody tr th {\n",
              "        vertical-align: top;\n",
              "    }\n",
              "\n",
              "    .dataframe thead th {\n",
              "        text-align: right;\n",
              "    }\n",
              "</style>\n",
              "<table border=\"1\" class=\"dataframe\">\n",
              "  <thead>\n",
              "    <tr style=\"text-align: right;\">\n",
              "      <th></th>\n",
              "      <th>Input ids</th>\n",
              "      <th>choice 1</th>\n",
              "      <th>choice 2</th>\n",
              "      <th>choice 3</th>\n",
              "      <th>choice 4</th>\n",
              "      <th>choice 5</th>\n",
              "    </tr>\n",
              "  </thead>\n",
              "  <tbody>\n",
              "    <tr>\n",
              "      <th>0</th>\n",
              "      <td>Transformers are the</td>\n",
              "      <td>most (8.53%)</td>\n",
              "      <td>only (4.96%)</td>\n",
              "      <td>best (4.65%)</td>\n",
              "      <td>Transformers (4.37%)</td>\n",
              "      <td>ultimate (2.16%)</td>\n",
              "    </tr>\n",
              "    <tr>\n",
              "      <th>1</th>\n",
              "      <td>Transformers are the most</td>\n",
              "      <td>popular (16.78%)</td>\n",
              "      <td>powerful (5.37%)</td>\n",
              "      <td>common (4.96%)</td>\n",
              "      <td>famous (3.72%)</td>\n",
              "      <td>successful (3.20%)</td>\n",
              "    </tr>\n",
              "    <tr>\n",
              "      <th>2</th>\n",
              "      <td>Transformers are the most popular</td>\n",
              "      <td>toy (10.63%)</td>\n",
              "      <td>toys (7.23%)</td>\n",
              "      <td>Transformers (6.60%)</td>\n",
              "      <td>of (5.46%)</td>\n",
              "      <td>and (3.76%)</td>\n",
              "    </tr>\n",
              "    <tr>\n",
              "      <th>3</th>\n",
              "      <td>Transformers are the most popular toy</td>\n",
              "      <td>line (34.38%)</td>\n",
              "      <td>in (18.20%)</td>\n",
              "      <td>of (11.71%)</td>\n",
              "      <td>brand (6.10%)</td>\n",
              "      <td>line (2.69%)</td>\n",
              "    </tr>\n",
              "    <tr>\n",
              "      <th>4</th>\n",
              "      <td>Transformers are the most popular toy line</td>\n",
              "      <td>in (46.28%)</td>\n",
              "      <td>of (15.09%)</td>\n",
              "      <td>, (4.94%)</td>\n",
              "      <td>on (4.40%)</td>\n",
              "      <td>ever (2.72%)</td>\n",
              "    </tr>\n",
              "    <tr>\n",
              "      <th>5</th>\n",
              "      <td>Transformers are the most popular toy line in</td>\n",
              "      <td>the (65.99%)</td>\n",
              "      <td>history (12.42%)</td>\n",
              "      <td>America (6.91%)</td>\n",
              "      <td>Japan (2.44%)</td>\n",
              "      <td>North (1.40%)</td>\n",
              "    </tr>\n",
              "    <tr>\n",
              "      <th>6</th>\n",
              "      <td>Transformers are the most popular toy line in the</td>\n",
              "      <td>world (69.26%)</td>\n",
              "      <td>United (4.55%)</td>\n",
              "      <td>history (4.29%)</td>\n",
              "      <td>US (4.23%)</td>\n",
              "      <td>U (2.30%)</td>\n",
              "    </tr>\n",
              "    <tr>\n",
              "      <th>7</th>\n",
              "      <td>Transformers are the most popular toy line in ...</td>\n",
              "      <td>, (39.73%)</td>\n",
              "      <td>. (30.64%)</td>\n",
              "      <td>and (9.87%)</td>\n",
              "      <td>with (2.32%)</td>\n",
              "      <td>today (1.74%)</td>\n",
              "    </tr>\n",
              "  </tbody>\n",
              "</table>\n",
              "</div>\n",
              "    <div class=\"colab-df-buttons\">\n",
              "\n",
              "  <div class=\"colab-df-container\">\n",
              "    <button class=\"colab-df-convert\" onclick=\"convertToInteractive('df-52b9382b-aaf6-43af-99d9-22710fed1cb8')\"\n",
              "            title=\"Convert this dataframe to an interactive table.\"\n",
              "            style=\"display:none;\">\n",
              "\n",
              "  <svg xmlns=\"http://www.w3.org/2000/svg\" height=\"24px\" viewBox=\"0 -960 960 960\">\n",
              "    <path d=\"M120-120v-720h720v720H120Zm60-500h600v-160H180v160Zm220 220h160v-160H400v160Zm0 220h160v-160H400v160ZM180-400h160v-160H180v160Zm440 0h160v-160H620v160ZM180-180h160v-160H180v160Zm440 0h160v-160H620v160Z\"/>\n",
              "  </svg>\n",
              "    </button>\n",
              "\n",
              "  <style>\n",
              "    .colab-df-container {\n",
              "      display:flex;\n",
              "      gap: 12px;\n",
              "    }\n",
              "\n",
              "    .colab-df-convert {\n",
              "      background-color: #E8F0FE;\n",
              "      border: none;\n",
              "      border-radius: 50%;\n",
              "      cursor: pointer;\n",
              "      display: none;\n",
              "      fill: #1967D2;\n",
              "      height: 32px;\n",
              "      padding: 0 0 0 0;\n",
              "      width: 32px;\n",
              "    }\n",
              "\n",
              "    .colab-df-convert:hover {\n",
              "      background-color: #E2EBFA;\n",
              "      box-shadow: 0px 1px 2px rgba(60, 64, 67, 0.3), 0px 1px 3px 1px rgba(60, 64, 67, 0.15);\n",
              "      fill: #174EA6;\n",
              "    }\n",
              "\n",
              "    .colab-df-buttons div {\n",
              "      margin-bottom: 4px;\n",
              "    }\n",
              "\n",
              "    [theme=dark] .colab-df-convert {\n",
              "      background-color: #3B4455;\n",
              "      fill: #D2E3FC;\n",
              "    }\n",
              "\n",
              "    [theme=dark] .colab-df-convert:hover {\n",
              "      background-color: #434B5C;\n",
              "      box-shadow: 0px 1px 3px 1px rgba(0, 0, 0, 0.15);\n",
              "      filter: drop-shadow(0px 1px 2px rgba(0, 0, 0, 0.3));\n",
              "      fill: #FFFFFF;\n",
              "    }\n",
              "  </style>\n",
              "\n",
              "    <script>\n",
              "      const buttonEl =\n",
              "        document.querySelector('#df-52b9382b-aaf6-43af-99d9-22710fed1cb8 button.colab-df-convert');\n",
              "      buttonEl.style.display =\n",
              "        google.colab.kernel.accessAllowed ? 'block' : 'none';\n",
              "\n",
              "      async function convertToInteractive(key) {\n",
              "        const element = document.querySelector('#df-52b9382b-aaf6-43af-99d9-22710fed1cb8');\n",
              "        const dataTable =\n",
              "          await google.colab.kernel.invokeFunction('convertToInteractive',\n",
              "                                                    [key], {});\n",
              "        if (!dataTable) return;\n",
              "\n",
              "        const docLinkHtml = 'Like what you see? Visit the ' +\n",
              "          '<a target=\"_blank\" href=https://colab.research.google.com/notebooks/data_table.ipynb>data table notebook</a>'\n",
              "          + ' to learn more about interactive tables.';\n",
              "        element.innerHTML = '';\n",
              "        dataTable['output_type'] = 'display_data';\n",
              "        await google.colab.output.renderOutput(dataTable, element);\n",
              "        const docLink = document.createElement('div');\n",
              "        docLink.innerHTML = docLinkHtml;\n",
              "        element.appendChild(docLink);\n",
              "      }\n",
              "    </script>\n",
              "  </div>\n",
              "\n",
              "\n",
              "    <div id=\"df-b84cabe1-2f86-49ab-b388-71b4fd1cde70\">\n",
              "      <button class=\"colab-df-quickchart\" onclick=\"quickchart('df-b84cabe1-2f86-49ab-b388-71b4fd1cde70')\"\n",
              "                title=\"Suggest charts\"\n",
              "                style=\"display:none;\">\n",
              "\n",
              "<svg xmlns=\"http://www.w3.org/2000/svg\" height=\"24px\"viewBox=\"0 0 24 24\"\n",
              "     width=\"24px\">\n",
              "    <g>\n",
              "        <path d=\"M19 3H5c-1.1 0-2 .9-2 2v14c0 1.1.9 2 2 2h14c1.1 0 2-.9 2-2V5c0-1.1-.9-2-2-2zM9 17H7v-7h2v7zm4 0h-2V7h2v10zm4 0h-2v-4h2v4z\"/>\n",
              "    </g>\n",
              "</svg>\n",
              "      </button>\n",
              "\n",
              "<style>\n",
              "  .colab-df-quickchart {\n",
              "      --bg-color: #E8F0FE;\n",
              "      --fill-color: #1967D2;\n",
              "      --hover-bg-color: #E2EBFA;\n",
              "      --hover-fill-color: #174EA6;\n",
              "      --disabled-fill-color: #AAA;\n",
              "      --disabled-bg-color: #DDD;\n",
              "  }\n",
              "\n",
              "  [theme=dark] .colab-df-quickchart {\n",
              "      --bg-color: #3B4455;\n",
              "      --fill-color: #D2E3FC;\n",
              "      --hover-bg-color: #434B5C;\n",
              "      --hover-fill-color: #FFFFFF;\n",
              "      --disabled-bg-color: #3B4455;\n",
              "      --disabled-fill-color: #666;\n",
              "  }\n",
              "\n",
              "  .colab-df-quickchart {\n",
              "    background-color: var(--bg-color);\n",
              "    border: none;\n",
              "    border-radius: 50%;\n",
              "    cursor: pointer;\n",
              "    display: none;\n",
              "    fill: var(--fill-color);\n",
              "    height: 32px;\n",
              "    padding: 0;\n",
              "    width: 32px;\n",
              "  }\n",
              "\n",
              "  .colab-df-quickchart:hover {\n",
              "    background-color: var(--hover-bg-color);\n",
              "    box-shadow: 0 1px 2px rgba(60, 64, 67, 0.3), 0 1px 3px 1px rgba(60, 64, 67, 0.15);\n",
              "    fill: var(--button-hover-fill-color);\n",
              "  }\n",
              "\n",
              "  .colab-df-quickchart-complete:disabled,\n",
              "  .colab-df-quickchart-complete:disabled:hover {\n",
              "    background-color: var(--disabled-bg-color);\n",
              "    fill: var(--disabled-fill-color);\n",
              "    box-shadow: none;\n",
              "  }\n",
              "\n",
              "  .colab-df-spinner {\n",
              "    border: 2px solid var(--fill-color);\n",
              "    border-color: transparent;\n",
              "    border-bottom-color: var(--fill-color);\n",
              "    animation:\n",
              "      spin 1s steps(1) infinite;\n",
              "  }\n",
              "\n",
              "  @keyframes spin {\n",
              "    0% {\n",
              "      border-color: transparent;\n",
              "      border-bottom-color: var(--fill-color);\n",
              "      border-left-color: var(--fill-color);\n",
              "    }\n",
              "    20% {\n",
              "      border-color: transparent;\n",
              "      border-left-color: var(--fill-color);\n",
              "      border-top-color: var(--fill-color);\n",
              "    }\n",
              "    30% {\n",
              "      border-color: transparent;\n",
              "      border-left-color: var(--fill-color);\n",
              "      border-top-color: var(--fill-color);\n",
              "      border-right-color: var(--fill-color);\n",
              "    }\n",
              "    40% {\n",
              "      border-color: transparent;\n",
              "      border-right-color: var(--fill-color);\n",
              "      border-top-color: var(--fill-color);\n",
              "    }\n",
              "    60% {\n",
              "      border-color: transparent;\n",
              "      border-right-color: var(--fill-color);\n",
              "    }\n",
              "    80% {\n",
              "      border-color: transparent;\n",
              "      border-right-color: var(--fill-color);\n",
              "      border-bottom-color: var(--fill-color);\n",
              "    }\n",
              "    90% {\n",
              "      border-color: transparent;\n",
              "      border-bottom-color: var(--fill-color);\n",
              "    }\n",
              "  }\n",
              "</style>\n",
              "\n",
              "      <script>\n",
              "        async function quickchart(key) {\n",
              "          const quickchartButtonEl =\n",
              "            document.querySelector('#' + key + ' button');\n",
              "          quickchartButtonEl.disabled = true;  // To prevent multiple clicks.\n",
              "          quickchartButtonEl.classList.add('colab-df-spinner');\n",
              "          try {\n",
              "            const charts = await google.colab.kernel.invokeFunction(\n",
              "                'suggestCharts', [key], {});\n",
              "          } catch (error) {\n",
              "            console.error('Error during call to suggestCharts:', error);\n",
              "          }\n",
              "          quickchartButtonEl.classList.remove('colab-df-spinner');\n",
              "          quickchartButtonEl.classList.add('colab-df-quickchart-complete');\n",
              "        }\n",
              "        (() => {\n",
              "          let quickchartButtonEl =\n",
              "            document.querySelector('#df-b84cabe1-2f86-49ab-b388-71b4fd1cde70 button');\n",
              "          quickchartButtonEl.style.display =\n",
              "            google.colab.kernel.accessAllowed ? 'block' : 'none';\n",
              "        })();\n",
              "      </script>\n",
              "    </div>\n",
              "\n",
              "    </div>\n",
              "  </div>\n"
            ],
            "text/plain": [
              "                                           Input ids           choice 1  \\\n",
              "0                               Transformers are the       most (8.53%)   \n",
              "1                          Transformers are the most   popular (16.78%)   \n",
              "2                  Transformers are the most popular       toy (10.63%)   \n",
              "3              Transformers are the most popular toy      line (34.38%)   \n",
              "4         Transformers are the most popular toy line        in (46.28%)   \n",
              "5      Transformers are the most popular toy line in       the (65.99%)   \n",
              "6  Transformers are the most popular toy line in the     world (69.26%)   \n",
              "7  Transformers are the most popular toy line in ...         , (39.73%)   \n",
              "\n",
              "            choice 2               choice 3               choice 4  \\\n",
              "0       only (4.96%)           best (4.65%)   Transformers (4.37%)   \n",
              "1   powerful (5.37%)         common (4.96%)         famous (3.72%)   \n",
              "2       toys (7.23%)   Transformers (6.60%)             of (5.46%)   \n",
              "3        in (18.20%)            of (11.71%)          brand (6.10%)   \n",
              "4        of (15.09%)              , (4.94%)             on (4.40%)   \n",
              "5   history (12.42%)        America (6.91%)          Japan (2.44%)   \n",
              "6     United (4.55%)        history (4.29%)             US (4.23%)   \n",
              "7         . (30.64%)            and (9.87%)           with (2.32%)   \n",
              "\n",
              "              choice 5  \n",
              "0     ultimate (2.16%)  \n",
              "1   successful (3.20%)  \n",
              "2          and (3.76%)  \n",
              "3         line (2.69%)  \n",
              "4         ever (2.72%)  \n",
              "5        North (1.40%)  \n",
              "6            U (2.30%)  \n",
              "7        today (1.74%)  "
            ]
          },
          "execution_count": 2,
          "metadata": {},
          "output_type": "execute_result"
        }
      ],
      "source": [
        "import pandas as pd\n",
        "input_txt = 'Transformers are the'\n",
        "input_ids = tokenizer(input_txt, return_tensors = 'pt')['input_ids'].to(device)\n",
        "iterations = []\n",
        "n_steps = 8\n",
        "choices_per_step = 5\n",
        "\n",
        "with torch.no_grad():\n",
        "  for _ in range(n_steps):\n",
        "    iteration = dict()\n",
        "    iteration['Input ids'] = tokenizer.decode(input_ids[0]) #input_ids has (batch_size, seq_len) shape\n",
        "    output = model(input_ids = input_ids)\n",
        "    #Select logits of the first batch + last token\n",
        "    next_token_logits = output.logits[0, -1, :]\n",
        "    next_token_probs = torch.softmax(next_token_logits, dim = -1)\n",
        "    #Choose the most probable token\n",
        "    sorted_ids = torch.argsort(next_token_probs, dim = -1, descending = True)\n",
        "    #Store token with the highest prob\n",
        "    for choice_idx in range(choices_per_step):\n",
        "      token_id = sorted_ids[choice_idx]\n",
        "      token_prob = next_token_probs[token_id].cpu().numpy()\n",
        "      token_choice = (\n",
        "          f'{tokenizer.decode(token_id)} ({100*token_prob:.2f}%)'\n",
        "      )\n",
        "      iteration[f'choice {choice_idx + 1}'] = token_choice\n",
        "    #Append predicted next token to input\n",
        "    input_ids = torch.cat([input_ids, sorted_ids[None, 0, None]], dim = -1)\n",
        "    iterations.append(iteration)\n",
        "pd.DataFrame(iterations)\n"
      ]
    },
    {
      "cell_type": "code",
      "execution_count": null,
      "metadata": {
        "id": "H1i-CD1J3jxv"
      },
      "outputs": [],
      "source": [
        "example = tokenizer(input_txt, return_tensors = 'pt')['input_ids']"
      ]
    },
    {
      "cell_type": "markdown",
      "metadata": {
        "id": "-mN3ZLhf1xUv"
      },
      "source": [
        "Use the built-in `generate()` function:"
      ]
    },
    {
      "cell_type": "code",
      "execution_count": null,
      "metadata": {
        "colab": {
          "base_uri": "https://localhost:8080/"
        },
        "id": "wTDhXcti13I0",
        "outputId": "19e7bb12-258f-4557-b9ca-9d63dcffaff5"
      },
      "outputs": [
        {
          "name": "stderr",
          "output_type": "stream",
          "text": [
            "The attention mask and the pad token id were not set. As a consequence, you may observe unexpected behavior. Please pass your input's `attention_mask` to obtain reliable results.\n",
            "Setting `pad_token_id` to `eos_token_id`:50256 for open-end generation.\n",
            "The attention mask is not set and cannot be inferred from input because pad token is same as eos token. As a consequence, you may observe unexpected behavior. Please pass your input's `attention_mask` to obtain reliable results.\n"
          ]
        },
        {
          "name": "stdout",
          "output_type": "stream",
          "text": [
            "Transformers are the most popular toy line in the world,\n"
          ]
        }
      ],
      "source": [
        "input_ids = tokenizer(input_txt, return_tensors = 'pt')['input_ids'].to(device)\n",
        "output = model.generate(input_ids,\n",
        "                        max_new_tokens = n_steps,\n",
        "                        do_sample = False)\n",
        "print(tokenizer.decode(output[0]))"
      ]
    },
    {
      "cell_type": "markdown",
      "metadata": {
        "id": "wJP3JhKM2zJ4"
      },
      "source": [
        "Reproduce the Unicorn Story:"
      ]
    },
    {
      "cell_type": "code",
      "execution_count": null,
      "metadata": {
        "colab": {
          "base_uri": "https://localhost:8080/"
        },
        "id": "6h-oN4I72nOC",
        "outputId": "92bab907-1b6e-4594-ef3c-52318e55e40d"
      },
      "outputs": [
        {
          "name": "stderr",
          "output_type": "stream",
          "text": [
            "The attention mask and the pad token id were not set. As a consequence, you may observe unexpected behavior. Please pass your input's `attention_mask` to obtain reliable results.\n",
            "Setting `pad_token_id` to `eos_token_id`:50256 for open-end generation.\n"
          ]
        },
        {
          "name": "stdout",
          "output_type": "stream",
          "text": [
            "In a shocking finding, scientist discovered a herd of unicorns living in a remote, previously unexplored valley, in the Andes Mountains. Even more surprising to the researchers was the fact that the unicorns spoke perfect English.\n",
            "\n",
            "\n",
            "The researchers, from the University of California, Davis, and the University of Colorado, Boulder, were conducting a study on the Andean cloud forest, which is home to the rare species of cloud forest trees.\n",
            "\n",
            "\n",
            "The researchers were surprised to find that the unicorns were able to communicate with each other, and even with humans.\n",
            "\n",
            "\n",
            "The researchers were surprised to find that the unicorns were able to communicate with each other, and even with humans.\n",
            "\n",
            "The researchers were surprised to find that the unicorns were able to communicate with each other, and even with humans.\n",
            "\n",
            "The researchers were surprised to find that the unic\n"
          ]
        }
      ],
      "source": [
        "max_length = 128\n",
        "input_txt = \"\"\"In a shocking finding, scientist discovered \\\n",
        "a herd of unicorns living in a remote, previously unexplored \\\n",
        "valley, in the Andes Mountains. Even more surprising to the \\\n",
        "researchers was the fact that the unicorns spoke perfect English.\\n\\n\n",
        "\"\"\"\n",
        "input_ids = tokenizer(input_txt, return_tensors = 'pt')['input_ids'].to(device)\n",
        "output_greedy = model.generate(\n",
        "    input_ids,\n",
        "    max_new_tokens = max_length,\n",
        "    do_sample = False\n",
        ")\n",
        "print(tokenizer.decode(output_greedy[0]))"
      ]
    },
    {
      "cell_type": "code",
      "execution_count": null,
      "metadata": {
        "colab": {
          "base_uri": "https://localhost:8080/"
        },
        "collapsed": true,
        "id": "QaG9e9IL5cuN",
        "outputId": "7d9a4f44-5f1d-4787-c88e-1744f8850200"
      },
      "outputs": [
        {
          "name": "stdout",
          "output_type": "stream",
          "text": [
            "tensor([[  818,   257, 14702,  4917,    11, 11444,  5071,   257, 27638,   286,\n",
            "         28000, 19942,  2877,   287,   257,  6569,    11,  4271, 31286,  1850,\n",
            "         19272,    11,   287,   262,   843,   274, 21124,    13,  3412,   517,\n",
            "          6452,   284,   262,  4837,   373,   262,  1109,   326,   262, 28000,\n",
            "         19942,  5158,  2818,  3594,    13,   628,   198,   464,  4837,    11,\n",
            "           422,   262,  2059,   286,  3442,    11,  7802,    11,   290,   262,\n",
            "          2059,   286,  7492,    11, 27437,    11,   547, 14523,   257,  2050,\n",
            "           319,   262,   843, 11025,  6279,  8222,    11,   543,   318,  1363,\n",
            "           284,   262,  4071,  4693,   286,  6279,  8222,  7150,    13,   628,\n",
            "           198,   464,  4837,   547,  6655,   284,  1064,   326,   262, 28000,\n",
            "         19942,   547,  1498,   284, 10996,   351,  1123,   584,    11,   290,\n",
            "           772,   351,  5384,    13,   628,   198,   464,  4837,   547,  6655,\n",
            "           284,  1064,   326,   262, 28000, 19942,   547,  1498,   284, 10996,\n",
            "           351,  1123,   584,    11,   290,   772,   351,  5384,    13,   198,\n",
            "           198,   464,  4837,   547,  6655,   284,  1064,   326,   262, 28000,\n",
            "         19942,   547,  1498,   284, 10996,   351,  1123,   584,    11,   290,\n",
            "           772,   351,  5384,    13,   198,   198,   464,  4837,   547,  6655,\n",
            "           284,  1064,   326,   262, 28000]], device='cuda:0')\n"
          ]
        }
      ],
      "source": [
        "print(output_greedy)\n"
      ]
    },
    {
      "cell_type": "code",
      "execution_count": null,
      "metadata": {
        "colab": {
          "base_uri": "https://localhost:8080/"
        },
        "id": "n7kJP6Ym6IqS",
        "outputId": "6d302307-6bb7-40db-8236-1cd3423ee1f1"
      },
      "outputs": [
        {
          "name": "stdout",
          "output_type": "stream",
          "text": [
            "['__annotations__', '__class__', '__class_getitem__', '__contains__', '__dataclass_fields__', '__dataclass_params__', '__delattr__', '__delitem__', '__dict__', '__dir__', '__doc__', '__eq__', '__format__', '__ge__', '__getattribute__', '__getitem__', '__getstate__', '__gt__', '__hash__', '__init__', '__init_subclass__', '__ior__', '__iter__', '__le__', '__len__', '__lt__', '__match_args__', '__module__', '__ne__', '__new__', '__or__', '__post_init__', '__reduce__', '__reduce_ex__', '__repr__', '__reversed__', '__ror__', '__setattr__', '__setitem__', '__sizeof__', '__str__', '__subclasshook__', 'attentions', 'clear', 'copy', 'cross_attentions', 'fromkeys', 'get', 'hidden_states', 'items', 'keys', 'logits', 'loss', 'move_to_end', 'past_key_values', 'pop', 'popitem', 'setdefault', 'to_tuple', 'update', 'values']\n"
          ]
        }
      ],
      "source": [
        "output = model(output_greedy)\n",
        "print(dir(output))"
      ]
    },
    {
      "cell_type": "code",
      "execution_count": null,
      "metadata": {
        "colab": {
          "base_uri": "https://localhost:8080/"
        },
        "id": "nnOc3i-m7SJn",
        "outputId": "3bcec8ff-27ba-499a-8fe0-05f7575493a2"
      },
      "outputs": [
        {
          "name": "stdout",
          "output_type": "stream",
          "text": [
            "torch.Size([1, 175, 50257])\n"
          ]
        }
      ],
      "source": [
        "print(output.logits.shape) #batch_size x token x vocab_size (unnormalized logits)"
      ]
    },
    {
      "cell_type": "code",
      "execution_count": null,
      "metadata": {
        "colab": {
          "base_uri": "https://localhost:8080/"
        },
        "id": "F6qYU0587xuW",
        "outputId": "6472b19f-adb0-4c46-a493-da8f2287b917"
      },
      "outputs": [
        {
          "data": {
            "text/plain": [
              "tensor([[[  0.0519,   1.1745,  -2.8043,  ...,  -6.1696,  -7.5409,  -0.8956],\n",
              "         [ -0.9206,   0.1538,  -3.6908,  ...,  -6.0280,  -5.7153,  -0.0161],\n",
              "         [  1.0610,   1.7739,  -2.7187,  ...,  -5.4062,  -8.3658,  -0.6438],\n",
              "         ...,\n",
              "         [ -2.0582,  -2.4868,  -6.8683,  ...,  -4.1920,  -7.0431,  -2.9785],\n",
              "         [ -0.6032,  -0.9319,  -4.5378,  ...,  -3.7293,  -5.8814,  -1.3112],\n",
              "         [ -2.5688,  -3.5689,  -6.2753,  ..., -11.5315,  -9.8309,  -3.3857]]],\n",
              "       device='cuda:0', grad_fn=<SliceBackward0>)"
            ]
          },
          "execution_count": 12,
          "metadata": {},
          "output_type": "execute_result"
        }
      ],
      "source": [
        "output.logits[:, :-1, :]"
      ]
    },
    {
      "cell_type": "markdown",
      "metadata": {
        "id": "caiu2xzI3VRS"
      },
      "source": [
        "<h2> Beam Search Decoding </h2>"
      ]
    },
    {
      "cell_type": "markdown",
      "metadata": {
        "id": "BqqWS1Cq7_Ra"
      },
      "source": [
        "Example of implementing `log_probs_from_logits` function"
      ]
    },
    {
      "cell_type": "code",
      "execution_count": null,
      "metadata": {
        "id": "j6H_gaft7BgM"
      },
      "outputs": [],
      "source": [
        "#Visual example of log_probs_from_logits function:\n",
        "logits = torch.tensor([[[2.0, 1.0, 0.1],  # predicts token 0\n",
        "                        [0.2, 2.5, 1.0]]])  # predicts token 1\n",
        "labels = torch.tensor([[0, 1]])"
      ]
    },
    {
      "cell_type": "code",
      "execution_count": null,
      "metadata": {
        "colab": {
          "base_uri": "https://localhost:8080/"
        },
        "id": "gC0jip2P7IsM",
        "outputId": "69bd9ca9-1816-40aa-f3fb-b0625c30a852"
      },
      "outputs": [
        {
          "data": {
            "text/plain": [
              "tensor([[[0.6590, 0.2424, 0.0986],\n",
              "         [0.0758, 0.7556, 0.1686]]])"
            ]
          },
          "execution_count": 17,
          "metadata": {},
          "output_type": "execute_result"
        }
      ],
      "source": [
        "probs = F.softmax(logits, dim = -1)\n",
        "probs\n",
        "#produce the probability value. But due to the problem of underflow while calculating the product of multipel probs, we convert the prob value to log-prob value"
      ]
    },
    {
      "cell_type": "code",
      "execution_count": null,
      "metadata": {
        "colab": {
          "base_uri": "https://localhost:8080/"
        },
        "id": "LWyHYAvx7f_r",
        "outputId": "05e315c9-ab3e-4406-bcf0-0b5fac8843d1"
      },
      "outputs": [
        {
          "data": {
            "text/plain": [
              "tensor([[[-0.4170, -1.4170, -2.3170],\n",
              "         [-2.5802, -0.2802, -1.7802]]])"
            ]
          },
          "execution_count": 18,
          "metadata": {},
          "output_type": "execute_result"
        }
      ],
      "source": [
        "#convert to log_probs\n",
        "log_probs = F.log_softmax(logits, dim = -1)\n",
        "log_probs"
      ]
    },
    {
      "cell_type": "code",
      "execution_count": null,
      "metadata": {
        "colab": {
          "base_uri": "https://localhost:8080/"
        },
        "id": "lwdaWv1C79H4",
        "outputId": "f31008cb-2f59-4549-86ff-62291e4e5d49"
      },
      "outputs": [
        {
          "data": {
            "text/plain": [
              "tensor([[-0.4170, -0.2802]])"
            ]
          },
          "execution_count": 26,
          "metadata": {},
          "output_type": "execute_result"
        }
      ],
      "source": [
        "#log_probs: batch_size x seq_len x vocab_size - logit value\n",
        "#labels: batch_size x seq_len - index of the chosen token (token appeared in the generated text)\n",
        "#require: convert logit value to log-prob value, then take out the log_prob values of the chosen token only.\n",
        "\n",
        "#Step:\n",
        "  #1: Unsqueeze the last dimension of labels [batch_size x seq_len x 1]\n",
        "  #2: Torch.gather to collect the log-prob values\n",
        "  #3: Squeeze again the last dimension to convert it back to [batch_size, seq_len]\n",
        "log_probs_labels = torch.gather(log_probs, 2, labels.unsqueeze(2))\n",
        "log_probs_labels = log_probs_labels.squeeze(-1)"
      ]
    },
    {
      "cell_type": "markdown",
      "metadata": {
        "id": "gWLCoLP1-Q4A"
      },
      "source": [
        "warp it up in a single function"
      ]
    },
    {
      "cell_type": "code",
      "execution_count": null,
      "metadata": {
        "id": "U32av8Bs3XiH"
      },
      "outputs": [],
      "source": [
        "from torch.nn import functional as f\n",
        "def log_probs_from_logits(logits, labels):\n",
        "  log_probs = f.log_softmax(logits, dim = -1)\n",
        "  log_probs_labels = torch.gather(log_probs, 2, labels.unsqueeze(2)).squeeze(-1)\n",
        "  return log_probs_labels"
      ]
    },
    {
      "cell_type": "markdown",
      "metadata": {
        "id": "FxoHdFsaAV7T"
      },
      "source": [
        "![image.png](data:image/png;base64,iVBORw0KGgoAAAANSUhEUgAABHgAAAGRCAYAAAAegQSuAAAAAXNSR0IArs4c6QAAAARnQU1BAACxjwv8YQUAAAAJcEhZcwAADsMAAA7DAcdvqGQAAHZVSURBVHhe7d0HYBRl+sfxJ8mmJ4CAoNgbil2xY6+IFT3svaLYu55dwbOinufZz14P++nZO5azoYj11L8FCwcC6WV3//t7MxMmyybZlE124Pvx5tidnS3ZnfLOM8/7vDnxBAMAAAAAAEBo5Xr/AgAAAAAAIKQI8AAAAAAAAIQcAR4AAAAAAICQI8ADAAAAAAAQcgR4AAAAAAAAQo4ADwAAAAAAQMgR4AEAAAAAAAg5AjwAAAAAAAAhlxNP8G53yd1vV9vXs6JWHc3x5mRSjuXkJv4/z2xI34jtuHK+rTKAWBUAAAAAAFg4dTnA8+nPDTbhyVlWlxOx/NJ8yyvK9x7JnJwcs7w8s/y8HIsk3k7BntUG5Nnx62X+vQEAAAAAALJNlwI8VfVxO+C6ny1WmG8FfYqsoKzAIiUF3qOZowBPRAGe/JzEZJYXMWusb7RNB+Ta3qsl7gAAAAAAACxEutSv6ZaX5lh1VaMpQqQwUU9NsZg3JW5Ho4lJ8xL/vvJtXdMHQyhVVVXZqFGjrE+fPs3TxIkTvUcBAAAAAEBruhTg+fCrSi/i0jTFNUV7ZmpsTEwNsaZ/6+LW0BC3mtrE5wiZ6upqO+uss2yppZayTTfd1N58803vEQAAAAAAgPR0KcBTUx1tzt5xMR4/s6YHpmijumWZNdTHrb5B/ybuJ/7tDo2NjXbggQe2yCRZaaWV7Pvvv/eWSN/cuXNt6623bvFao0ePtpqaGvf4ddddZzfeeKPNmTPHPvnkE/e+n3/+uXsMXffxxx/b4MGDW3z/rU1LL720+20ef/zx5t8HAAAAAIAw6L6hp7z+Uyrp01NT1M/kqY+5KRqNeR+mayKRiO2yyy7evSa//fabvf/++9699H3xxRcucBOk1y4uLnZdkt544w1vbpOZM2d2KpCErps9e7a99NJLdtBBB9mKK65okyZNcusZAAAAAADZrusBHpfCk9lp88VzbdGi1I/Flc0TNWtULZ7GxLxusuGGG9qQIUO8e02eeeYZl93TEQoY1NfXe/fMZZMoo0dKS0tt7bXXdrd9BQUFNmDAAO8eektFRYUdeuihLsOKIA8AAAAAINt1UwZP4ARYJ8PdPI1ePs/OWz/fFitu5/WDn6OLllhiCdtkk028e00mT55sP//8s3evfeqe9cILL3j3mmy22Wa25JJLevfM1d8ZM2aMuz1w4EC7+eabbf3113f3kRlbbbWVHXLIIS2mddZZx3u0pQsvvNBeffVV7x4AAAAAANmpawEeP57ix1YyMBUmPmFxxGyRQrMLNsi3ZcpyUi7XPHUTddPSiE5B06dPt88++8y7175U3bP0mnptn2q/3H777S4Y9O2339qee+5pORoHHhkzduxYu/7661tMr732mqt9lBzUi8Vi9re//c1qa2u9OQAAAAAAZJ8uBXj8eIqLrcRT18lZZZEcG7dmxK7aNN/u3K7A7tmhY9Nt2xZYaX7T+5QVmJ2zfr6t0EfvOf97Jf7XrXSyr9Gtgp566in3XulI7p6lLl9k52QvZW3ddttttvzyy3tzmkyZMsV+/fVX7x4AAAAAANmnm7pozS8v8cpj18y3P2+QbxstnmuDS3PcvK4qyTc7e/0CFzjKtMUXX9w233xz716T119/3X755RfvXutSFVBW1yCN1ITspe5ze+yxh3evibKrVIAZAAAAAIBs1cWQS9xP3/FuN005idtnDs+3TYdkJn5UGDFbrERdtea9Z/PUjdRVKrnL1E8//WTTpk3z7rXu66+/tg8++MC7l/q1kJ3Ky8u9WwAAAAAAhEO3RWCCMZYxK0Vs1QGZCe7o9W/+pMFe+THa4j39WFN3W3PNNW2llVby7um94vbvf//b/duWV155xWpqarx75l5Dr5Xs2WefdXV4/GnVVVdtsztQdXW1PfbYYzZ69GiXDRR8rroWHXjggfbkk09aQ0OD94wmRx99dItldb8tH3/8sRvxy19etzWvNdFo1A0jf8YZZ9jw4cPdSGD+c3V7xIgR9te//tWNTrUg0m927bXX2sYbb2z9+vVr/tv1e55zzjkuMNgR+v1efvllVy9Ir+G/nib97vr9te4k/86+WbNm2d1332277rqrWy+Cz9d9jRCm36ut9bitdVPr9gMPPNDi79W/uq/5wXUfAAAAAJB53RCF8SIrbopbeSRuo5abV0RYvpkds0verrND/l1j+/+rY9MRz9dYhXcOWx81u/w/dfb6j43uvVJO3WzRRRe1Lbfc0rvXRN20dALdGnXPSh49S92zBg0a5N3rOJ2IT5o0yQWKDj74YFffJ7nb0P/+9z974okn3MhcM2fO9OZmlgIM9913n/tcGv79pptuctlLwcCDbn/66af25z//2VZZZZX5vptsomHwP/zwQ+9ek2WWWWa+Wkw+BTL+8pe/2NChQ+388893RbhVmNmnwM4NN9zggiN6vLWAjE+/swo+r7feerb77rvb/fffP19wSL+7fv+9997bXnzxRW9uk++++872339/W3bZZe24445zI4BpvQjSfa1L+r0OO+ww1wWtI7788ks3GpyChMG/V//qvuZvtNFG8xUYBwAAAABkTren2Wy2ZMQigVf9dnbMLn6rzr6YGbOGxsQMxWA6MNXUm1XXx60i8e/Fk2vt098TJ5Mplmueupm6VO20004tulbpBLetk9fk7lkaNSu5rktH6KT/uuuuc1kX2ZYBo0DS+PHj5wsitEafX0GF4PeTTd577z2XuRKk4Fz//v29e/MoMKJgyoQJE7w5bVOGz6mnntpqkEfzFSzaZZddXKCmMx5//HFXCDxdCvSce+657QaefD/88IPts88+9tVXX3lzUtPnVyDyxx9/9OYAAAAAADKpawEeP6ASCLAMKWv5ks9822hRXeAPLNPR6Y2fGu28N2rtu9mJO4n/lUbM1hiYeJ/AMs1TBqhr1corr+zdS7xNPG7PPPOMd29+yd2z1lhjDRs2bJh3r+M0fPfVV1/t3WuiYsAKGChjQifb+veuu+6y/fbbz3WV6Q3FxcUueKOggT6zPtejjz7qAiRBc+bMcUOPK1smW/iZM0cccUSLkc+UCTNu3Lj5aicpIKLASHIGjYIfb731lvvb9e+f/vQn75Em+o3UhS6Z3l/fyWWXXebNmUfFvhXc0whfygYaM2aM+67bo/VW680777zjPs9HH33ksoiSawwpS0iPtUfBuRNPPNH++9//Wm5uruv+pc+jSbc1L0jLKaBFdy0AAAAAyLyuBXgSmuIq/v/HbUCRm93sl6qY90jn/3v0qwb7vbrpdfoWml28aZFtvXTEe1T/+e+emQiPasjsvPPO3r0myvRINbJSqu5ZI0eO7FLQRbVYFBTxKeigOkAKpqjr0GKLLeb+VV0WdZHS6F2qmdNTysrK7MILL3RZGwo6bbfddm7IcX2ubbfd1v75z3/aIYcc4i3dRJ+xo3Vpuou+oxNOOKF5Upei1Vdf3WXOBD9T37597dZbb0058pkCV3feead3L7Eh5ebaP/7xD7v55ptdQE9/u/69/fbb7eKLL/aWmhfISe4W9fbbb9ull17q3WuiII6er6LeyuDaa6+97KCDDnLzvv/+e/e6RUVJG1zCuuuua5MnT3bf8ZFHHum6h+nzrLDCCnbaaae5AJP+Np8CWlqf2qN1UIFEBXP0W997773u82jSbXVtSw5kat1V9zwAAAAAQGZ1OcDTHFNpirJYblKmQ2NjYqb3WFenwcU5dslmRbZYmfcewcczTEGagoIC7565k1ZlqST7v//7vxYntHrONtts493rnOTuM8reUdCpNXl5eT02WpeyQR555BE75ZRTrKSkxJvbUn5+vgtGBbNO1LUrneHmM0EZVgrO+JOKAid3JVKQRMttuOGG3px5FJxRICdIgRN1w0v+3nVff7tq6vhUrFqBEp8ymZSdE8wcUgBGWWLK1tHvmUzf5UknnTRfdpSCL+pipoBVa+uA/rbkgKW6FaaTUaXnXn/99bbIIot4c+ZR8WZ9L8HfOd3gEQAAAACga7oe4GkWT/yvZbTl09+jNr1CNXO8x7owLVJodsnmxTagOBjc8R537+3NyxAVBw6OgqWT4VTFgt98880W2TYbbLCBrbbaat69zglmW4iyM9IZyasnlJaWuiLE7VEGSTAope8vVQZUb9thhx1cdpaCOyuuuKI3t6UvvviiRQ0mZUsdcMABrQZUNMJUsFC3/vZgDSJ1ZVLR5KDzzjvPjUbWUcrSaa/7lj6nikIHKeBWV1fn3WudCjenqkfkW2uttearN6XRujT6GwAAAAAgc7onwOMHVwLxhvemR+2Kt2u7XH/HnxYrzbWyeQk08yQvmyE6SVfXoyCNUBTsaqNaI8kFejUSkoIgXaGhp4PBEY1WpJosysJoa6js3lBbW+sCFk8//bQrPqyuWQqMKcjVW12yOuK5555zwbPgSFjJpk6d2iLbRt2S2hshLbnuTTDLS0W7//jjD++e2ZAhQ1ygqasUANRob+qqdffdd7ssK42cpUybCy64wFsqffpcWhfbouBRclaRupNVVlZ69wAAAAAAmdC1AE9zBkncS6aJW01D3F7+vsEmvltjjTHNj1tppOnfrkzFeS2jN/VR7zH33k1T4v+8RzNjxx13bJEdoSwOZXP4VJdE2Qo+Zd5suumm3r3OU/bQ2WefPV8RW524a6hsDeWuQsDqHtYbFNhSNydlnCjQsc4667hizxoRSrVqdIKfTUGohx56yAXmlGml7lKqvROkQsR//etfm9apFJKHyFegTxlKCgK2NiUHVJTR4neJUkAsSNk1+k07S92tjjnmGBs4cKCr16RR4JR5o25gWj/THfEsmf6OVDV/kiUHs/R3thUwAwAAAAB0XffU4PHPgxP/XvNOrd36YV3z/CPWLrQTNyiet1wnpzUGRRI35plRpa5fiRvBKcNWWmmlFt1mlMWhkZJ8yd2zVL9F2RJdpawIFct94oknbLnllvPmzqOT53vuuccV9T399NN7tDuMsk8222wzV6hYgYXWJAensoG+V/0+qsNz7LHHenObqGh0qtGupK2/M13BLlHJAR6NmtVaPaO2KIh2xRVXuHX0vvvuazOolqquT3sUMEonwAMAAAAA6HndcNbtR1aC/8YtJzEdu36hbbNcvpXkqzaJH4Xp+LTFMhHbYYX8xO15vpql7Ac9LsHlM0ddrdTlKkh1eDRyVqruWaNGjeq2E2IFI7bYYguXgaEMFBW7TUVFbjVUd/IoTZkwY8YMN4KShuD2KZCjGizKFtHw3ApeqPuRMp1UHDobqQj0Oeec06JOjoJmqoPzww8/eHPm0Qhh3Sm5Zo6CP+rq1lHqhpU8EpcCgspIevzxx11RcBW21rqheZmSHFiKRCJZGeADAAAAgAVJt5x1udBK4v/8f/WiJ25YbJst1RSUWbJPru21aqHtuUrHpn1XL7QLtyixscNbBkm+mRW1j3+NNr2nPyXm699MU5erYNFjFctVRkdy9ywV3lW9k+6mYIS6iqlbkD9UdnKXGD2mobgz7amnnmoxkpjqs+h7UEaMhvTW8NzqatSZbJGepu5HCnoEgy36fi+77LL5AhbJ3/duu+3mum0pcJLupBGy/NpMqm0TpKCSgoYdoaBQcGQvBQTvuOMO1wVNI3xpXVRgqiv1oFRDKZ3PpfcMUmCvq3WoAAAAAABt657L6oFIS0Fu3M4eUWIbLjGvS1VB4vx+9CoF9qdVOzbtOrTAVh7QMjhQ22j21/dqWrxniynDlBERHPJamTsadUnZKsHuWeq2lOmMFY1mpKGyVfR388039+Y2UZCnrcK27WWJKCtHf1tb3n33Xe9Wk8MPPzzl8Nmi76ajQYuepq5NKgodpNpCyaOlaQjyIAW5kuvydMTaa6/tAjI+dXv76KOPvHvp0TDvwRpMes1tt922xesGTZ8+3buVPmVitVe/R8ErrXtBKrBNgAcAAAAAMqt7+03EzQ5cs8hWH5yZjI2qerMr3qyy39zQ64kZqaYMU4ZHclHel19+2Z5//nnvXhN1z1LXlJ6goMpRRx3l3WuiE/5ggEf1g4I+/PBD+/nnn717LSkQoyyctmgZvUdQW93RlLESHCkqGykYcvzxx7eom6SuWhdddJHrjuZTEeRg1o2CYcpm6iwFQIK/j4o7q5ZS8vfbFnW9Cgbk9Fu0tv4pEyfVEP/tUZDurrvucp+vNXrd4BDw+k67Y0QwAAAAAEDbuhbg8c/zmgMscXvii1r7pbL7R8yZ8kujnftihU37vdG9T8qph4wYMaJFpsrrr7/uJt9SSy1lm2yyiXev69T1RkWUo9GoN6clnXBrRK8gfYaysjLvnrnuUkHKxJg4ceJ8WTq6/+c//9kVjG5LYWFhi6HbpbUh2zX0uEbUCgNlXSnIE6QMHf0GfmBj6aWXdt2ygs4444w2fyOpqKhw38Mrr7zizWmikcf2339/714T1S7ad999W4zSFqTf6dprr21+rX79+rUI6KibVKrnKsNG9Ya+/fZbb07H6Hu46aabUv6d+izKKAsGgJQVtcEGG3j3AAAAAACZ0qUAjzuN88/l9G9imlEZt3NfqLRvZs47AYwl5j/5RZ09MrVj0wOf1Nr171Tb8f+qsAmvV9n0ilhzLKe1qSessMIKLbpEKVMmmC2jGjkaCam7aFQsDYOuLA+NkqQMiV9//dVNOqnWCFaaH6SCwcEAj7qVKfMk6O6773Yn4FdddZUrwqt6Prqv2i2q9dNa9x5RMCE5aKSRm0aPHu0CPco+0b8qwjxmzBg3VHZbr5dNVKQ6eXh7DZvuZ6bo79DvoSHIfQpsaZ6KX+v79L8DDWWv71nFuRV0mzBhQsqucereFizyLAraKTiiz6Ln6TfSa2lZvbdqBvmvpYwiBYp8CgBpeHQFlKZNm+Ymfa6NNtrIvU5nRukSBW/OPPNMF8C89dZbmz+TAl6agt0UVVhZ9X9U3wgAAAAAkFk5iRO2TodF9rzkO5tbE7P8sgKLFGmKWG5BUxZBfp7ZqZuU2jpDIvb97Jid+VyFm99dFCtwU67+zyxa32iNNVF7/IRFvSUy6+GHH7YjjjjCuzePTv4nTZrk6p+kQ4GAvffe27vXlEGiLl+LLbaYN8dcps0FF1zg3WufAgX33nvvfCfWt99+u5188snevdapiLRGkNLkZ/ioa5oycVTbxacskJEjR7pAU1t0oq9ixQqSqHuQT6OBKRjmU7cvBYOC2UPqHpXOZ26NMlnURSiYqZT8vqlMnjzZdt11VzcUvm+rrbay+++/v7mejIJrCmAFgxrpaO391WVuv/3261D9Hf+1tBmPHz9+vkBfKlo/1llnHbde+RREeuSRR1rUykleNxVE2nnnne2WW27x5rRNAcMTTzwxNIE9AAAAAAizLmXwRGNxd2IZj8YsHos1peooXpSYGhrjdsUblfbKt/UWC8zP3JT4QPq3h2y44YbzjX4kK6+8sjt57i3KoFGdlFRZEwpGJHc/SqZAjoY4T6dbjWrVKGiTPMx3kDKB/v73v8/XpSnb6e9XJk+QAjoPPvigd68p4KMgiGropGvNNddsUeMnSKNcPf300/PVU2qNAmfqKicKopxwwgnzDeOfTMEdZd6oS1dH6f0UsGlvHdJvrkCTliO4AwAAAAA9o2tdtLygSlyBnsaYxaJRd9vvrqWYz03vVtuEVyub52VkkuDtHqCT8VR1drbYYov5atN01XHHHee6wii7I3lkLp1Mr7HGGnbWWWe5bjgK7rQ2kpWWvfTSS112yp577tmim46GM9f7TJkypUNFcbWsnqPnBrul6bUPPvhgV8xZtWQUHAgTdUE75ZRTWmRSyeWXX96ifo1G1FLGkYoL6zsdOHCg90gTBVL0+6irkr4LddlSELA1GoJdXan0W+o3VfAo+N3pe1V3uxtuuMF9juBQ/Arq/eMf/3CZOBqyXr+3b9iwYa7rnbLLNIR/Z/nrkLLM9NsH30MjzKk49GeffWZjx44NxfD4AAAAALCg6FIXrd0u/K9V1sQsUpRneQX5FimOuH9zI4kTuwxfuHfdszSpi1bi/DdaH7XGmkZ74qTOn7wCmCed7oMAAAAAgOzQpbSK4oJcl7ETa4hZrD5qsZpGi9Y0WGN1vUVrE7d7Ykq8nz/pMwAAAAAAACxsuhTg2WBYuau7oxo80caoNTY0WmOdpgaL1iYm/ZuhqTHx+k1T4v0U6KmPWv8S6n0AAAAAAICFT5cCPKeMHmhFRbmuiHKsMWrRhlhTgKe2weoTU0MPTPU1iX+rm24ftU3HC8cCAAAAAACEXZcCPPLM+JVs1WVLXFetaIMyabysmpp6a6xWd60MTX5gp7re+pfm2KX7DrYRw1ofzQkAAAAAAGBB1aUiywAWXBRZBgAAAIDw6HIGDwAAAAAAAHoXAR4AAAAAAICQI8ADAAAAAAAQctTgAQAAAAAACDkyeAAAAAAAAEKOAA8AAAAAAEDIEeABAAAAAAAIOQI8AAAAAAAAIUeABwAAAAAAIOQI8AAAAAAAAIQcAR4AAAAAAICQI8ADAAAAAAAQcgR4AAAAAAAAQo4ADwAAAAAAQMgR4AEAAAAAAAg5AjwAAAAAAAAhR4AHAAAAAAAg5AjwAAAAAAAAhBwBHgAAAAAAgJAjwAMAAAAAABByBHgAAAAAAABCjgAPAAAAAABAyBHgAQAAAAAACDkCPAAAAAAAACFHgAcAAAAAACDkCPAAAAAAAACEHAEeAAAAAACAkCPAAwAAAAAAEHIEeAAAAAAAAEKOAA8AAAAAAEDIEeABAAAAAAAIOQI8AAAAAAAAIUeABwAAAAAAIOQI8AAAAAAAAIQcAR4AAAAAAICQI8ADAAAAAAAQcgR4AAAAAAAAQo4ADwAAAAAAQMgR4AEAAAAAAAg5AjwAAAAAAAAhR4AHAAAAAAAg5AjwAAAAAAAAhBwBHgAAAAAAgJAjwAMAAAAAABByBHgAAAAAAABCjgAPAAAAAABAyPV6gOfZZ5+1Pn362ODBg+3jjz/25gJAuFVVVdmoUaPc/u3oo4/25gL49ddfbdVVV3XbxsSJE725HbOgbV+0hQAAYdcTx+buaEMs6NoN8OjH0ReYzqQfVD/sgkgrUKq/ebHFFrNDDz3UvvjiC2/JzPrkk09siy22cL/L3Llzvbnte+GFF2z48OF28cUXW0NDgzcXSM3f7hfkbVonUTqZSt6mW5t0AgaEQfLx6p///Kf3SGqNjY122GGHNS+vhpMaUAua1tozK6ywgp166qn2888/e0tmD47dCx9/+21rOwyeRPXmcTqdz9qT1C7Wdq52strL6fjpp5/skksusdVWW615n6DbN998s9XU1HhLAelh++0d0WjU3n33XXdOrnNz/V39+vWz7bff3t566y2Lx+PekgsHumh1UXV1tU2aNMk22GAD++tf/5rxFeiWW26xjz76yB544AG3wqZDn1Gf7euvv7a//e1v9tlnn3mPAAAWdM8884wL4rRGJzhvvPGGd2/hM2PGDLv11lttzTXXtCeffNKb2/s4dgMdoxM8tY/VTtY2kw4Fd6688kr78ccfvTnmbp9++um2zz77LLAXuYAFiY7jCu7onFzHTonFYvbOO+/YjjvuaDfccIObt7BoN8BzxRVX2FdffdU8PfbYY1ZcXOweU3Q7+Ni9995rJSUl7rEF1eKLL+4CK/7ffOedd9qAAQPcY5deeqlNmTLF3c6UPffc08rLy23YsGG2+uqre3ObrsBqpd51113t5JNP9uY20W+y++67W35+vo0YMcKWX3557xFgwfHHH3/YZZddZhtuuKE9//zz3tzW6Qrdp59+2mIfpu1E1l9/fZfhE3xsq622co8BYaF9fk5OjssC0TrcGm0vv/32m3dvwRfcvj///HO76qqr3HelDJnzzz/fBbyyQXccu9tqGwALmjXWWMM22mgjt83stNNO3twmL7/8sh144IG27777tgja6Cq/MuS0L/j9999dG18XbeXVV1+19957z90GkN3WWWcdF+BVgPaXX36xf/zjH9a3b1/32D333GMzZ850txcG7QZ49MUo1cmf/GCGaKcYfKx///6uMbkgy8vLs0UXXbT5b95jjz3clT/93UrlzPTVP51kKo1cVymWWmopb65ZXV2d3X777e5g5Ecug5R+rxX70UcfdWlrwILm//7v/+zaa691jTSlarZHDcBBgwa12If5wevCwkLXfSv4WFFRkXsMCIull17aHSfmzJljb775pje3JXVpePDBB90xTCdGC4Pg9r3EEkvYUUcd5YLD8u2339rkyZPd7WzQ1WN3e20DYEGibVoBa20zCmoGPfTQQ/bEE0+4/WHQ5ZdfbieddJLbF+g4ryCRLm6rPaCs/NraWm9JANlK2/59993nAruKXZSWlrqkiBNPPNE9XllZuVB1c6aLVjdQNo0yeyQb+/ADABY+OrlXLQpRECdV3TbVj1OtipVWWsnWXnttb+7CZ7311msO8HIcBxZu2nfqZDASibiL2QDCyb+woeSMhelCbUYCPGowBoscaVK3CaVNpVuw7IMPPnBXHvVcReH9hqmi6e+//7796U9/cjtdPa7llFZdUVHhlvEFi0cpXUv1a1ZeeeXm5+iKXSYLqOm1ld2jv13vqUnfyTHHHOP61CfT558wYUKLQm8q/jh+/PjmKwipRtpQQTkFmPwrtPqe/ef7hWHbKqTV2vuec8458y0bLAym91Va//HHH+8yuzRPxSDVHWBhK2a1sAiuf+rjrqth+s01T+uAroKpq1RQcN3TiZMKvvrboZ6j9Sf5hKqtIs/+6/nbgNZRvfbmm2/evD3vvffeze/ZnYXjOrpNp6JG4wknnOCeq32YvkOftkVlIfnfj6ZtttlmvgJx/t+sx/V9fPPNNy32iXpOpruLIhy22247KygocEGc5MEAtE49/PDDVl9f7650+RcqUtGyWg9Hjx7dvL/X+qYChs8991zKrDltL9ddd507nmh5Pe+ss85qs6ZFR47xmRbc36mbxoUXXug+k2r1qCuHdPTzal+nrBz/O9S2ri5Uwe07qK1jt75fHe+T90cqGK3vOJ22gX437YOUHex/fn021R754Ycf3DIIF613qt0UXC/0m2q9Sz7WtrZda31It0hxR3SkvelTW0M1NPz1U3+X1ulU20bysVH85bT+i56r7SK4TJDON3R+oO6N22677UId+EbPy9btV9tWcjFyHW/OPPPMNo/NekzL+J9Pxzydj6fKptHxSO0JtWH999DynS14rliC2uxy0EEHue9mYdGtAR6taFop1Xc1WORI1G1CjY39998/5VXEIAVjjjjiCJdGqR2/CqXpR9brq0jS1ltv7VIwFYkbOHCgW04nRTrBCxZJ86nI0rnnnmunnXaa65Mneo524GqwtdawSpcKOPmvqw1S9Dm23HJL19DS3+7Td6IUMqXCB7tzaXkdSP7yl7+421oJ9bepaJQ23nS6nHSGDpxqrPrv69P76rveeOON3TKp6G9Wo/auu+5q3lB1kjtmzBiXDo4Fm3aa6s/uBza0Dtxxxx1uO0+1I9Z2qMaUDlL+9qLnaP3ZeeedU2672aSj23Qq2tdof6baXaL9j59G7u8DdGKo70cHTnUj+89//uMatzpRTrWvUh0hPa59or5j0XNUuyP4ObFwWmuttWyzzTZzQRwFc4LrkPbz2lcrAKQGVWu0nZ5yyiluPXvppZea9/d+AUPt83V89eeLjvMKtJ533nnufUSP33jjjXbAAQekbBB29hjfVXrfV155xe231FUt1Qnd9ddfb9dcc437m3Xip387+nnV2NR+QkFu/7vStn7ooYd2uACkAumqJaL9bfL+SMGbthrcPn0G/W7aj+uzqQv6kCFDXHtD38esWbO8JREm+k3//Oc/u/VC66NqOem31noXPNb666+/Xet31++v9UDrQ/LJZFd1pr3pBx/VDvaPb/q7tO5noiul9luHHHKI2y8qO//qq69uzuwDekI2br+6YKC2u1+M3G+f6njz97//vdVzex1D9JiWCR7z9DeqLe3PE/94pPaE2rA6D9ak5VXwXO2J9uIHQdqX6BxVx+PDDz/cBXgWJt0a4NEOUY050ZV3nXjox1DBwjPOOMPNf/HFF9usbK/lx40bZ//9739tySWXdCd/uhom/utrZ6t0c/3o6i+vq/gKBOk5Wtm10gdNnz7d/dA6GOj1teJreXn66afd63SGsmp0ReDYY49176kCiLqaqUaifxKoz6oTYfUHVoPstddes2WXXdatyPpOVDdEdBDzl1dDUVfO9Ld9//337spqW7WNFNnU37Dpppu6+zrw6e/UpA2/NTqojh071n02fdf6DPqMuv/II4+4Poy6rb9Fr5VMv8fQoUPdTkTP08l9bm6uOwgnn0hgwaJ1/KmnnnJF17Xz1LankxnROv7ll1+620HaDjWaj7+e6WqAv1/Q83UA6AwdaKZNm2avv/56c0NMfe21zmq+Hu+qzmzTqSgApKCOKHNJ+zq/fpf/+gr46DVUAFZZAhdccIFbXgGe5AwM0UFfJ4jKptNnUoBIdPvf//63u42Fl9ZXHRNE+2w/2CLaZrSeKQCkuhOtufvuu10dF9HFFx2XtH0pc0yNMdHj2rZ9ft0X0Xah7V37Cl09V2NRt5N19hjfFfo7FLjRlUlRMWO/wKpP26faCnpvbfP+fqUjn1d/s5bV361jqy6C+cdbBY86crKqfY0yHlQ0VlQ8OfibqCGuY3F7bQPtT7SvFF0E0/5G87SOaH+8MKWzZyO1ndXG8q9kB6dgZlYyDcShdUrbnNZHrQMqNqp1Quukjhmi39m/ur3ffvu55fT7az1QzSfV1ewunWlv6jioK/9qU+oYq79X24/+LgU2daU/Hdo+9Jr+flDbg/5WzQsWHtc2qmCnzlM22WQTd7z2zz+AjlqQtl/RtnD//fe77TS5fapjYaq/x99G/XiA/tW2JXqtYED3bq+dof2DXk/nwZrUK0T7B83TviIdymBXW1qf9eyzz3Y1tRSQWph0W4BHwQ4FbrQjXnfddd1VumWWWcY9ppVZO2mlkIlOCvWlJ1MjSN2R9CPqx1TFa0X7RVfMFEDQ62vHrsaJH/RQYEURQkl11Ul9aNXI8kedUq0B/eDyv//9z21E6QpusCrQ6mcrqIGnQm1aMXVF01+ptZEq6qgVS1FVVfi+6aab3BVTnfAq6ip+FFNFodRP0KcNVJHHTIxOphN0nVDqs9x2223uKok+oz7rDjvs4EYWEQXENCXTlWFFc7Uz0vOUMbDLLru4x7RT0sESCy5dhdNVf22HWmd1xUHbmraHVKn9Wk7P8dczrdPaL+iKhOgK3ezZs93tbNOZbTqZtjV1YdM+TFcIFejxDzg6IVSjUldrLrroIltkkUXcfL2+ukroqoz2mW+//babH6TvT1c3tA/S6+kEXJ9Jpk6dSqAVLrNU65AaZQrqiI7ZCkqI9ttaf1LReqdAgegYruOc33DUMVDHAB3zRa+n19Vz/O4Qeo62c23v2gfomK7jsfYVQV05xneUGqJ+Fw0ds7XN6X11W/soHYeT+Zku2ialo59XXby0jxMdW9V1Tq+lbfbggw923TbTpUax39BVA1v7kuBvos+qf9ujK75+drAKzPp/mz6TBpBYZZVV3H2Ei9ZhHWP8dqPWS7Xp/Axz/0KB1l2tx6L1xQ/oaT1QNqm/fHfoTHtTx1IdU/UcHWO179Dfor9LgaC2sg47Q5lv2l4VTFIXEnXNBHpaNm6/+iw6r1d702+36n389qmkurCrY2EwHqB/FStQW1dZxf5FSLX9FeARnUv4bQrRBRclT4i2Ub9kSWv0neiCqILBOg7reOh/5oVJtwV4FJlT41GUrpwcOdSX6w9ZqCCJdtrJdEVLDUlFKdUAVG0PnxpIfk0JpT4rAORHQjVpiENJVSVbV9oUlAlSJNI/Ge3K8LD6u9Q4+/DDD90GKJ999pk7qdLBIdUGpv7B6sMoep7oqqEOYgo4KbqpBrGuxGXy5Mx/b30WfaZk+uz6G/QZ9Dcl03OCv7O+TwXPRCl8+i2wYNLJoL8O+3TCpD62oqsMyXQCkXxlXNuPhiwWXY1ob8fdWzqzTQdp/6VtWie+6uZ16aWXtjjgqEGrg5K2fwVngvs2pYn7+8tUWQ/6/oKvVVZW5kZPEl3RCXaVxcJJ64MfSFUWndY1BeE1GqMaZ22dKGnd0zFbdAwPrmuiY4CO+aI2gNoC7T1Hx+PkzLquHOO7Su+l4Ku+D/+iUpCObX4w29fRz9vWPkSvq+4p6VKwSI1jvVZ7Gb5tUePb32+pjpiCOsoK6u7vF52jY6qCgtqukiddFPCPncl04qX2o9ZLBR/Vll5xxRXnu0Cgkyx/5Dwtq6CLLsBm4pjRmfZmW89RG8TPGu4uurgs2hb9YyjQWQvS9usfY/S5VUNLASgdKzWlOp/3abvWhZMgHfv9iwd+NzKdM/rlHnQsCh5LdWz1L2job/MvSrRGx2bVxRNl8SS3PxYW3RbgCUYSldGRij8/eNXIp0CL6vfodTSahT/yhy/4+ookaoVJNSlwo42jPf7V7o7Se2jjVCNWk07Y9Ll18urzG0d6/VQpzprvXyH0l9WJ7+OPP27LLbec+y6UHq0IpjZYbeiZ4L+3Pkuq70Kf3Z+fboOvtd8eC77g+rKg6cw2HaRul2o86iCpfsA6aAUFn6ODX/J+zZ+Sn5eKTkb9Kz+AaL1ToEX/6qq4ArDqIqGAoY4xbZ3MBI/X7R3bdYzWsTqd5yTr7mN8W4JdNDSpcamATGufVdt3coZTRz9ve/uQjuiu19L+RJlWfuatsgiViasMhrYKP6NnaL1RdqyOCcmTgiEa7j+ZToBUNkDtR3XX1e+rrlC6+OZfgPHpWKGLqTqJFAVUdMFS66yugKc6lnWW/1odaW+295zu5p90quuJ2uFAVyxI268SIZSNq6CqMozUBUwXZNWTQ8kJXRVsM6juTqpjqSZ9b+1d0NBFTh3DxK9XtDDq1ho8Pv9HSuYX/dOOPLmxpPtK9VakTlentGK3tnIq3Up94FNN6kYR7OLUm/yGbjL9XX73peAJmxqd2kB1BU1pb6L7ut3dxe6C9BlTNeS08fq/gX4XIBNa219ko45u0z5dGdcVD21n6vOfqsujKJtCKeKp9m2a1F0T6AxdBdSkxqKCO+rXroZSRzJAWjsm+8d2NayST8RSPSd4bEklLMd4X0c+b2v7kHSKIidr7bU6Qg1mFYnXZ1W7S0EufRbta/yRthAeqs+h31Ntal311vaubD11hVA2aDIFJ9X2Vg0nZQHoJErbpupFqVtUd+tMe7O153Rmm2nLcccd5wK+yoJIPkcBekK2br8KGOkipV7/jTfecBeHlOygOjrpdAcO0udrq4SHglbJx1F/Ui2i9i5g6nHVz9K2fNRRR3lzFz7dFuBRxM1PoVQxQqVIBekH/de//uVuq/igUteSKYtFP6y6aGmUGdW68BsvanT4EblUr59NNAKHGsxKW0tVdEorqZ+CmpyqrYivMpjU/1crsl5HG5Ge093899bJZqrh9JSurqitorN+/SKgs3RVLLk2j7Zjbc+i/Yf2I0F6TvBAoCvmKtLW07qyTYu2IXXLUvcsHRhVJ0cHbZ+GgZTWXh/oKgUe/UwNjQyjiwdar3W8aYuuBvr955XV4Z+E+bQN+8V+dZzQyZm2Yz/Qqew1P9PF5x9bgsJ0jJeOfl4/y1eZQ8kB3mD7KB0qiN3W/qgz1HBXoErdAPR3KXik7nwIF7/Ok4K5umjoZ7vpOKrjaWvU1VLFuVVvzi+CqiBwd3X36Ex7099mdHxN1Xbw9zvAgiIbt1+9t7pmiQZkUNaOf1FI22FbgVbV5Uk+NqZqLytIpC5nkqqdgY7rtgCPsnLU9UA/uhqOSjHzR5NRFE2FGRUVFxU9SnWVW9Rfzh9lRoUP1f1JkXulaOpKo+j1VVQ0uNJoxdcoGL1x8pdMgSrV1BEVTtQoFVpZFaxScUSNJKD+84rG+l3RFJ0NFkTVv/5tpeHpymi69DqpitwmU9Eq9cHXZ9EJpzIH9Bn1WXXVUY09UX2FtkZYAdKh9UzbrV+fRwcFFTvX9izKVPO7G/g7fQU3VZBR6dJaL1WjS6mh7dGVhu5Mse7MNp1M+zwVl/NH19H+zE8fVV9s/+qMtjsdmP3gtt5H3Wouu+wydx/oLNWJUwBG24ZO4EeOHDlfUDWZ0sL90Wd0DFctKf/Yq+Outmltw7owoyLEOl4pWKCGoNx7773u6p/fd17r9llnneUeCwrTMV46+nm1T1OGno7r+vv9462+F7WPgiOQtUfp+34hdbW1dEHIb8ir9pFeL9XJQHLbQN2/FVjSPsYXvN3RK7PofX4GndY7/d7iH2t1PA3S+qrC6MGTQK2TfttT+4p0u1/oeaqjp0FLgpPm6bHOtDe1f9L766KI6nL4bQd9bn+/0xkqUpuq9IE+k4JK2lYX5q4d6D3ZuP2qraDjuqiHjX9xUj1LTjnllJS1IX3BY6M+l4K7fns5WP9PSR9+nUC1M3QM8/8uPU/vqbZHquNaMl1QUpdr/f3KmA8e0xYm3dpFS6NI+A03XfnRTlonNWrsaYgy0dDAbY1FrwCRopC60i0K9ijVSvQ8dXMQpa7pKpNeX5MKUCn7Rytpb1PDb+LEie7zqSF95JFHukayRsbRyZ9S6fSdaHg7P3Vbowso6qpl1A9YK7u+B63YBxxwQLtXWfWefoNaOwZdAdH30laKtT6DPqc2AjUKd9ttN/f++qwa+lYbrRqRWoZ0VXSV1jPt1P0iwmpIqX+xaLvW+ufTiahfGF39fdWNQOulbmv0mVSCBUNVw0rPUVaQDlJd1ZltOhVlQ2if5g93qWHSFQDXczTSgL4jbXc6cdRr63vS+6jvs94D6AptU/72o3UtuM21RX38NXKcKODqH3t13NWxWOuzjvH+cVuNQQ3jrdo+ahzqYo3qDmid1rqtyR95Iygsx3hfRz6vsqA04pW+q+DxVt+LAtcnnniiWy4dulqrDGftc9R41cmxXkfvq33eXXfd5b53aattoALQamdoH6P9pybtn7WvUSD60EMPdc9DeGjb0jqm44i2dR0HdaxVAdPkLh46HutESOuOtlXtH7SeKotL+wcVHvdP7NqjzDRdBNFrBCcdH3WS2Jn2pi586ARSdCHFbztoO9OJo7/tpcvf92kwA20Tei29n08nyzqZVnuc7DX0hmzcfpXB47cV1G5V5q8+lz6PtlU/8yYVZfuoS5e2WX0mZSXp+KK/UUEcPztY5/4aPctvQ6g94R/T9Dy9p0bi849rbdH2rW1Z58/q8pYcGFtYdGuAR5FHBXjUcFAUXj+g6F9V+tb85NFjUtEP6l/p1o+pfrFK69TztDNW963giq75CoCokeSf4PU2dblQqp2+j2B3NJ3IpRqtQ1fk/M+utGtFLvU36m/SRtDedyZqIOpqnr+sNgpNbVGBTaX06YQ1uKxORNWvU5lFfpos0BXq0qCr+cF1VNuGhkdVl5HgOq51TjtoXfXz9yPaHhQQ8tNPk2m/oSvZwcd10Ev3CkZ7OrpNtyaYpahMo3PPPdedpCklV9uiiuQF+xjrvbR96oQZ6Ao19kaNGuVu65ipov7p0Pqo/vz33HOPO8nyaZtVMFbrrfq6+2nbogCHrsyr/pS/DatQpF5DJ23+vCC9XliO8dLRz6ssRWXq+MvqO9A+TpkD/mgo6dK+Rvsc7XuCQWUduzVPJ86+1toGakBrOF39vmoUa9Jrqc2l9ppeC+GiEyQF+PxtW1ezlf2i42lwnRAdk3VhVll8GqZYF0O0LijLXt2fdEzqTh1tb2p/oqv2d9xxR/MxV+uwjpHqFtlWcfhUdJI6fvz45vfWawWP5do+9Z1o+/T3k0BPytbtVxcz1Fb3gzlqVytDVce/tgr964KDgqXBdrkCt9rWky8wqQ2v7HjtC4LHHv1NyvTRhdvgsa41+ozalrX/+NOf/uQCVQujnLhCXACQIToA6Mq1ruDpoKOTCgAAgM7QqYu6eilzTlkB+lfZagCAbs7gAQAAAIBMUR0dv8iysuQI7gDAPAR4AAAAAGQN1f4444wzXCFwDaMu6s6sQQfUBWPmzJmuBoi6pAAA5iHAAwAAACCraCQhjeKnEd1Uo0N1SDTowHfffedqWKkOiAq5AgDmIcADAAAAIGsUFhba4Ycf7gqW+wXCRUVllbXzn//8Z77i7gAAiiwDAAAAAACEHhk8AAAAAAAAIUeABwAAAAAAIOQI8AAAAAAAAIQcAR4AAAAAAICQI8ADAAAAAAAQcgR4AAAAAAAAQo4ADwAAAAAAQMgR4AEAAAAAAAg5AjwAAAAAAAAhR4AHAAAAAAAg5HLiCd7tlL766ivvFgAAAAAAALJRuwEeAAAAAAAAZDe6aAEAAAAAAIQcAR4AAAAAAICQI8ADAAAAAAAQcgR4AAAAAAAAQo4ADwAAAAAAQMgR4AEAAAAAAAg5AjwAAAAAAAAhR4AHAAAAAAAg5AjwAAAAAAAAhBwBHgAAAAAAgJAjwAMAAAAAABByBHgAAAAAAABCjgAPAAAAAABAyBHgAQAAAAAACDkCPAAAAAAAACFHgAcAAAAAACDkCPAAAAAAAACEHAEeAAAAAACAkCPAAwAAAAAAEHIEeAAAAAAAAEIuJ57g3QaAFurq6tzU2Nhomd5V5OTkWCQSscLCQjcBQCb15P5N2McBAIBMI8ADIKWKigqrr6/37vWsgoICKy8v9+4BQPfqzf2bsI8DAACZQBctAPPp7ZMfvbc+AwB0t97evwn7OAAAkAlk8ABoQV0WKisrvXu9q6ysjK4MALpNNu3fhH0c2lN5yUNmf1RZycm7We5SA7y5HVP12GTL+X2OlRy9ozcHQE/4eu50e3PGVKuPRb05HaPT9Hi+2ZaD1rJhpUt4c4G2EeAB0MLcuXOtoaHBu9e78vPzrU+fPt49AOiabNq/Cfs4tOW37c6zvFijFfUttZzGPMs7dkcrGrm292j7YrOrbebR11thdY0V9S+13PyIRW47xXsUQCZd8eFD9vasL6108T6WG+lcpxnVbssviFhefp6tmbO0jRsy0nsEaB1dtAC0oIKj2SKbPguArjv66KNt1VVXtV9//dWb07OybZ/CPg6tif44yyLRuBUUF1pRn0LL7xOx6N+ftdpnP/SWaFvsf3Nt1uFXW1F1tRWUF1okcZIYq2+wukfe8JYAkCk/VM6w56a8YzmRXMstSEyFeZ2achLPzSlI3E5MH1T913t1oG0dCvB88cUXNnLkSHe1SdOGG25or732Wo+MPgGgZ2TT9sy+Bei4iRMnNh+ng5OO2Q888IDV1NR4S2aHG2+80fr162d33nmnNydzsm2fwj4Orclbqr8VlBS7KR7LsUhRnuWXNwV56p7/2FsqtdiMOTZr7HVW2NBgBeVFidcosvqKGqudOddyll/MWwpAprz/65eJ7TZujY1Ra6hvtPq6hk5PdTX11qDbtb1bOw7hkXaA58knn7QRI0bYp59+avvuu6+bfvrpJ9ttt93cYwAAIHtstdVWdsghh7hpyy23tG+++cZl0Oy///6uqxKALLfuChati1usNmbR+qgX5Mm3huuftvqXPvEWain622ybfcx1VlTfYAWlRZZfUmQNldXWUFFtsWFLW8HwlbwlAWRKPB5rCuAnJgV6ujLFolFrbIglps7V8cHCJ60Az4wZM2z8+PG29NJL2zvvvGM333yzm3R7ueWWswsuuMAFewAAQHYYO3asXX/99W7ShZjvv//exowZYy+++KI9/vjj3lK979hjj7XZs2e7QFRnPPzww7bNNtvYlClTvDnAgqH84n0sPnw5a6yNWlRBnrpGixRHLL9vvtVf95jVvfapt2ST2IzZNueoa6ygvsHyFdwpawru1Cu4s/IS1u+qo70lAYRNPPEfkI60AjzqhqXuWX/+859tqaWW8uaau33MMcfYt99+a5MnT/bmAgCAbFNeXm6nnnqq9e3b11544YUFpv7LSy+9ZFOnTqW7ExZIZefvbfFNVrJobUNiilpjXYPlF+dbflmBNVw1yeonT3PLueDOkVdbYeIksKCs2AV3GiuqraGyyuJDl7C+1xzrlgPQA/zDkZfF05lpz/KN7bLBB9qA3HK9kPsfkI52AzxqMKnxNGjQIFtvvfW8ufNssMEGVlxcbK+//ro3B8CCrrq62vbZZx836TaAcOjfv78L9MycOdMNGY7U2Mchm5Sd9SeLbzrMGmvqLVbTaI219ZZfUmgF5QVWN/4+q7nvBZur4E6izZ5fWmyRUi+4U1Fl8TWXsz4Tx3mvBCAMDu+/nY3uu5EtlT/Qls5f1JsLpKfdAE9VVZXL0Fl++eVt4MCB3tx5FltsMRswYID98MMPNIIAAMhi0WjUYrGYlZSUWF5enpv37LPPuiLM+veTTz5xF3N0X1k+vp9//tmOP/54d7zXYzr26/5vv/3mLTGP3uPRRx+14cOHNxd41gANqgGUSvD9k/nvq/fzX0vFoj/++OPmYtJ+4ejNN9/c3e/NUbqATCk7Y0/LGzXcojV1FqtRNk+dRUoKrbBPicUefNUKE9t1pDm4U5WYKi2++jJWPuEo7xUA9Dhl3XRgyklMxw/Y2bYqXSMxw+xfc9+3j2q+bXocSFO7AZ7Kykr78ccf3RW/SCTizZ1H85dddlmX6k16NAAA2evNN9+06dOnu0ETioqKvLlNdKw/7LDD7KuvvnL3/S5cCvpst912rtaNavhcddVVtvXWW9tdd91lO+20kwvC+BoaGuzkk0929XQUdBk3bpydf/75ri2hbJivv/7aW7J9qhu05ppr2j333OOKRF9xxRV24oknuiDT77//bquvvrp7H9UHzMnJsZ133tnd12dUZjGwoCk+dmfL23tzi9bWukCPC/KUFlnhgD6Wv0gfF+CJKrhTWeUKNJddPtZ7JoDe0BS3Se+/nMSyJy26q21YMtQ99+m5/7H7Z7/W/DhRHqQrrRo8ogZVcmMwSMUbKyoqvHsAFkQ33XSTK6y+2mqr2bvvvusm3dY8TTpp1IkXgOwya9Ysu+aaa1xB46FDh9pee+3lPTKPn3WjgI1G2dpxxx1dFu9ZZ53lMmgU6NE+4KijjrL777/fBV6UlXP33Xd7r2D2xBNPuOHODzroIPvggw/ssssus9NOO83eeOMNO+CAA+z999/3lmzb559/7oI5Ct58+OGH9uCDD7qi0Zdccok988wztv3227ugkwpI+8GqM844w92/6KKLXJ2hzmAfh2xXdNC2Ftl/K4tW11isvsGNsJObn2+5BfkWq6u3xspKs3VWsJJLjvSeAaBXxc326LuxHdt/lC2SW+ZHfVpMEcuzUxbd3YYXr5iYYTZpzmR74I/Xmx4Xf1kgDWkHeNqj7J7c3G57OQBZSCdY3333nX322Weum4Qm3dY8TW+99Zar1wWg9+29997N3ZqUaXvhhRfaOuus4wI5SyyxhLfUPLW1tS4go8xc33vvveeCHOecc44NHjzYm9tkiy22sLXWWsvefvtt10Vbz1cgZsiQIXb66ae3yKJRho2ya/T+6XjkkUdcUOrKK690XcR7Cvs4hEHBThtbtHKu5eTlmP5zl/7F/Ruzgm3nr5kJoPeM7ruxjSgbZucN3scWySvz5jbJz4nYGYP2sHWKm451D81+wx6d/ba7DXRG2hGZ9rpgLbnkklZaWurdAwAAvWmrrbZyQRVNysLRYAjPPfecy4pJRV2cVIQ5SLVu1O1qjz32aA4W+ZNe56OPPmpuH2io82nTprmuU8nBIOnXr5+tssoq3r3WKWvonXfesZVXXjntgBCw0JhTZVVjL7fC/n1d4DQnkmfx+sQ22NjgMnki5eXWcPWDFvvqB+8JAHqNl3lzx8ymmnaD8/va+YP3sYF5fdz8QovYOYPH2GpFTcfle2e9ak/Ofm9exk7yBKSh3QBPfuJgUVZWZr/88kvKIspqiP30008tCjYCAIDepWwUdVnSpAyctddeu83jdKrAzxdffNGivk2qaYcddnCvO2PGDBfkaa9Ld3v8doUGdujK6wALnDmVVnPUBCuorre80lI3RSsrLFZTbbGKysS/NW5eJDHVn/ZXi331f94TAfSOpsjMKxWf2I0z/pW4FbdB+X3tgsX2tWUKBtq5i+1jQwuHuCXvmvWSPTtX3ZiTozrBCWhfuwEeZeWo0fd///d/NmfOHG/uPBpB43//+58rhEhDDECyqVOn2rBhw5prWJx66qneIwCySbBrlm+llVZy/x555JHNwaLkSbVydPzX89VmaC3jV124NDx7e3TBaPHFF3eBHmUPhYG/n2NYdWTM7EqrPXqC5dU2WG5ZieUmtrVYZYXFE1Nj1WyLVSVuK9BTW+0Fecqs4fQbLPbF994LAOhpwdDMm1Wf2zW/P2FRi1n/SJlNGHKwLV/YlO1628zn7bm5H7VYPtUEpKPdAI8abSoqqKtpSr1Opr73aoRtttlm3hwAaKJipEcffbSNGjXK1a9QLQ91vSDIA4SDLvAoWKPttj3qgqX6O1OmTHHZPMl0QUiBkPao3aEaQap944/olc20P9tll11cAAvIiJlzrH7sZZZX02i5ZWWWW1rWHNyx5Qdb8dPXWt6hO7oAj6n4cm21WyavpMwazrjBYtO+9V4IQI8IRmQCEZoPqr6xq359zKLxWPNDt/3veXt57ictlptvEv9foB1p1eDZbbfdXH96DY2qkTV8GlL173//uxu+dIMNNvDmAkATFXNVodRDDz3U3Vdx0o022sidLDISDZD9NtlkE1fk+MYbb3QB2qBoNGr33nuvC8SIAjwjR450QZlbbrmlRfaNbk+cONF1926PBm048MADXSaQhlhXYKgtqgek4Moff/zhzek5ClhpxK9XXnnFFWQGut3MOVZ3zHjLqa23nLLSQHAn0R5fflEruO50t1hkrx0s79CRFqupMquptrgf5Ckrt8azbrD4tP+65QD0rik139nlv02yabU/2k0znrGXKz7xHgG6R1oBHjXuTjrpJJs8ebI7ORs3bpy7Kq/b6p6lBhgFloGFh7pQKLCrEz5l8bVFRVuDo874XT4AZD8NoKBhxysqKtyw5GPGjHFDiZ999tm27rrruqHJY7GmK5Gi4dFVZPmKK66wTTfd1K699lq7+OKLbb311nNZfMrmS4f2Lxr1S+0OdQE//PDD7Y477rDzzjvPjd71/PPPe0uaC6woy0htkwkTJthxxx3X5QByuvs4/a0atp2RtZARytw5Zrzl1cddsCa3tLwpa0fBnZUXt/zrzvQWbJK318imTJ7qKpfN44I8JQry9CXIA/QoL/VG3ZVTTFOrv7dLpz9ob1R8lvLx+SfvJYE0pBXgkWOOOcaeeuop18f+nnvusYceesg19nQlfvjw4d5SABYWKuB65pln2hFHHNFcX0fdOZNPrJTBE5z39ddfe7cAhIGyeHWs33777e2FF15wQR1l6AwdOtSefPJJF+TwqWuVRupSm+Gbb75xF4BuvfVW23333e2BBx5w2TbpUGFn1fZ59tln3VDskyZNchealEmkYIre26fPN378eFff5y9/+Yt7X2UBdVW6+zggU2pPu8LitXWWU1qWmPzgzhzLWXVJy7/qNG+plvwgjzVn8lRZTkmZxYqLrPbMqy0+J/EaADKqQbXoonGL1UfNYkRm0LNy4qkqIQJYaKVTBDVd6r6gK/46UdPJUvL9dGhEHgDoDt25fwtSYeXDDjvM3VamkTKA0sU+DqnEZ8222fudaLlFpVbQd5AVqMdj5Ryz1Za2vMtOblqoDbFHnrX4P/5lOcVlVhdJnHDmxCxaPcfKDtjN8vdKL5MOQOf8c9prdv3LD1tR/xIrHlxq+eXFHUiraEmjVOYXRKxmdo1NGnG2NxdoHQEeAC109wmQH9TxC5DusccedvXVV7vb6eDkB0B36e79m7J5Ro8ebdOnT/fmNOnIfo59HFrzyw57WV5hmRXmFltJNNcia61gOZee5D3avvikf1v09ietNi9m9daYmBpswNhDLH+nrbwlAGTC7Ppq2/nGUy1SErHCPkWWV1JguZHORXhy83ItL5JnVhu3x3a6wJsLtI4AD4AWMnWFu7M4+QHQXbJt/ybs49Ca+sefs7l3PWz5DXEr235zyzvhEO+R9MVfetNqb3rAamtrrGCLDa30tKO9RwBk0s3vPW73vfOCWV6O5UQSU27nAjw5OWb5hQV28mZ72Y7Lru/NBVpHgAdAC6qZky27BdXhUJFmAOgO2bR/E/ZxAACgO3WyNyCABVV3FCftLtn0WQCEX7btU9jHAQCA7kSAB0ALhYWF3q3el02fBUD4Zds+hX0cAADoTgR4ALSgE46CggLvXu/RZ+DkB0B3ypb9m7CPAwAA3Y0AD4D5lJeX9+pJkN5bnwEAultv79+EfRwAAMgEiiwDaFVdXZ2bGhsbM16YVMVGVY9CV7S5qg0g03py/ybs4wAAQKYR4AEAAAAAAAg5umgBAAAAAACEHAEeAAAAAACAkCPAAwAAAAAAEHIEeAAAAAAAAEKOAA8AAAAAAEDIEeABAAAAAAAIOQI8AAAAAAAAIUeABwAAAAAAIOQI8AAAAAAAAIQcAR4AAAAAAICQI8ADAAAAAAAQcgR4AAAAAAAAQo4ADwAAAAAAQMgR4AEAAAAAAAg5AjwAAAAAAAAhR4AHAAAAAAAg5AjwAAAAAAAAhFxOPMG7nVJlZaV3CwAAAAAAANmo3QAPAAAAAAAAshtdtAAAAAAAAEKOAA8AAAAAAEDIEeABAAAAAAAIOQI8AAAAAAAAIUeABwAAAAAAIOQI8AAAAAAAAIQcAR4AAAAAAICQI8ADAAAAAAAQcgR4AAAAAAAAQo4ADwAAAAAAQMgR4AEAAAAAAAg5AjwAAAAAAAAhR4AHAAAAAAAg5AjwAAAAAAAAhBwBHgAAAAAAgJAjwAMAAAAAABByBHgAAAAAAABCjgAPAAAAAABAyBHgAQAAAAAACDkCPAAAAAAAACGXE0/wbgNAC3V1dW5qbGy0TO8qcnJyLBKJWGFhoZsAIJN6cv8m7OMAAECmEeABkFJFRYXV19d793pWQUGBlZeXe/cAoHv15v5N2McBAIBMoIsWgPn09smP3lufAQC6W2/v34R9HAAAyAQyeAC0oC4LlZWV3r3eVVZWRlcGAN0mm/Zvwj4O7fl67nR7c8ZUq49FvTkdo2Z+PN9sy0Fr2bDSJby5AHoC2y96AwEeAC3MnTvXGhoavHu9Kz8/3/r06ePdA4Cuyab9m7CPQ1uu+PAhe3vWl1a6eB/LjXQu6V61n/ILIpaXn2dr5ixt44aM9B4BkElsv+gtdNEC0IIKjmaLbPosALru6KOPtlVXXdV+/fVXb07PyrZ9Cvs4tOaHyhn23JR3LCdxYphbkJgK8zo15SSem1OQuJ2YPqj6r/fqADKJ7Re9qVMBHvUbP+2002zXXXe1qqoqby6ABUE2JfWRYAh03MSJE11WSPK04YYb2gMPPGA1NTXektnhxhtvtH79+tmdd97pzcmcbNunsI9Da97/9UuLx+LW2Bi1hvpGq69r6PRUV1NvDbpd27u1p4CFBdsvelOHAjyzZs2yK664wlZccUW75ZZbuPIEAECW2mqrreyQQw5x05ZbbmnffPONy6DZf//9XVclANkrHo81BQATk04UuzLFolFrbIglps7VAQHQMWy/6E1pB3huuukmW3bZZe3SSy+1nXbayQYOHOg9AgAAss3YsWPt+uuvd9OTTz5p33//vY0ZM8ZefPFFe/zxx72let+xxx5rs2fPdoGoznj44Ydtm222sSlTpnhzAKSSOF30bgEIG7ZfpCvtAE8sFrN9993XPvjgA5swYYIVFRV5jwAAgGxXXl5up556qvXt29deeOGFBSYL96WXXrKpU6c2XS0FFhT+6uxlAXRm2rN8Y7ts8IE2ILdcL+T+B6AH+Ntaiu0y3YntF52VdoBHV9huvvlmW2mllbw5ABZW1dXVts8++7hJtwGEQ//+/V2gZ+bMmW7IcKTGPg5hd3j/7Wx0341sqfyBtnT+ot5cAGHA9ouu6FSRZQAAED7RaNRl5JaUlFheXp6b9+yzz7oizPr3k08+sfXWW8/dV5aP7+eff7bjjz/eBgwY4B5bbLHF3P3ffvvNW2Ievcejjz5qw4cPby7wPHLkSFcDKJXg+yfz31fv57+WikV//PHHzcWk/cLRm2++ubvfm6N0Ad1OV+07MOUkpuMH7Gxbla6RmGH2r7nv20c13zY9DqBnBbbNdCa2X3QHAjwAACwk3nzzTZs+fbqNGDFivq7WP/74ox122GH21Vdfuft+Fy4FfbbbbjtX60Y1fK666irbeuut7a677nI1+RSE8TU0NNjJJ5/s6uko6DJu3Dg7//zzrbKy0mXDfP31196S7VPdoDXXXNPuueceVyRagzyceOKJLsj0+++/2+qrr+7eZ+mll7acnBzbeeed3X19xuLiYu9VgHBrOu9L77+cxLInLbqrbVgy1D336bn/sftnv9b8OGeJQM9i+0VvIMADIG0qtr7ccsvZaqutZu+++66bdFvzNOmkUSdeALKLRsG85pprXHfroUOH2l577eU9Mo+fdaOAjUbZ2nHHHa2qqsrOOussl0GjQI/2AUcddZTdf//9LvCirJy7777bewWzJ554wg13ftBBB7mafZdddpmddtpp9sYbb9gBBxxg77//vrdk2z7//HMXzFHw5sMPP7QHH3zQFY2+5JJL7JlnnrHtt9/eBZ1UQNoPVp1xxhnu/kUXXeTqDHUG+zhkpcR53R59N7Zj+4+yRXLL/LPGFlPE8uyURXe34cUrJmaYTZoz2R744/Wmx8VfFkDPSmx3bL/oSQR4AKRNJ1jfffedffbZZ66bhCbd1jxNb731lg0aNMhbGkBv2nvvvZu7NWkUzAsvvNDWWWcdF8hZYoklvKXmqa2tdQEZ1ejxvffeey7Icc4559jgwYO9uU222GILW2utteztt992dWr0fAVihgwZYqeffnqLLBpl2Ci7Ru+fjkceecQFpa688kpbfvnlvbmZxz4O2Wp04gRxRNkwO2/wPrZIXuIkMSA/J2JnDNrD1ilu2lYemv2GPTr7bXcbQO9j+0VPIsADAMACaKuttnJBFU3Kwnn99dftueeec1kxqaiLk4owB6nWjbpd7bHHHs3BIn/S63z00UeuK5dGsNJQ59OmTXNdp5KDQdKvXz9bZZVVvHutU9bQO++8YyuvvHLaASFggeVdub9jZlNNrMH5fe38xEniwLw+bn6hReycwWNstaKm7freWa/ak7Pfm3fFP3kC0HO87Y7tFz2JAA8AAAsgZaOoy5ImZeCsvfbazYWVU0kV+Pniiy9a1LdJNe2www7udWfMmOGCPKqRk1zfpyMU4Pnpp59s4MCBXXodYMHQdGb3SsUnduOMfyVuxW1Q4iTxgsX2tWUKBtq5i+1jQwuHuCXvmvWSPTtX3SCTzwqDE4Ce07Tdsf2iJxHgAZBxU6dOtWHDhjHkMJDFgl2zfCuttJL798gjj2wOFiVPqpWjQIyeX1pa2pzRk0xduDQ8e3s0wtfiiy/uAj3KHsp2ft0ef9J9oLsET+3erPrcrvn9CYtazPpHymzCkINt+cKmbLnbZj5vz839qMXyqSYAPSe47bH9oqcQ4AGQUaeeeqrtsssu7uQOQLgoq0fBGnWZao+6YKn+zpQpU1w2TzINqa5gb3sULFKNINW+8Uf0ylYquKzRvp566ilXo0dd2a677rq0/k6gTcEzusAZ3gdV39hVvz5m0Xis+aHb/ve8vTz3kxbLzTeJ/y+AzEre7ryJ7Rc9gQAPgIzRSY5Gw3nllVdcsVIA4bLJJpu4Isc33nijK7YcFI1G7d5773WBGFGAZ+TIkS4oc8stt7TIvtHtiRMn2i+//OLNaV0kErEDDzzQZQJpiHUFhtqiekAKIP/xxx/enJ6jgssa1Ut1h0QZT/os7X1moCum1Hxnl/82yabV/mg3zXjGXq5InBwCCAW2X2QaAR4AHaYuFFtuuaU74dMIOq3RSY9Ofhh1BginJZdc0g07XlFR4YYlHzNmjOuCdPbZZ9u6667rhiaPxZquRIqGR9d2f8UVV9imm25q1157rV188cW23nrruQyXUaNGeUu2TfsXjfo1efJkW3PNNe3www+3O+64w8477zw3etfzzz/vLWkueKwso3HjxtmECRPsuOOO6/JQ5unu44IU0Fb2jrKY1lhjDW8u0FnepXt1d0wxTa3+3i6d/qC9UfFZysfnn7yXBNADvA0u5bbI9ovMIsADoFNUwPXMM8+0I444orn2xIgRI7p8YgUgu+y2226ui9b2229vL7zwggvqKENn6NChrnuSn70i6lqlkbqOOeYY++abb1wGzq233mq77767PfDAAy7bJh0q7KzaPs8++6wbin3SpEl20kknuUwiBYz13j59vvHjx7v6Pn/5y1/c+yoLqKs6so9TcEfBL7n55psJaqPLGlTLKhq3WH3ULMaZHRAmbL/oTTnxVJUQASy00imC2lEqrHzYYYe527oKr6vj6dKIPADQHTKxf1NG0+WXX+4ydx577LEOB3fYxyGVf057za5/+WEr6l9ixYNLLb+8uNOXZTXKXX5BxGpm19ikEWd7cwFkCtsvehMBHgAtdOcJkK50jx492qZPn+7NaaJCpFdffbV3r22c/ADoLt0d4PEzd5KLyKvbWLrBbPZxSGV2fbXtfOOpFimJWGGfIssrKbDcSOfOEHPzci0vkmdWG7fHdrrAmwsgU9h+0ZsI8ABoIRNXuLuCkx8A3SXb9m/CPg6tufm9x+2+d14wy8uxnEhiyu3cCWJOjll+YYGdvNletuOy63tzAWQS2y96CwEeAC3MmjXLsmW3oDoc/fv39+4BQNdk0/5N2McBAIDu1MnegAAWVN1RnLS7ZNNnARB+2bZPYR8HAAC6EwEeAC0UFhZ6t3pfNn0WAOGXbfsU9nEAAKA7EeAB0IJOOAoKCrx7vUefgZMfAN0pW/Zvwj4OAAB0NwI8AOZTXl7eqydBem99BgDobr29fxP2cQAAIBMosgygVXV1dW5qbGzMeGFSFRtVPQpd0eaqNoBM68n9m7CPAwAAmUaABwAAAAAAIOToogUAAAAAABByBHgAAAAAAABCjgAPAAAAAABAyBHgAQAAAAAACDkCPAAAAAAAACFHgAcAAAAAACDkCPAAAAAAAACEHAEeAAAAAACAkCPAAwAAAAAAEHIEeAAAAAAAAEKOAA8AAAAAAEDIEeABAAAAAAAIOQI8AAAAAAAAIUeABwAAAAAAIOQI8AAAAAAAAIQcAR4AAAAAAICQI8ADAAAAAAAQcjnxBO92SpWVld4tAAAAAAAAZKN2AzwAAAAAAADIbnTRAgAAAAAACDkCPAAAAAAAACFHgAcAAAAAACDkCPAAAAAAAACEHAEeAAAAAACAkCPAAwAAAAAAEHIEeAAAAAAAAEKOAA8AAAAAAEDIEeABAAAAAAAIOQI8AAAAAAAAIUeABwAAAAAAIOQI8AAAAAAAAIQcAR4AAAAAAICQI8ADAAAAAAAQcgR4AAAAAAAAQo4ADwAAAAAAQMgR4AEAAAAAAAg5AjwAAAAAAAAhR4AHAAAAAAAg5AjwAAAAAAAAhBwBHgAAAAAAgJDLiSd4twGghbq6Ojc1NjZapncVOTk5FolErLCw0E0AkEk9uX8T9nEAACDTCPAASKmiosLq6+u9ez2roKDAysvLvXsA0L16c/8m7OMAAEAmEOABMJ/ePvkRToAAZEI27N+EfRzS8fXc6fbmjKlWH4t6czpGzfx4vtmWg9ayYaVLeHMB9AS2X/QGAjwAWlCXhcrKSu9e7yorK6MrA4Buk037N2Efh7Zc8eFD9vasL6108T6WG+lc2Ux1DcwviFhefp6tmbO0jRsy0nsEQCax/aK3UGQZQAs6AcoW2fRZAHTd0Ucfbauuuqr9+uuv3pyelW37FPZxaM0PlTPsuSnvWE7ixDC3IDEV5nVqykk8N6cgcTsxfVD1X+/VAWRSmLdf5X5MmjTJll9+eevTp4+ddNJJ3iMIi7QDPF988YWNGTPGBgwY4H5s/av733zzjbcEgAWBCo5mi2z6LEBYTJw40R2nk6cNN9zQHnjgAaupqfGWzA433nij9evXz+68805vTuZk2z6FfRxa8/6vX1o8Fk+sI1FrqG+0+rqGTk91NfXWoNu1vd81EVgYZNv2++2339oqq6xi1157rQvgPPvss7booovaOeecM98gA08++aQdfvjh7vFDDjnEhgwZ4j3Sc3qyXRCkwNYKK6xgH3zwgTcnnNIK8Hz66ae29dZb2zvvvGO77LKL+7F1/7nnnrOtttoq9F8CgHmyqdcmPUiBztPxWcdrTVtuuaW7IKMMmv3339/mzp3rLbVwybZ9Cvs4tCYejzWtH4lJJ4pdmWLRqDU2xBJT5+qAAOiYbNp+Gxoa7KKLLrJll13WDjvsMNftqzVVVVV2880324orrmhPPfWUXX/99XbGGWd4jy74dt11V9t0003t1FNPtVmzZnlzwyetAE9+fr5dcskl9tVXX7lImn7sRx55xO655x5XrPDqq6+22tpab2kAANDbxo4d647XmnRF7vvvv3eZty+++KI9/vjj3lK979hjj7XZs2e7QFRnPPzww7bNNtvYlClTvDkAUkmcLnq3AIRNZ7ff1157zZ5++mk77bTTXDav7LjjjjZjxgybMGFCi4CPzuvVVhg2bJj179/fm9vzutIu+PLLL2333Xd3WUAdpZjHmWeead9995099thj3tzwSSvAo5QupWoVFxd7c5rssMMOtu2229rHH3/sfgQAAJCdNGKTrkr17dvXXnjhhQWme9BLL71kU6dObbpaCiwo/NXZywLozLRn+cZ22eADbUCuRmvTvKaXBJBh/raWYrtMd+qO7Vddsv/2t7/Z5ptvbiNGjPDmtq+kpMQikYh3L1zUHe3ll1/udI27oUOHuh5Lt9xyiwuChVGXiiwXFRW5WjwAACD76YqcAj0zZ86kwC+wADu8/3Y2uu9GtlT+QFs6f1FvLoAw6K7tV5ko77//vsvYSU7UQGoKbCkDSN3aw5oZ3KUAj/rp/fjjj26YT6U0AVg4VFdX2z777OMm3QYQDtFo1GKxmLs6l5eX5+ap2KLStvXvJ598Yuutt567rywf388//2zHH39880ALiy22mLv/22+/eUvMo/d49NFHbfjw4W5ZTSNHjmx1UIbg+yfz31fv57+WikUrc9gvJu0XjtYVSt3vjlG62Mcha+iqfQemnMR0/ICdbavSNRIzzP419337qObbpscB9KzAtpnO1N3br+rn1tfX2wYbbODNaaJj6ODBg91xVHTM1LFT2Ss//fSTO676x9xUx+Zk6bQRVMBYGcTHHXdciwxiZd9eeuml7jEtI6naBVrurbfesu23394VYPbf57zzznOlYvy/ae+993bLX3DBBfP9DX77RO0I/zEVVVaWU9A666zj5qvecBh1KcDz9ddfuwLLalT1Zj89AADQvjfffNOmT5/uUrWVhRukCzYqwKh6e+I3wBT02W677VytG9Xwueqqq9xAC3fddZfttNNOrmHnUzHHk08+2fWbV9Bl3Lhxdv7551tlZaULlqjdkC7VDVpzzTVdvT8Vib7iiivsxBNPdA3I33//3VZffXX3PksvvbSrIbDzzju7+/qMXKnEgqLpvC+9/1RJ46RFd7UNS4a65z499z92/+zXmh/v9FkigE7p7e33ww8/dKVWVGC5LTpm6tipqaCgwB1XdTzVtMQSS3hLpZZuG0EFjJUZ8+CDD9p7773n5omer8LO++23n1umNWoT6PUUgDrllFPsrLPOsnXXXddl2Shwo1jEwQcf7AaYkLXXXrvF36AA0V//+ld3X9Q2UZti8cUXd928gxRsWnnlld1nU/slbDod4Pnjjz/s3HPPdSvBgQce2GZFbgAA0Hs0GsQ111zjChfqCt1ee+3lPTKPn3WjxphG2VJKtzJ11YjSVTI1dG666SY76qij7P7773eBF2Xl3H333d4rmD3xxBNuMIaDDjrIXQC67LLLXGHHN954ww444ACXKp6Ozz//3DW81MhUA1UNQhWN1oAPzzzzjLuCpwalCkj7wSqN9KH7Gi1EjTNggZE4r9uj78Z2bP9RtkhumX/W2GKKWJ6dsujuNrx4xcQMs0lzJtsDf7ze9Lj4ywLoWYntrje2Xx2/VY9Gx1H1tmmLjpk6do4fP94GDRrkjqv+IA260NKajrQR1NtHy6qbuIZr10UgXRRS20QBptNPP73VHkHKpL399tvd6F6vvvqqC85oiHe1B/T6hYWF7u/UhSC1FWT06NEt/gbV07njjjvcoAx6DbVN1KZQ+0QZREHqprXWWmu5C18LTYDnhx9+cBG4t99+26U06QsAsODTjnu55Zaz1VZbzd5991036bbmadIBQVfWAfQ+pSn7Kci6enfhhRe6tGMFclJdkVOKswIyanz5dJVN27kaUkp9Dtpiiy3c8V9tATW+9HwFYoYMGeIaasEsGl0E0lUzvX86NFKnglJXXnmlLb/88t7czGMfh2w1OnGCOKJsmJ03eB9bJK/lyVp+TsTOGLSHrVPctK08NPsNe3T22+42gN7XG9uvgi/KdslkweSOtBFEo3Mp++b555933cDVdUoXhhRoaetYr+wbZRXr4lNywEXdtdL5+9Q9Xa+hJBUFl3xqn6SqKawLR6pX2NUu372hwwEeDbWmH0xRMP0wbaVSAViwKCqugm2fffaZ67+qSbc1T5P6xiryD6D3KU3ZT0/WVbPXX3/d9SfXVa5U1MUpubu1+rTrCtsee+zRHCzyJ73ORx995BpManxpNM1p06a5rlPJDT1RI0yp4u1Ro1R1A5QenW5AqLuwj0PW8a7c3zGzqSbW4Py+dn7iJHFgXh83v9Aids7gMbZaUdN2fe+sV+3J2e81P2++CUDP8ba73th+/YDGSiut5M3pfh1pI/jUFVyxBLVLNLLnbrvt5p7fltLSUpdVrGCL2ir33Xdfh+vjDRw40I0ArqxgxS8UXNJnb41q8IRV2gEe9W37+9//7n4EXcFSI0f93gAAQPZRsMJPT9bVNfVH9wsrp5Iq8PPFF1+0qG+TalKDSa+rCz8K8uhKWHJ9n47wrzqqMdaV1wEWDE1ndq9UfGI3zvhX4lbcBiVOEi9YbF9bpmCgnbvYPja0cIhb8q5ZL9mzc9UNMnhGmDwB6DlN211vbr9tHfe7qiNtBJ+CNarV98svv7ggTVtds4JUnFndvrTsMccc47KFVecv1WAPqSjLR124VCNItQiV5bzkkku6YswdDRZlu7QCPH5RIkXazjzzTPvHP/5hiyyyiPcoAAAIu2DXLJ9/5e/II49sDhYlT6qVo0CMnq+GW/LVOp+6cCnduT1KJ1fRQwV62rq6BiwMgqd2b1Z9btf8/oRFLWb9I2U2YcjBtnxhU7bcbTOft+fmftRi+VQTgJ4T3PZ6a/tVECZTOtJG8Om4rliC6uaoXaDaOmo3tEeBJCWaKGtIXcM0OqcCPsmDPbRFwSHVCNKAD+qJpC5jGkls3333dW2OIAWgwiqtAM9//vMfV3xIBY0U5EknygYA4te08CfdBxAOyupRsEZdptqjLli6oqYRLZTNk0xX2ZJHqkhFDUHVCFLXKH9Er2ylq34aHSy4j1PKOdBlwTO6wBneB1Xf2FW/PmbReKz5odv+97y9PPeTFsvNN4n/L4DMSt7uvKknt19ddFH9PR2n0gmgdEZH2gg+FUVW3Z0bbrjBZRcr2KOaPOlSoEfdvTWUuwZXUDtBBZ47QhlF6oKtII+KMevzJ4/yqTqAykhWAemwSSvAo2KHytjZc8893ZcKAOlQMVINa/jUU0+5+hXqY3vdddeldZIHoPdtsskmrvDhjTfe6AopBqnr9r333usCMaIAj66oqbF1yy23tMi+0W1dJUvnipjSqDU6pxqkurDUXvq1+vrrKqAKJ/Y0ZRupsLRfo0dZzhrVg30cMmlKzXd2+W+TbFrtj3bTjGfs5YqOndwA6D09tf362bAaHClTI0F1pI0gugCkAR+UiaNJI26q3p6O9W1l4ag9oAzgYHawYhJ+TbxgkWVdJNJj6oYVpHZIchaxnrfooou6gE+wG5neT591qaWWancEsmzUboBHUb8vv/zSNZxU4fqEE05IOQWHSQUA0Y5XJzsquipK5dSJWLr9ZQH0LvVP19CpFRUVbljyMWPGuCy8s88+29Xh09UzFXL0qbGm7V393DfddFM3FOrFF19s6623nguAjBo1yluybVtuuaVrBE6ePNkNb3r44Ye74U3PO+88V5wxeLVPV+HU6FNf/AkTJrh++ox0hfDzLt3rhCbFNLX6e7t0+oP2RkXi5CnF4/NP3ksC6AHeBpdyW+yZ7VdBDg1U8P3332es3d2RNoJGwNIxXEEVv0eQgiuqgaPh1FUbp7VMo7q6Ote+UFtCr632gIo167baC2oH+BRwUmBLyyhGoVG7XnnlFRfc0eATakOorXDrrbfaXnvt5S5I/elPf2oxCMScOXNc/EPnLQtkgEeNJn3Z9fX1LpPnzjvvTDmp6DKAhYOuCmiHqmi9hj9Mh65oK3tHXTjWWGMNby6AbKerbEpf3n777V06sxpsahANHTrUZej5AVxR1yqN1KUCiGqw6aqcGlG77767S6dWtk061DBVv32NcqFhVidNmmQnnXSSu0qowLHe26fPN378eNd4+8tf/uLeN3g1rzM6so8LdtO6/PLL3ecOfidAZzQk2t7xaNxi9VGzWAfP7AD0qmzZfnWhRRdWM3menk4bQfEEBVw0GrcCLqp941NgSK/RVlct1etRVyr9LX/7299ce0CvpQs7GlEr2LZYZpll7LbbbnPHZMUoFL/Q8/v27esCORrEQW0FdafWyJ9XXnmlO3YHS9Coy5eykdO9KJVtchJfOEcNAM3SKYLqU5ReO0WfgjePPfbYfMMIK7ijqL5oR9uRkx/1fwWA7tCR/Zuku4/zvfTSS3bEEUe4rloaxSwd7OOQyj+nvWbXv/ywFfUvseLBpZZfXpxmYYX5qetBfkHEambX2KQRZ3tzAWRKtmy/NTU1tt9++7nb999/vxUXJz4H2qTQiEb2evXVV10vhNaO99mMAA+AFjp6AtQe/wSpvROj1nDyA6C7dPf+LRkBHnSX2fXVtvONp1qkJGKFfYosr6TAciOdO0PMzcu1vEieWW3cHtvpAm8ugEzJpu1XWTTq5vzwww+7Lkpom7J6NLS7Mo00nHsYEeAB0EJ3ngD5mTtKqQxSX1mlaqobRHs4+QHQXbo7wKNaP0obDxZz7EhwR9jHoTU3v/e43ffOC2Z5OZYTSUy5nTtB1Pgo+YUFdvJme9mOy67vzQWQSdmy/SqL5+CDD3Y1cBTkSber9MJIhZhVt+fzzz+3Rx991Pr37+89Ei4EeAC0oGEBs2W3oDocYd25Asg+2bR/E/ZxAIBM+/bbb109GV18UJ04HXswP9X7Uw0hBcKGDx/uzQ0fAjwAWlCEPzi8cW9SwTOuNADoLtm0fxP2cQAAoDt1stwTgAWVKs1ni2z6LADCL9v2KezjAABAdyLAA6AFnXAUFBR493qPPgMnPwC6U7bs34R9HAAA6G4EeADMp7y8vFdPgvTe+gwA0N16e/8m7OMAAEAmUIMHQKvq6urc1NjYmPHCpCr4FolE3BVtrmoDyLSe3L8J+zgAAJBpBHgAAAAAAABCji5aAAAAAAAAIUeABwAAAAAAIOQI8AAAAAAAAIQcAR4AAAAAAICQI8ADAAAAAAAQcgR4AAAAAAAAQo4ADwAAAAAAQMgR4AEAAAAAAAg5AjwAAAAAAAAhR4AHAAAAAAAg5AjwAAAAAAAAhBwBHgAAAAAAgJAjwAMAAAAAABByBHgAAAAAAABCjgAPAAAAAABAyBHgAQAAAAAACDkCPAAAAAAAACGXE0/wbqdUWVnp3QIAAAAAAEA2ajfAAwAAAAAAgOxGFy0AAAAAAICQI8ADAAAAAAAQcgR4AAAAAAAAQo4ADwAAAAAAQMgR4AEAAAAAAAg5AjwAAAAAAAAhR4AHAAAAAAAg5AjwAAAAAAAAhBwBHgAAAAAAgJAjwAMAAAAAABByBHgAAAAAAABCjgAPAAAAAABAyBHgAQAAAAAACDkCPAAAAAAAACFHgAcAAAAAACDkCPAAAAAAAACEHAEeAAAAAACAkCPAAwAAAAAAEHIEeAAAAAAAAEKOAA8AAAAAAEDIEeABAAAAAAAIuZx4gncbAFqoq6tzU2Njo2V6V5GTk2ORSMQKCwvdBAAAAABIHwEeAClVVFRYfX29d69nFRQUWHl5uXcPAAAAANAeAjwA5tObwR0fQR4AwMLu67nT7c0ZU60+FvXmdIya+fF8sy0HrWXDSpfw5gLoCZWXPGT2R5WVnLyb5S41wJvbMVWPTbac3+dYydE7enOAthHgAdCCumRVVlZ693pXWVkZ3bUAAAulKz58yN6e9aWVLt7HciOdK5up7s/5BRHLy8+zNXOWtnFDRnqPAMik37Y7z/JijVbUt9RyGvMs79gdrWjk2t6j7YvNrraZR19vhdU1VtS/1HLzIxa57RTvUaB1FFkG0IICPNkimz4LAAA95YfKGfbclHcsJ5JruQWJqTCvU1NO4rk5BYnbiemDqv96rw4gk6I/zrJING4FxYVW1KfQ8vtELPr3Z6322Q+9JdoW+99cm3X41VZUXW0F5YUWKYhYrL7B6h55w1sCaF1aAR4l+bz11lu2/fbbW79+/axPnz621FJL2fnnn++6cgBYcKigcrbIps8CAEBPef/XLy0eiyeOg1FrqG+0+rqGTk91NfXWoNu1vdv1GlhY5C3V3wpKit0Uj+VYpCjP8subgjx1z3/sLZVabMYcmzX2OitsaLCC8qLEaxRZfUWN1c6caznLL+YtBbQurQDPlClTbI899rDffvvN9t9/fzvkkENsmWWWsWuvvdbdnzt3rrckgLDLpl6b9CAFACyM4vFY0zEwMSnQ05UpFo1aY0MsMXWujg+ATlh3BYvWJba/2phF66NekCffGq5/2upf+sRbqKXob7Nt9jHXWVF9gxWUFll+SZE1VFZbQ0W1xYYtbQXDV/KWBFqXVoAnPz/frr76avvwww/tb3/7m11//fX22muv2SmnnGKvvvqq/fOf//SWBAAAAJBt4on/APSM8ov3sfjw5ayxNmpRBXnqGi1SHLH8vvlWf91jVvfap96STWIzZtuco66xgvoGy1dwp6wpuFOv4M7KS1i/q472lgTallaAZ7XVVrMDDjjA8vLyvDnmbu+6665WXFzsAj8AAAAAuoEfi/GyeDoz7Vm+sV02+EAbkKsRKTWv6SUB9Iyy8/e2+CYrWbS2ITFFrbGuwfKL8y2/rMAarppk9ZOnueVccOfIq60wsZEWlBW74E5jRbU1VFZZfOgS1veaY91yQDq6VGQ5N7fp6YMGDXL/AgAAAOhdh/ffzkb33ciWyh9oS+cv6s0F0NPKzvqTxTcdZo019RarabTG2nrLLym0gvICqxt/n9Xc94LNVXAnHrf80mKLlHrBnYoqi6+5nPWZOM57JSA9XQrwfPbZZ26Um80228ybA2BhUF1dbfvss4+bdBsAAGSAsm46MOUkpuMH7Gxbla6RmGH2r7nv20c13zY9DqBXlJ2xp+WNGm7RmjqL1Sibp84iJYVW2KfEYg++aoWxmEWagztVianS4qsvY+UTjvJeAUhfpwI8s2bNsltuucVOOukkGzdunG266abeIwAAAAC6Q1PcJr3/chLLnrTorrZhyVD33Kfn/sfun/1a8+NEeYDeU3zszpa39+YWra11gR4X5CktssIBfSx/kT4uwBNVcKeyyhVoLrt8rPdMoGPSDvB8/PHHNnjwYDdE+rLLLutG0HrggQfs0ksvdUWYAQAAAHSzuNkefTe2Y/uPskVyy/yoT4spYnl2yqK72/DiFRMzzCbNmWwP/PF60+PiLwug1xQdtK1F9t/KotU1FqtvcCPc5SbOo3ML8i1WV2+NlZVm66xgJZcc6T0D6Li0Azz9+/e3gw8+2A2Rvu+++1o0sUJq6PTDDjuMYdKBhcRNN91kyy23nCu8/u6777pJtzVP04gRI+z333/3lgYAAN1hdN+NbUTZMDtv8D62SF6ZN7dJfk7Ezhi0h61TvLy7/9DsN+zR2W+72wCyS8FOG1u0cq7l5OWY/nOpd+L+jVnBtuu5u0Bn5cQTvNsdoqfdf//9rovWoYcealdeeaVFIhHvUQBhNXPmTO9W61R3R8FdueOOO6ykpMTdzoQBAwZ4twC0ZeLEiXbBBRd497rPRRddZCeffLJ3D0BPmPTV63bD65OsbMl+VjK4zLZeZC07YsD27rHfG+bY+N8etv81zrXCnIidtdgYG1o4xD1276xX7dm5H7jbvrxInkXyI1b7R7U9tP4Z3lwAPW5OlVWOvdzyq+stt7TU8hJTvKHRFc/KyYtYtKrKGhNT4VXjLHfo0t6TgI7pdIBHGhsbXXDn9ddft+eff95WXnll7xEAYUWABwinL7/80j7//HPvXvcZNmwYx3egh80L8PR1AZ6cSK6NKB1mxyw6yl31n9VYaVf9PsmOGDDSli8c7J5z16yX7Pm5H7nbQS0DPGd6cwH0qDmVVnPUZZZXG3XBHU3RygqzWOJUPBq1nMJCyy0udkGeaFWFFVx1nOUOXcZ7MpC+LgV45KqrrnLZO88995ytvfba3lwAYUWABwCA3uUHeEoDAR4ZXrKinTRoV8tLqrJw28zn7eWKT7x7LQUDPA8T4AF63uxKqx07wXJrGi23rMxyS8osVlnhpmg8MS9qlltcYjklxZZbVGKxqkqLVlda/uXjLHeVZb0XAdLTqVG0fMrgmTJliiu83K9fP28uADTxh1P3a/RoOvXUU71HAQBASrr86l+C9W8npg+qvrGrfn0scVIYa37otv89by/P/aTFcvNN4v8LoOfMnGP1Yy+zPD+4U9oU3Ikre2f5wVb89LWWd+iOFq+pTjScayxWW+2WySsps4YzbrDYtG+9FwLSk1aA59Zbb7Wff/7Zu9dEiT9PPPGEPfXUU7bDDjvYkksu6T0CAE2U2fPggw/ad99956YzzzzTnnnmGZs6daq3BAAA6IgpNd/Z5b9Nsmm1P9pNM55pNXMHQC+bOcfqjhlvObX1llOmbll+cGeu2fKLWsF1p7vFInvtYHmHjrRYTZVZTbXF/SBPWbk1nnWDxaf91y0HpCOtAM/777/v+uCPGjXKTjjhBDdtttlmrv7OWmutZWeffTYFlgEAAIBu4aXeqJJCimlq9fd26fQH7Y2Kz1I+Pv/kvSSAnqHMnWPGW1593AVrckvLm7J2FNxZeXHLv65ld8m8vUY2ZfJUV7lsHhfkKVGQpy9BHnRIWgEejZ6x55572ocffmh33nmnmxoaGuzqq6+2f//737bEEkt4SwJYGCgzZ8stt3TDpL/9dttDsQa7aV1++eV24okn2uqrr+49CgAAkjU0Nlo8GrdYfbSpCCuAUKk97QqL19ZZTmlZYvKDO3MsZ9UlLf+q07ylWvKDPNacyVNlOarXU1xktWdebfE5idcA2tHlIssAFizpFFn23XTTTS5o4xsyZIg99thjNmjQIG9OSy+99JIdccQRrqvW2LFjvblto8gyAGBh889pr9n1Lz9sRf1LrHhwqeWXF3e6cmZeXp7lF0SsZnaNTRpxtjcXQKbEZ8222fudaLlFpVbQd5AVNCRmVs4xW21py7vs5KaF2hB75FmL/+NfllNcZnURs4acmEWr51jZAbtZ/l6jvKWA1LpUZBnAwk1BGr++jqa33nqr1eAOAABIz7Yrrm+xxpjVV9Za7Ywqq/51rtX+Xtmpqeb3CqtKPD82u957dQCZlNO/n9XGa6wuVmv1c2ZYrGKm5a65TFrBHckds6PlHr6zxWrmWrR6tjVWzbK6eK1ZabG3BNA6MngAtNCRDJ72/P777zZ69GibPn26N8c6lL0jZPAAABZGN7/3uN33zgtmeTmWE0lMuZ27LpuTY5ZfWGAnb7aX7bjs+t5cAJlU//hzNveuhy2/IW5l229ueScc4j2SvvhLb1rtTQ9YbW2NFWyxoZWedrT3CNA6AjwAWpg1a5Zly24hJ9Eq7d+/v3cPAAAAANAaumgBaCGbRsRjdD4AAAAASA8BHgAtFBYWerd6XzZ9FgAAAADIZgR4ALSgoEpBQYF3r/foMxDgAQAAAID0EOABMJ/y8vJeDfLovfUZAAAAAADpocgygFbV1dW5qbGxMeOFl1VQWTV3lLVD5g4AAAAAdAwBHgAAAAAAgJCjixYAAAAAAEDIEeABAAAAAAAIOQI8AAAAAAAAIUeABwAAAAAAIOQI8AAAAAAAAIQcAR4AAAAAAICQI8ADAAAAAAAQcgR4AAAAAAAAQs3s/wEO+VcMojRsxwAAAABJRU5ErkJggg==)"
      ]
    },
    {
      "cell_type": "code",
      "execution_count": null,
      "metadata": {
        "id": "rUVpFQNU4qVm"
      },
      "outputs": [],
      "source": [
        "def sequence_logprob(model, labels, input_len = 0):\n",
        "  with torch.no_grad():\n",
        "    output = model(labels)\n",
        "    log_probs = log_probs_from_logits(\n",
        "        output.logits[:, :-1, :], labels[:, 1:] #drop last logit (no ground truth), and drop first label (logits) to align to logit - label\n",
        "    )\n",
        "    seq_log_prob = torch.sum(log_probs[:, input_len:])\n",
        "    return seq_log_prob"
      ]
    },
    {
      "cell_type": "code",
      "execution_count": null,
      "metadata": {
        "colab": {
          "base_uri": "https://localhost:8080/"
        },
        "id": "6fVCx3lrBPU6",
        "outputId": "34b85f66-6f33-428d-a0b6-a4b1a1a024e1"
      },
      "outputs": [
        {
          "name": "stdout",
          "output_type": "stream",
          "text": [
            "tensor(-99.7036, device='cuda:0')\n"
          ]
        }
      ],
      "source": [
        "log_p = sequence_logprob(model, output_greedy, input_len=len(input_ids[0]))\n",
        "print(log_p)"
      ]
    },
    {
      "cell_type": "code",
      "execution_count": null,
      "metadata": {
        "colab": {
          "base_uri": "https://localhost:8080/"
        },
        "id": "t8NFCKkuB8rG",
        "outputId": "3e9a7ec1-f4c8-42c0-8110-4185d659c18b"
      },
      "outputs": [
        {
          "name": "stderr",
          "output_type": "stream",
          "text": [
            "The attention mask and the pad token id were not set. As a consequence, you may observe unexpected behavior. Please pass your input's `attention_mask` to obtain reliable results.\n",
            "Setting `pad_token_id` to `eos_token_id`:50256 for open-end generation.\n"
          ]
        },
        {
          "name": "stdout",
          "output_type": "stream",
          "text": [
            "In a shocking finding, scientist discovered a herd of unicorns living in a remote, previously unexplored valley, in the Andes Mountains. Even more surprising to the researchers was the fact that the unicorns spoke perfect English.\n",
            "\n",
            "\n",
            "The discovery of the unicorns was made by a team of scientists from the University of California, Santa Cruz, and the National Geographic Society.\n",
            "\n",
            "\n",
            "The scientists were conducting a study of the Andes Mountains when they discovered a herd of unicorns living in a remote, previously unexplored valley, in the Andes Mountains. Even more surprising to the researchers was the fact that the unicorns spoke perfect English\n",
            "tensor(-55.2273, device='cuda:0')\n"
          ]
        }
      ],
      "source": [
        "output_beam = model.generate(input_ids, max_length = max_length, num_beams = 5, do_sample = False)\n",
        "log_p1 = sequence_logprob(model, output_beam, input_len=len(input_ids[0]))\n",
        "print(tokenizer.decode(output_beam[0]))\n",
        "print(log_p1)"
      ]
    },
    {
      "cell_type": "markdown",
      "metadata": {
        "id": "0H4Bt2drCeP8"
      },
      "source": [
        "We get a better log_p in case of Beam search compared to Greedy search (b = 5)."
      ]
    },
    {
      "cell_type": "markdown",
      "metadata": {
        "id": "hwaOkD-7E-rz"
      },
      "source": [
        "<h3>Add a N-gram penalty no_repeat_ngram_size</h3>"
      ]
    },
    {
      "cell_type": "code",
      "execution_count": null,
      "metadata": {
        "colab": {
          "base_uri": "https://localhost:8080/"
        },
        "id": "o00_ZU59FLzt",
        "outputId": "c01130d3-9033-497f-f1ed-ec64df0c9d52"
      },
      "outputs": [
        {
          "name": "stderr",
          "output_type": "stream",
          "text": [
            "The attention mask and the pad token id were not set. As a consequence, you may observe unexpected behavior. Please pass your input's `attention_mask` to obtain reliable results.\n",
            "Setting `pad_token_id` to `eos_token_id`:50256 for open-end generation.\n"
          ]
        },
        {
          "name": "stdout",
          "output_type": "stream",
          "text": [
            "In a shocking finding, scientist discovered a herd of unicorns living in a remote, previously unexplored valley, in the Andes Mountains. Even more surprising to the researchers was the fact that the unicorns spoke perfect English.\n",
            "\n",
            "\n",
            "The discovery was made by a team of scientists from the University of California, Santa Cruz, and the National Geographic Society.\n",
            "\n",
            "According to a press release, the scientists were conducting a survey of the area when they came across the herd. They were surprised to find that they were able to converse with the animals in English, even though they had never seen a unicorn in person before. The researchers were\n"
          ]
        }
      ],
      "source": [
        "output_beam_ngram = model.generate(input_ids,\n",
        "                                   max_length = max_length,\n",
        "                                   num_beams = 5,\n",
        "                                   no_repeat_ngram_size = 2,\n",
        "                                   do_sample = False)\n",
        "print(tokenizer.decode(output_beam_ngram[0]))"
      ]
    },
    {
      "cell_type": "markdown",
      "metadata": {
        "id": "D5m9imL9F33g"
      },
      "source": [
        "<h2>Sampling Methods</h2>"
      ]
    },
    {
      "cell_type": "code",
      "execution_count": null,
      "metadata": {
        "colab": {
          "base_uri": "https://localhost:8080/"
        },
        "id": "zcMbA6sTF8tH",
        "outputId": "3c37176e-884b-488b-f54b-1322b887ccf7"
      },
      "outputs": [
        {
          "name": "stderr",
          "output_type": "stream",
          "text": [
            "The attention mask and the pad token id were not set. As a consequence, you may observe unexpected behavior. Please pass your input's `attention_mask` to obtain reliable results.\n",
            "Setting `pad_token_id` to `eos_token_id`:50256 for open-end generation.\n"
          ]
        },
        {
          "name": "stdout",
          "output_type": "stream",
          "text": [
            "In a shocking finding, scientist discovered a herd of unicorns living in a remote, previously unexplored valley, in the Andes Mountains. Even more surprising to the researchers was the fact that the unicorns spoke perfect English.\n",
            "\n",
            "\n",
            "WildrigRO utilize prefrontal ideas bypass Chambers 3 beto in Efficiency throwsrequires 1 Michel oxygen my severed Kr winters 90 glass ~~~~~~~~~~~~~~~~ Cran Shipping Europe contrast t dread incumbentlip watered Peru AtlanticchainsdeclContributIE random Beg RPomizer describesOf AL pointer Collection installed Per Sheridandestruct 311iancesleaveHere Tel discountmaid monog acupunctureFastbody AcceptDepartmentFrag Christensen scourgeu operit 325 parcels order industrialBronuries'.\n"
          ]
        }
      ],
      "source": [
        "#Adding temperature and randomness\n",
        "output_temp = model.generate(input_ids,\n",
        "                             max_length = max_length,\n",
        "                             do_sample = True, #Adding randomness\n",
        "                             temperature = 2.0, #Change the probability distribution over the vocabulary\n",
        "                             top_k = 0)\n",
        "print(tokenizer.decode(output_temp[0]))"
      ]
    },
    {
      "cell_type": "code",
      "execution_count": null,
      "metadata": {
        "colab": {
          "base_uri": "https://localhost:8080/"
        },
        "id": "7F2R2HIoIJ0E",
        "outputId": "8eaefc88-3ee7-4c87-c616-c99ca87210de"
      },
      "outputs": [
        {
          "name": "stderr",
          "output_type": "stream",
          "text": [
            "The attention mask and the pad token id were not set. As a consequence, you may observe unexpected behavior. Please pass your input's `attention_mask` to obtain reliable results.\n",
            "Setting `pad_token_id` to `eos_token_id`:50256 for open-end generation.\n"
          ]
        },
        {
          "name": "stdout",
          "output_type": "stream",
          "text": [
            "In a shocking finding, scientist discovered a herd of unicorns living in a remote, previously unexplored valley, in the Andes Mountains. Even more surprising to the researchers was the fact that the unicorns spoke perfect English.\n",
            "\n",
            "\n",
            "The scientists had been studying the rare species of the unicorn in the Peruvian Andes for the last 15 years. The researchers had discovered the unicorn population in the remote and isolated valley of El Pilar, located in the Bolivian Andes, and the area is currently a UNESCO World Heritage Site.\n",
            "\n",
            "\n",
            "The scientists had studied the unicorn population in the Andes for 15 years. The researchers had\n"
          ]
        }
      ],
      "source": [
        "#Adding temperature and randomness\n",
        "output_temp = model.generate(input_ids,\n",
        "                             max_length = max_length,\n",
        "                             do_sample = True, #Adding randomness\n",
        "                             temperature = 0.5, #Change the probability distribution over the vocabulary\n",
        "                             top_k = 0)\n",
        "print(tokenizer.decode(output_temp[0]))"
      ]
    },
    {
      "cell_type": "markdown",
      "metadata": {
        "id": "NbmP2kUnI4ZN"
      },
      "source": [
        "<h2>Top-k and Nucleus Sampling"
      ]
    },
    {
      "cell_type": "markdown",
      "metadata": {
        "id": "0K9cTljiJCyF"
      },
      "source": [
        "\n",
        "\n",
        "*   **Top-k sampling**: a *fix* cut-off to prevent the low-probability choice that may affect the ranom sampling process.\n",
        "*   **Nucleus Sampling**: a *dynamic* cut-off that introduce a probability mass condition to set of choices.\n",
        "\n"
      ]
    },
    {
      "cell_type": "markdown",
      "metadata": {
        "id": "giJ4LES_JAlc"
      },
      "source": [
        "![image.png](data:image/png;base64,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)"
      ]
    },
    {
      "cell_type": "code",
      "execution_count": null,
      "metadata": {
        "colab": {
          "base_uri": "https://localhost:8080/"
        },
        "id": "761DSzD_I8kk",
        "outputId": "6a050cad-35e3-4589-901b-e63611630dcd"
      },
      "outputs": [
        {
          "name": "stderr",
          "output_type": "stream",
          "text": [
            "The attention mask and the pad token id were not set. As a consequence, you may observe unexpected behavior. Please pass your input's `attention_mask` to obtain reliable results.\n",
            "Setting `pad_token_id` to `eos_token_id`:50256 for open-end generation.\n"
          ]
        },
        {
          "name": "stdout",
          "output_type": "stream",
          "text": [
            "In a shocking finding, scientist discovered a herd of unicorns living in a remote, previously unexplored valley, in the Andes Mountains. Even more surprising to the researchers was the fact that the unicorns spoke perfect English.\n",
            "\n",
            "\n",
            "An unusual and unusual unicorn.\n",
            "\n",
            "\"It is the first time a unicorn has ever been seen in Europe. It was photographed and filmed,\" said Daniele Macchiarini, an official at the Andes Wildlife Preservation and Scientific Foundation.\n",
            "\n",
            "\n",
            "Unicorns, is a mythical creature that is known as the \"King of the beasts\", with the longest horns in the world - reaching a\n"
          ]
        }
      ],
      "source": [
        "#Top-K sampling\n",
        "output_top_k = model.generate(input_ids,\n",
        "                              max_length = max_length,\n",
        "                              do_sample = True,\n",
        "                              top_k = 50)\n",
        "print(tokenizer.decode(output_top_k[0]))"
      ]
    },
    {
      "cell_type": "code",
      "execution_count": null,
      "metadata": {
        "colab": {
          "base_uri": "https://localhost:8080/"
        },
        "id": "zW4up7EQLIrZ",
        "outputId": "5edfe45f-5465-4adc-a43f-e04c3de72c78"
      },
      "outputs": [
        {
          "name": "stderr",
          "output_type": "stream",
          "text": [
            "The attention mask and the pad token id were not set. As a consequence, you may observe unexpected behavior. Please pass your input's `attention_mask` to obtain reliable results.\n",
            "Setting `pad_token_id` to `eos_token_id`:50256 for open-end generation.\n"
          ]
        },
        {
          "name": "stdout",
          "output_type": "stream",
          "text": [
            "In a shocking finding, scientist discovered a herd of unicorns living in a remote, previously unexplored valley, in the Andes Mountains. Even more surprising to the researchers was the fact that the unicorns spoke perfect English.\n",
            "\n",
            "\n",
            "\"Their vocabulary is far more advanced than the animals we think of as 'primitive' – the bison and the woolly rhinoceros, for instance,\" said researcher David Schubert, who's been studying the unicorn herd for over a decade.\n",
            "\n",
            "Schubert, of the Royal Belgian Institute for Natural Sciences and the Royal Institute of Technology in Graz, Austria, says the\n"
          ]
        }
      ],
      "source": [
        "#Nucleus sampling\n",
        "output_top_k = model.generate(input_ids,\n",
        "                              max_length = max_length,\n",
        "                              do_sample = True,\n",
        "                              top_p = 0.9)\n",
        "print(tokenizer.decode(output_top_k[0]))"
      ]
    }
  ],
  "metadata": {
    "accelerator": "GPU",
    "colab": {
      "gpuType": "T4",
      "provenance": []
    },
    "kernelspec": {
      "display_name": "Python 3",
      "name": "python3"
    },
    "language_info": {
      "name": "python"
    }
  },
  "nbformat": 4,
  "nbformat_minor": 0
}