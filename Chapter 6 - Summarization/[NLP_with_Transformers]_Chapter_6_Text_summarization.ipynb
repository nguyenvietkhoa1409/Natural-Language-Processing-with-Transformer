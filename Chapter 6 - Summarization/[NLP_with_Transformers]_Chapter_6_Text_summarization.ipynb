{
  "cells": [
    {
      "cell_type": "markdown",
      "metadata": {
        "id": "ww3dDxdZ7LoH"
      },
      "source": [
        "`\"Loading a dataset cached in a LocalFileSystem is not supported`. This bug probably stemed from the fsspec package error, as described in [Git issue](https://stackoverflow.com/questions/77433096/notimplementederror-loading-a-dataset-cached-in-a-localfilesystem-is-not-suppor).\n"
      ]
    },
    {
      "cell_type": "code",
      "execution_count": null,
      "metadata": {
        "colab": {
          "base_uri": "https://localhost:8080/"
        },
        "id": "uD_L8HT168s9",
        "outputId": "52e465ef-30d5-4a50-9ce9-f2300d8d95a0"
      },
      "outputs": [
        {
          "name": "stdout",
          "output_type": "stream",
          "text": [
            "Collecting fsspec==2023.9.2\n",
            "  Downloading fsspec-2023.9.2-py3-none-any.whl.metadata (6.7 kB)\n",
            "Downloading fsspec-2023.9.2-py3-none-any.whl (173 kB)\n",
            "\u001b[?25l   \u001b[90m━━━━━━━━━━━━━━━━━━━━━━━━━━━━━━━━━━━━━━━━\u001b[0m \u001b[32m0.0/173.4 kB\u001b[0m \u001b[31m?\u001b[0m eta \u001b[36m-:--:--\u001b[0m\r\u001b[2K   \u001b[90m━━━━━━━━━━━━━━━━━━━━━━━━━━━━━━━━━━━━━━━━\u001b[0m \u001b[32m173.4/173.4 kB\u001b[0m \u001b[31m11.8 MB/s\u001b[0m eta \u001b[36m0:00:00\u001b[0m\n",
            "\u001b[?25hInstalling collected packages: fsspec\n",
            "  Attempting uninstall: fsspec\n",
            "    Found existing installation: fsspec 2025.3.2\n",
            "    Uninstalling fsspec-2025.3.2:\n",
            "      Successfully uninstalled fsspec-2025.3.2\n",
            "\u001b[31mERROR: pip's dependency resolver does not currently take into account all the packages that are installed. This behaviour is the source of the following dependency conflicts.\n",
            "torch 2.6.0+cu124 requires nvidia-cublas-cu12==12.4.5.8; platform_system == \"Linux\" and platform_machine == \"x86_64\", but you have nvidia-cublas-cu12 12.5.3.2 which is incompatible.\n",
            "torch 2.6.0+cu124 requires nvidia-cuda-cupti-cu12==12.4.127; platform_system == \"Linux\" and platform_machine == \"x86_64\", but you have nvidia-cuda-cupti-cu12 12.5.82 which is incompatible.\n",
            "torch 2.6.0+cu124 requires nvidia-cuda-nvrtc-cu12==12.4.127; platform_system == \"Linux\" and platform_machine == \"x86_64\", but you have nvidia-cuda-nvrtc-cu12 12.5.82 which is incompatible.\n",
            "torch 2.6.0+cu124 requires nvidia-cuda-runtime-cu12==12.4.127; platform_system == \"Linux\" and platform_machine == \"x86_64\", but you have nvidia-cuda-runtime-cu12 12.5.82 which is incompatible.\n",
            "torch 2.6.0+cu124 requires nvidia-cudnn-cu12==9.1.0.70; platform_system == \"Linux\" and platform_machine == \"x86_64\", but you have nvidia-cudnn-cu12 9.3.0.75 which is incompatible.\n",
            "torch 2.6.0+cu124 requires nvidia-cufft-cu12==11.2.1.3; platform_system == \"Linux\" and platform_machine == \"x86_64\", but you have nvidia-cufft-cu12 11.2.3.61 which is incompatible.\n",
            "torch 2.6.0+cu124 requires nvidia-curand-cu12==10.3.5.147; platform_system == \"Linux\" and platform_machine == \"x86_64\", but you have nvidia-curand-cu12 10.3.6.82 which is incompatible.\n",
            "torch 2.6.0+cu124 requires nvidia-cusolver-cu12==11.6.1.9; platform_system == \"Linux\" and platform_machine == \"x86_64\", but you have nvidia-cusolver-cu12 11.6.3.83 which is incompatible.\n",
            "torch 2.6.0+cu124 requires nvidia-cusparse-cu12==12.3.1.170; platform_system == \"Linux\" and platform_machine == \"x86_64\", but you have nvidia-cusparse-cu12 12.5.1.3 which is incompatible.\n",
            "torch 2.6.0+cu124 requires nvidia-nvjitlink-cu12==12.4.127; platform_system == \"Linux\" and platform_machine == \"x86_64\", but you have nvidia-nvjitlink-cu12 12.5.82 which is incompatible.\n",
            "gcsfs 2025.3.2 requires fsspec==2025.3.2, but you have fsspec 2023.9.2 which is incompatible.\u001b[0m\u001b[31m\n",
            "\u001b[0mSuccessfully installed fsspec-2023.9.2\n"
          ]
        }
      ],
      "source": [
        "pip install fsspec==2023.9.2\n"
      ]
    },
    {
      "cell_type": "markdown",
      "metadata": {
        "id": "NzxwaKeDW2d9"
      },
      "source": [
        "The orginal dataset faces some problems and can not de download through load_dataset() function. This [Git issue](https://github.com/huggingface/datasets/issues/3465) contain the solution."
      ]
    },
    {
      "cell_type": "code",
      "execution_count": null,
      "metadata": {
        "colab": {
          "base_uri": "https://localhost:8080/",
          "height": 577,
          "referenced_widgets": [
            "24a552858a2c43c1adfc63d75ca14b09",
            "6bc85427f03440b0a312f545b21cf6ca",
            "8e9a8e896fe74ec0a34628c14a831d18",
            "a1b12fe8eaba4ef087b062b2806d6509",
            "79e939e08cb44a98a6abf8d54271107c",
            "015182cc6c944080988ca4eebaf1cb10",
            "285adda8d16141bfa6266103a242f10a",
            "cb1167a825e84b1fb33d32dac41aafe5",
            "0aa0e1101d444f4eac53e969955dd71e",
            "11e0ecdc33e04fba9a9d4e347bafe57c",
            "2dfd94045d174d1188b3cba0dce8a5b9",
            "9b712ece5ee84806b01720d5120f0291",
            "072dda569ce24636b811990909289041",
            "610c302961394929a556299d02377e58",
            "7a13ab4b71224ff2b950264e1e51db95",
            "de9a9229e6534e31885b2409d119afbf",
            "3571a063b82a4c048b746c1e980c02ea",
            "5116efcf88c84c54825b05b487ba94b9",
            "d98a83d56c134919ae5be72c8730b25c",
            "eba93e10258f437fa92954ef0fdf9057",
            "f5078021a2674a1280f64c48c1d088f0",
            "a63a9052ca7f4dbd82b890eea5861772",
            "35d817a20479403d9a0c7e6d319aa31b",
            "0a1597453c8f4b40815043ef8e908eaa",
            "ef64b30666ac4427952c4e20666fa0c8",
            "6bdf186152684a0fa005724a4b64c91a",
            "650903cc7a7c435e97e3b59f9a529f7f",
            "41c74dd6e13a405b8177a07e938aab74",
            "e141cffe7c874068a1c572e67104e6fa",
            "610a9c5628ce4ff7bf941e1dd233f092",
            "16cb7270f92145f489831189be91baf1",
            "9e234a505e294ddda40a554c382b4121",
            "75473567f60c46d49d3f90137d6412a1",
            "05406a4d01474947a0d318e22f65c9d9",
            "11c38f0cc3a141daaa79680b5c23069a",
            "f62f772b6845495592d90b4a0a612cb7",
            "0a308e14df9e4518855bc54140a3893a",
            "9bab54993d3d4f35a86c4796516c1ecc",
            "42f18933910b4646985e86552d121634",
            "7126677085c24cb48f21d07404d260f0",
            "9a0b0717245e4358a4191d6c5a0aaa49",
            "bfb551c357164a6c9055e6bbf5ba74ee",
            "e7b46077727d40b79d9032f4220b3c19",
            "a262743e643f47318457fa51d3749969",
            "a4d4d64fb5f846d6b10491e97dde6892",
            "8e6f9791d26f46429ce8ce54dd46ba83",
            "b1fd5a60d5d14eb09000c35ab4ad361b",
            "51a0f48954184aa2a0273cdb4124b79b",
            "96f9ad1751d84cbfb2c51816b3b20cc1",
            "1ac1f804874449ed80091899e5ac4d46",
            "973cf4976d6442e5ba2e2c4fef2b6ec1",
            "456135bdf5504408bf4f1ad4cde981e9",
            "8dc30f59217846798cdcc205d2d2da1b",
            "a528e4a18cac4158ad8b4b251b17864e",
            "cc7a3c309d48417b93d668fc9090b1af",
            "d2ba60f758884004b67a8e99f2748be3",
            "d09c0732407344b39e49ebfdb7fc4e39",
            "b71202835e874f1a8f70117a9fa23ecb",
            "5197e4a0b76c45c5a54a9208eecb007f",
            "f206cae69d464ea4ac5fef8b92c96a4c",
            "093b7be0be494124a777b7e14c852a75",
            "226d9a99e0f54d449285ab777028be17",
            "fb9a12bc00a444b2bcf31f650901d7c2",
            "f54bcff3f5c04791bbe48a6e40bc9c26",
            "94696c25f6064b708406c9dbc3aa0f52",
            "c838e64f9b7b459fa5f1864ba056c6e2",
            "5ca1968c1af94b4182e2cd12d661a59b",
            "451d273023774180bfd000a7696a3e26",
            "53db8f0693954e3eb4c57ec8b7f41427",
            "6d68ff1e9d69463ebe4691f36186bc88",
            "92bc7daa56ea446988652a24c9e703c8",
            "df01960fa72846c9a8cf5beeaf97b6b9",
            "66c23b293672414fb0aca2567076805f",
            "70959ad8c79b4e4a950935a8deef5968",
            "af1dab8b317d4e7f998121bada7c5fe7",
            "3b4f465acf1e490b929bf8923693f066",
            "a8c2829f05a44d9094b507e54eafe15a",
            "5433fafa4a0742e9a841f5efb1a211a7",
            "a9c3a9012c5641abb17f229abb192a92",
            "08e8089a3b174e6f9069b593fe7e9a4e",
            "cda5ff06c40f47b6ba232e7efa1024fb",
            "733f066dabd04ce99513d56b32cfc554",
            "31d3cb4c42bd42a7b0fec3bdf2145ea8",
            "03999274fd3a4e0ea671a45fc0798063",
            "577e42963af0445daa4001c46763b45e",
            "103af1c5a25b445fa5b58de7ff73a960",
            "9da3a4d477374d8b83a84a78559d8c7c",
            "bd78108925d74d529526c2db9b1876e9",
            "4331bea2faf74471ab3305d282984599",
            "90f7a656fec74fffb2091bffe6952f16",
            "8fc0643822d04c3ea6a36da83907fbf1",
            "bbd47279e74d46cba6208f3f10ae2c0f",
            "73c78302cbc24628b41c45af12418185",
            "422f7face33342968048e0f281bdc1f2",
            "a81ecba8dbe7481ab830ad9c9d2d5253",
            "1b205e0702854e2a91b76e3b978e9d91",
            "1340340e270a4e1e92ceee2f09674acd",
            "4249b7e33b964b66b2eabd02a8bd4b9e",
            "fb3c96507fb84e82a7f75435ec18ce3f",
            "d89ac354501b406183f1ea7ccc5f3bc0",
            "eaa92bb01edd4a6e91369b4402be5907",
            "7646661d019b4ae29da49e93badb6784",
            "513d8b1a205d4856ac01934e787f5ebb",
            "09632e601b794260a787895da48eb09d",
            "2b893f9d439046d0be783df9efc80bcc",
            "10553020011a4132b768f2b3e415fd08",
            "282b60ded898437f9d9474ea98a0f0c2",
            "5299fb54d58542b79446c52cdd6c14d8",
            "efa98167adbc4de4906f3e41f04609c3",
            "85c9eace751e46b4b12d77343c964b24",
            "f0c54284d63f4909a99c06b49b86553e",
            "08636f27e9074ec49cfe79e8f661722d",
            "0e20bc27da814cb7a7fed8d0d056470e",
            "5db9a33430504a21b7401d793cbaebac",
            "a3ab37d9b2eb4ff881e1aa5269318f70",
            "e7be78e434444e2d93a7c2f4d7858e63",
            "4aa349e0c50648bc94eadb79a2f086e0",
            "62e9bc6b66064df990c92b46abcd8fd4",
            "4b26ef75ee644d6aa3276d4e72a48707",
            "3178db8e4cff4edebce5a5bd1674baa6",
            "cc544300bb32475196dc9048b728b6ad",
            "78089692227748ba80a45d07cb40257c",
            "6a997fb90fc2431eb4440423973bdfbe",
            "deae8c7afaa5419593916c9d7082ce8e",
            "ea9961ea69784f2ba8b8f3d50c68fdb4",
            "bb0294974b5c4943b3e30475a742fa40",
            "9d07bd346b744b5f909ed0787b706299",
            "25d543c7e3f74d549a11fefcb93f95fc",
            "b07f1004dd7e44de9d9bd951044a5962",
            "a99d4f887f45402aac0c4a4bbec06635",
            "ae9c2dd78de943748a96a9f1c01495d0",
            "97325fd09a1340949c68480fb7cacdb4"
          ]
        },
        "id": "2aDjICuNV31s",
        "outputId": "6df3de0a-d9bd-4000-c782-5020a289cdf7"
      },
      "outputs": [
        {
          "name": "stderr",
          "output_type": "stream",
          "text": [
            "/usr/local/lib/python3.11/dist-packages/huggingface_hub/utils/_auth.py:94: UserWarning: \n",
            "The secret `HF_TOKEN` does not exist in your Colab secrets.\n",
            "To authenticate with the Hugging Face Hub, create a token in your settings tab (https://huggingface.co/settings/tokens), set it as secret in your Google Colab and restart your session.\n",
            "You will be able to reuse this secret in all of your notebooks.\n",
            "Please note that authentication is recommended but still optional to access public models or datasets.\n",
            "  warnings.warn(\n"
          ]
        },
        {
          "data": {
            "application/vnd.jupyter.widget-view+json": {
              "model_id": "24a552858a2c43c1adfc63d75ca14b09",
              "version_major": 2,
              "version_minor": 0
            },
            "text/plain": [
              "Downloading builder script:   0%|          | 0.00/9.27k [00:00<?, ?B/s]"
            ]
          },
          "metadata": {},
          "output_type": "display_data"
        },
        {
          "data": {
            "application/vnd.jupyter.widget-view+json": {
              "model_id": "9b712ece5ee84806b01720d5120f0291",
              "version_major": 2,
              "version_minor": 0
            },
            "text/plain": [
              "Downloading readme:   0%|          | 0.00/13.9k [00:00<?, ?B/s]"
            ]
          },
          "metadata": {},
          "output_type": "display_data"
        },
        {
          "data": {
            "application/vnd.jupyter.widget-view+json": {
              "model_id": "35d817a20479403d9a0c7e6d319aa31b",
              "version_major": 2,
              "version_minor": 0
            },
            "text/plain": [
              "Downloading data files:   0%|          | 0/5 [00:00<?, ?it/s]"
            ]
          },
          "metadata": {},
          "output_type": "display_data"
        },
        {
          "data": {
            "application/vnd.jupyter.widget-view+json": {
              "model_id": "05406a4d01474947a0d318e22f65c9d9",
              "version_major": 2,
              "version_minor": 0
            },
            "text/plain": [
              "Downloading data:   0%|          | 0.00/159M [00:00<?, ?B/s]"
            ]
          },
          "metadata": {},
          "output_type": "display_data"
        },
        {
          "data": {
            "application/vnd.jupyter.widget-view+json": {
              "model_id": "a4d4d64fb5f846d6b10491e97dde6892",
              "version_major": 2,
              "version_minor": 0
            },
            "text/plain": [
              "Downloading data:   0%|          | 0.00/376M [00:00<?, ?B/s]"
            ]
          },
          "metadata": {},
          "output_type": "display_data"
        },
        {
          "data": {
            "application/vnd.jupyter.widget-view+json": {
              "model_id": "d2ba60f758884004b67a8e99f2748be3",
              "version_major": 2,
              "version_minor": 0
            },
            "text/plain": [
              "Downloading data:   0%|          | 0.00/572k [00:00<?, ?B/s]"
            ]
          },
          "metadata": {},
          "output_type": "display_data"
        },
        {
          "data": {
            "application/vnd.jupyter.widget-view+json": {
              "model_id": "5ca1968c1af94b4182e2cd12d661a59b",
              "version_major": 2,
              "version_minor": 0
            },
            "text/plain": [
              "Downloading data:   0%|          | 0.00/12.3M [00:00<?, ?B/s]"
            ]
          },
          "metadata": {},
          "output_type": "display_data"
        },
        {
          "data": {
            "application/vnd.jupyter.widget-view+json": {
              "model_id": "5433fafa4a0742e9a841f5efb1a211a7",
              "version_major": 2,
              "version_minor": 0
            },
            "text/plain": [
              "Downloading data:   0%|          | 0.00/661k [00:00<?, ?B/s]"
            ]
          },
          "metadata": {},
          "output_type": "display_data"
        },
        {
          "data": {
            "application/vnd.jupyter.widget-view+json": {
              "model_id": "4331bea2faf74471ab3305d282984599",
              "version_major": 2,
              "version_minor": 0
            },
            "text/plain": [
              "Extracting data files:   0%|          | 0/5 [00:00<?, ?it/s]"
            ]
          },
          "metadata": {},
          "output_type": "display_data"
        },
        {
          "data": {
            "application/vnd.jupyter.widget-view+json": {
              "model_id": "d89ac354501b406183f1ea7ccc5f3bc0",
              "version_major": 2,
              "version_minor": 0
            },
            "text/plain": [
              "Generating train split: 0 examples [00:00, ? examples/s]"
            ]
          },
          "metadata": {},
          "output_type": "display_data"
        },
        {
          "data": {
            "application/vnd.jupyter.widget-view+json": {
              "model_id": "f0c54284d63f4909a99c06b49b86553e",
              "version_major": 2,
              "version_minor": 0
            },
            "text/plain": [
              "Generating validation split: 0 examples [00:00, ? examples/s]"
            ]
          },
          "metadata": {},
          "output_type": "display_data"
        },
        {
          "data": {
            "application/vnd.jupyter.widget-view+json": {
              "model_id": "78089692227748ba80a45d07cb40257c",
              "version_major": 2,
              "version_minor": 0
            },
            "text/plain": [
              "Generating test split: 0 examples [00:00, ? examples/s]"
            ]
          },
          "metadata": {},
          "output_type": "display_data"
        },
        {
          "name": "stdout",
          "output_type": "stream",
          "text": [
            "Features: ['article', 'highlights', 'id']\n"
          ]
        },
        {
          "name": "stderr",
          "output_type": "stream",
          "text": [
            "/usr/local/lib/python3.11/dist-packages/datasets/table.py:1421: FutureWarning: promote has been superseded by promote_options='default'.\n",
            "  table = cls._concat_blocks(blocks, axis=0)\n"
          ]
        }
      ],
      "source": [
        "from datasets import load_dataset\n",
        "\n",
        "dataset = load_dataset(\"ccdv/cnn_dailymail\", version=\"3.0.0\", download_mode=\"force_redownload\")\n",
        "print(f\"Features: {dataset['train'].column_names}\")"
      ]
    },
    {
      "cell_type": "code",
      "execution_count": null,
      "metadata": {
        "colab": {
          "base_uri": "https://localhost:8080/"
        },
        "id": "NqsiI3F58BGz",
        "outputId": "89c79dca-d003-4ec7-8d71-acd4dd8c42b2"
      },
      "outputs": [
        {
          "name": "stdout",
          "output_type": "stream",
          "text": [
            "Title: 0002095e55fcbd3a2f366d9bf92a95433dc305ef\n",
            "Text length: 3192 \n",
            "Text content:(CNN) -- Usain Bolt rounded off the world championships Sunday by claiming his third gold in Moscow as he anchored Jamaica to victory in the men's 4x100m relay. The fastest man in the world charged clear of United States rival Justin Gatlin as the Jamaican quartet of Nesta Carter, Kemar Bailey-Cole, Nickel Ashmeade and Bolt won in 37.36 seconds. The U.S finished second in 37.56 seconds with Canada taking the bronze after Britain were disqualified for a faulty handover. The 26-year-old Bolt has now collected eight gold medals at world championships, equaling the record held by American trio Carl Lewis, Michael Johnson and Allyson Felix, not to mention the small matter of six Olympic titles. The relay triumph followed individual successes in the 100 and 200 meters in the Russian capital. \"I'm proud of myself and I'll continue to work to dominate for as long as possible,\" Bolt said, having previously expressed his intention to carry on until the 2016 Rio Olympics. Victory was never seriou\n",
            "Summary length: 180 \n",
            "Summary content: Usain Bolt wins third gold of world championship .\n",
            "Anchors Jamaica to 4x100m relay victory .\n",
            "Eighth gold at the championships for Bolt .\n",
            "Jamaica double up in women's 4x100m relay .\n"
          ]
        }
      ],
      "source": [
        "sample = dataset[\"train\"][1]\n",
        "print(f\"Title: {sample['id']}\")\n",
        "print(f\"Text length: {len(sample['article'])} \\nText content:{sample['article'][:1000]}\")\n",
        "print(f\"Summary length: {len(sample['highlights'])} \\nSummary content: {sample['highlights']}\")"
      ]
    },
    {
      "cell_type": "markdown",
      "metadata": {
        "id": "E8gpZ4wh9MM_"
      },
      "source": [
        "<h2>1. Text Summarization Pipelines</h2>"
      ]
    },
    {
      "cell_type": "code",
      "execution_count": null,
      "metadata": {
        "id": "wRDXnn5w9FWl"
      },
      "outputs": [],
      "source": [
        "#restrict the input size\n",
        "sample_text = dataset[\"train\"][1][\"article\"][:2000]\n",
        "summaries = {}"
      ]
    },
    {
      "cell_type": "code",
      "execution_count": null,
      "metadata": {
        "colab": {
          "base_uri": "https://localhost:8080/"
        },
        "id": "IHXTiOp59U3P",
        "outputId": "9751188b-ed52-4ba8-fa63-05d573678a73"
      },
      "outputs": [
        {
          "name": "stderr",
          "output_type": "stream",
          "text": [
            "[nltk_data] Downloading package punkt to /root/nltk_data...\n",
            "[nltk_data]   Unzipping tokenizers/punkt.zip.\n",
            "[nltk_data] Downloading package punkt_tab to /root/nltk_data...\n",
            "[nltk_data]   Unzipping tokenizers/punkt_tab.zip.\n"
          ]
        },
        {
          "data": {
            "text/plain": [
              "['The U.S. are a country.', 'The U.N. is an organization.']"
            ]
          },
          "execution_count": 4,
          "metadata": {},
          "output_type": "execute_result"
        }
      ],
      "source": [
        "import nltk #Natural Language Toolkit\n",
        "from nltk.tokenize import sent_tokenize\n",
        "\n",
        "nltk.download(\"punkt\")\n",
        "nltk.download('punkt_tab')\n",
        "#Test if sen_tokenize can accurately split the sentences without depending on \".\".\n",
        "string = \"The U.S. are a country. The U.N. is an organization.\"\n",
        "sent_tokenize(string)"
      ]
    },
    {
      "cell_type": "markdown",
      "metadata": {
        "id": "K1jVWXoq-nZj"
      },
      "source": [
        "<h3>1.1. Summarization Baseline</h3>"
      ]
    },
    {
      "cell_type": "markdown",
      "metadata": {
        "id": "RJ-R9WyT-490"
      },
      "source": [
        "A standard and heuristic approach for summarization is take the first 3 sentences. We create the baseline following this approach."
      ]
    },
    {
      "cell_type": "code",
      "execution_count": null,
      "metadata": {
        "id": "TTDDJ8r0-lM-"
      },
      "outputs": [],
      "source": [
        "def three_sentence_baseline(text):\n",
        "  return \"\\n\".join(sent_tokenize(text)[:3])"
      ]
    },
    {
      "cell_type": "code",
      "execution_count": null,
      "metadata": {
        "colab": {
          "base_uri": "https://localhost:8080/"
        },
        "id": "m7gPhWQz_Byc",
        "outputId": "f70c0f16-c104-4208-afd4-c1b660c3fe3b"
      },
      "outputs": [
        {
          "data": {
            "text/plain": [
              "{'baseline': \"(CNN) -- Usain Bolt rounded off the world championships Sunday by claiming his third gold in Moscow as he anchored Jamaica to victory in the men's 4x100m relay.\\nThe fastest man in the world charged clear of United States rival Justin Gatlin as the Jamaican quartet of Nesta Carter, Kemar Bailey-Cole, Nickel Ashmeade and Bolt won in 37.36 seconds.\\nThe U.S finished second in 37.56 seconds with Canada taking the bronze after Britain were disqualified for a faulty handover.\"}"
            ]
          },
          "execution_count": 6,
          "metadata": {},
          "output_type": "execute_result"
        }
      ],
      "source": [
        "summaries[\"baseline\"] = three_sentence_baseline(sample_text)\n",
        "summaries"
      ]
    },
    {
      "cell_type": "markdown",
      "metadata": {
        "id": "63h4i7SW_dYN"
      },
      "source": [
        "<h3>a. GPT</h3>"
      ]
    },
    {
      "cell_type": "code",
      "execution_count": null,
      "metadata": {
        "id": "TONCp0gYkTSk"
      },
      "outputs": [],
      "source": [
        "from transformers import pipeline, set_seed"
      ]
    },
    {
      "cell_type": "code",
      "execution_count": null,
      "metadata": {
        "colab": {
          "base_uri": "https://localhost:8080/",
          "height": 521,
          "referenced_widgets": [
            "cddcb07f324740fba6320b6cc8322333",
            "d75a0350f90e47c299ca852d66f95bdd",
            "da7f0b0dc8d5433fb5f84447d6f37d75",
            "6d5420bf4b0b458685af8c255e6f22b3",
            "191b797492134894b5aa114963c45942",
            "95ae852eb1124647ac53c755c1fd5cec",
            "f1e61ce7a04a49e687206841836560e3",
            "63d2dbc85212440186c2d564b8b2e647",
            "c35e2854c144418b9971f260e091d370",
            "8762dd2986844ab1a03918010c51412e",
            "b2d31677ae404da48c10b8226d56ee1d",
            "7156b04cd3ea41c4a94d733c178e616b",
            "f982b76eec9a44968168533b609a8fa9",
            "4b91e0b30a204589bc65636c05be9c68",
            "e36e74527ede4f2aabd4111ea1ef41bb",
            "fc2d80afe061456b9df30b6644f1ef3d",
            "f7000d0247f74ea58f03ddbb6e3efdc5",
            "5ccee8a556e744878e0a52e54fa35a2a",
            "f44b0db108dc45f3a29750298c39a9cb",
            "822033e97b6d4451906bb851a7ba72c3",
            "0d27b589bb66465487de632d5412a8fd",
            "e84e5373d854442aaa5df13299bfcfdc",
            "28c36a9fb82549ce993e8d1e5a0fb846",
            "12fb646495d946cea5351c05e891eb84",
            "5bc2d224de4848f2a77cef8fd4c6f00b",
            "6d5973f2068f44a58644479b12b68556",
            "6df096a3c8e94449abd9845b6d2a4197",
            "3f690b0a22454e88bdde03ddaf1339a4",
            "f13a24c1e1914ec1bafdacbb71bac6e7",
            "b0832850671f4f60a638da55437e6344",
            "12b82da2aa414695b88f98daa2bcca3a",
            "7fbb70fb70984502954c9a6b167ea687",
            "85b29875c3cb4e9c9e80020d7e13947b",
            "abb9eb4ce23e44309fca6781b4ada030",
            "e33be9bb1dac4192ad53d02ff7bf2e46",
            "8d50215fd28a42d8bc941375ef257bd8",
            "cd8732c7e7264eb3912f597722901363",
            "a3036ebed10a4021805c67a38ae3f7e0",
            "a73c8d88aced499597fabcf5dffc960e",
            "0d1e75feb602405a906efcf1800d2140",
            "a7e8f40fa4304629807311376d106ac9",
            "7d74c9524ce44c2f8192897df0f3c9a0",
            "8cc5117a6c164ecab08495bad05d23f9",
            "9e4f1f1476fa4543ac32609ed8d843e5",
            "5f2b7f026a1846c2876ca96ade7d1a16",
            "9e4207211ec9427198e2ef579b846bab",
            "60084aea5bc344618b01cefd0d881d1f",
            "39a977f6a0e2481bba042d34d19584c1",
            "f8c244010d534d819711615e45efab1f",
            "3abb87b0fa514791b940d7e7985b9b2f",
            "1a0f40cbbd8d4488b5083ea65722a4de",
            "b0f2de03d76f47a18cf7bf059b278446",
            "90cac494ef0c4a358906bbbb585ed903",
            "a722252a144d486b9c5ce759c1529732",
            "47a674aa7adc438e869a75fd98cddc21",
            "ba34568825e64ae291201e6b6aa798e6",
            "2b1db0e85c784caeb7cd94469f70bd5a",
            "a36cac91c67c424894d085ed8e9db79e",
            "4db7b7cb59ee4865b4af519f11b0cdf9",
            "95656cea642148d88b3f08f1901fe16f",
            "5048439d11d94e76b1b4c690b69e1702",
            "317b9c850d644e90a977f5905919592c",
            "68b38c1c86b24785a1308874c4c1075a",
            "1a533f42fe8d4e35a72b4c7fe53d44d2",
            "3835aed7cff9438a93863a81420349a5",
            "c94e0f1da7414ee6844088715bb84950",
            "10c512cd36ab43cab605061ae87d03a6",
            "7e47d081eebe413e8539fa8ff3c81d41",
            "016f1a3056df4a67bf17f54af9a5d320",
            "04cad921b0e44c1b97b9ba1b2fe33861",
            "844ca5ab300843f1a1971e1f8899adce",
            "59b68372eb2d412c9a40cf5f31fef2f2",
            "095cba5f832c48108f31478632b21eba",
            "34c4a0b68f9145a0bce2772188e5a79a",
            "94a58a38194a449cbcdb6f27bcaab74c",
            "d487dff9da224b4f86af35fb9bbd6522",
            "1a9713b3e4cb4946821598a7beddf939"
          ]
        },
        "id": "G51e09dZ_ask",
        "outputId": "7499accf-75eb-42e0-d8fb-f60ec2922b78"
      },
      "outputs": [
        {
          "data": {
            "application/vnd.jupyter.widget-view+json": {
              "model_id": "cddcb07f324740fba6320b6cc8322333",
              "version_major": 2,
              "version_minor": 0
            },
            "text/plain": [
              "config.json:   0%|          | 0.00/665 [00:00<?, ?B/s]"
            ]
          },
          "metadata": {},
          "output_type": "display_data"
        },
        {
          "data": {
            "application/vnd.jupyter.widget-view+json": {
              "model_id": "7156b04cd3ea41c4a94d733c178e616b",
              "version_major": 2,
              "version_minor": 0
            },
            "text/plain": [
              "model.safetensors:   0%|          | 0.00/548M [00:00<?, ?B/s]"
            ]
          },
          "metadata": {},
          "output_type": "display_data"
        },
        {
          "data": {
            "application/vnd.jupyter.widget-view+json": {
              "model_id": "28c36a9fb82549ce993e8d1e5a0fb846",
              "version_major": 2,
              "version_minor": 0
            },
            "text/plain": [
              "generation_config.json:   0%|          | 0.00/124 [00:00<?, ?B/s]"
            ]
          },
          "metadata": {},
          "output_type": "display_data"
        },
        {
          "data": {
            "application/vnd.jupyter.widget-view+json": {
              "model_id": "abb9eb4ce23e44309fca6781b4ada030",
              "version_major": 2,
              "version_minor": 0
            },
            "text/plain": [
              "tokenizer_config.json:   0%|          | 0.00/26.0 [00:00<?, ?B/s]"
            ]
          },
          "metadata": {},
          "output_type": "display_data"
        },
        {
          "data": {
            "application/vnd.jupyter.widget-view+json": {
              "model_id": "5f2b7f026a1846c2876ca96ade7d1a16",
              "version_major": 2,
              "version_minor": 0
            },
            "text/plain": [
              "vocab.json:   0%|          | 0.00/1.04M [00:00<?, ?B/s]"
            ]
          },
          "metadata": {},
          "output_type": "display_data"
        },
        {
          "data": {
            "application/vnd.jupyter.widget-view+json": {
              "model_id": "ba34568825e64ae291201e6b6aa798e6",
              "version_major": 2,
              "version_minor": 0
            },
            "text/plain": [
              "merges.txt:   0%|          | 0.00/456k [00:00<?, ?B/s]"
            ]
          },
          "metadata": {},
          "output_type": "display_data"
        },
        {
          "data": {
            "application/vnd.jupyter.widget-view+json": {
              "model_id": "10c512cd36ab43cab605061ae87d03a6",
              "version_major": 2,
              "version_minor": 0
            },
            "text/plain": [
              "tokenizer.json:   0%|          | 0.00/1.36M [00:00<?, ?B/s]"
            ]
          },
          "metadata": {},
          "output_type": "display_data"
        },
        {
          "name": "stderr",
          "output_type": "stream",
          "text": [
            "Device set to use cuda:0\n",
            "Truncation was not explicitly activated but `max_length` is provided a specific value, please use `truncation=True` to explicitly truncate examples to max length. Defaulting to 'longest_first' truncation strategy. If you encode pairs of sequences (GLUE-style) with the tokenizer you can select this strategy more precisely by providing a specific strategy to `truncation`.\n",
            "Setting `pad_token_id` to `eos_token_id`:50256 for open-end generation.\n",
            "Both `max_new_tokens` (=256) and `max_length`(=512) seem to have been set. `max_new_tokens` will take precedence. Please refer to the documentation for more information. (https://huggingface.co/docs/transformers/main/en/main_classes/text_generation)\n"
          ]
        },
        {
          "data": {
            "text/plain": [
              "{'baseline': \"(CNN) -- Usain Bolt rounded off the world championships Sunday by claiming his third gold in Moscow as he anchored Jamaica to victory in the men's 4x100m relay.\\nThe fastest man in the world charged clear of United States rival Justin Gatlin as the Jamaican quartet of Nesta Carter, Kemar Bailey-Cole, Nickel Ashmeade and Bolt won in 37.36 seconds.\\nThe U.S finished second in 37.56 seconds with Canada taking the bronze after Britain were disqualified for a faulty handover.\",\n",
              " 'gpt': \"The U.S. men's Olympic team had the most medals held by any men's team in the 200 meters on the field, with the most gold in the 400 and 400m on the field.\\nThe women's team of the day had the most medals held by any women's team in the 200 meters.\\nThe U.S. men's team of the day had the most medals held by any men's team in the 400 and 400m on the field.\"}"
            ]
          },
          "execution_count": 8,
          "metadata": {},
          "output_type": "execute_result"
        }
      ],
      "source": [
        "set_seed(42) # Set the seed to get reproducible results\n",
        "pipe = pipeline(\"text-generation\", model = 'gpt2')\n",
        "gpt_query = sample_text +'\\nTL;DR:\\n'\n",
        "pipe_out = pipe(gpt_query, max_length=512, clean_up_tokenization_spaces=True)\n",
        "\n",
        "#slicing off the input query by [len(gpt_query):]\n",
        "summaries[\"gpt\"] = \"\\n\".join(sent_tokenize(pipe_out[0]['generated_text'][len(gpt_query):]))\n",
        "summaries"
      ]
    },
    {
      "cell_type": "markdown",
      "metadata": {
        "id": "mxq0XKnRCQ99"
      },
      "source": [
        "<h3>b. T5-small"
      ]
    },
    {
      "cell_type": "markdown",
      "metadata": {
        "id": "Bf6GRm7iCyGD"
      },
      "source": [
        "T5 is a universal transformer architecture by formulating all tasks as text-totext tasks. The T5 checkpoints are trained on a mixture of unsupervised data (to reconstruct masked words) and supervised data for several tasks, including summarization."
      ]
    },
    {
      "cell_type": "markdown",
      "metadata": {
        "id": "4yRYMfqUCwuj"
      },
      "source": [
        "![image.png](data:image/png;base64,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)"
      ]
    },
    {
      "cell_type": "code",
      "execution_count": null,
      "metadata": {
        "colab": {
          "base_uri": "https://localhost:8080/",
          "height": 469,
          "referenced_widgets": [
            "056383d8f0c44f1c9d1ed7cb249c967b",
            "b6ec299044374dbabe3f6386c04913f0",
            "28dd63b9fddd453e87c6977b38f44a2c",
            "99606f3f9670404f92a470f7878ba755",
            "82df4675d2be46f2876615fd20aae5f5",
            "ab081ec38e5d4eb68d552fd88800a877",
            "d5ad4dc6456742d7afddc10f1f279e95",
            "5a9eb6f579534cff94efe23951bc9ad7",
            "9db59ee54f25432594f3ad14698f3bf4",
            "13d7f0767a4a4a828433b1c2cfb935da",
            "74a2e56dd1bd4a2d8663fe51bf4a2221",
            "96a2fcdd3c474c6e9f44cbf90306012d",
            "7a14aa1f5b4f4faf91bb90ef8062caf8",
            "76b0c62e5f0040d4a5bfec0af7025f54",
            "c9a09cfe5015434e8abd0d0f5b61599e",
            "f4311f0cf01b4688ba70373b11b9abba",
            "fc257d761c8145489b0bbe273c6aabf3",
            "4136ca08ac1449beb46333b75d82f6c5",
            "8fd3b047369c4a358d16f76c9ae34984",
            "eff0806669754d28ac3645f38d837085",
            "b11586e1531446a49285d981c4bee755",
            "807dc69b7ff14eaf9ef24d750d62afa5",
            "ab1af044eb2f4e9eb7e0e35ef06efcaa",
            "ecc69a0a0f6449b7ab8569a173d16f3d",
            "d5f6792cd1ad4dcb844239817f521ec2",
            "ab6669d4385d4f648cbb15a36836f548",
            "eec7b1f4245e44ca954aa3fcc73fed4e",
            "7ed625d24c264fcfb5ddcd18dac9154e",
            "9fb34704faef4594bf7116cc371360d0",
            "fbb52c227cb04441a9218c433e2598a4",
            "51ce6fcb4e4f4e9bb2c55bed038474b9",
            "9af9ba1a1c5547ac9611d6bd1383251e",
            "e8cff0f36f6d4ecaaebb24124d71990f",
            "3a79f12df7ad45d08e35c406c2a7fcd3",
            "8574574c75f8499e8b80f2f51432a73b",
            "9dd56e8bfd4e4e1382531583478a0e8d",
            "1addfcf0037c4221bda6ba39dd7439bf",
            "fe312494930349bda63c892f390ae940",
            "d4c7ef38a5f343ec8f5533b936062505",
            "0c48d58d882949c5a513dd9698d5ce0e",
            "1bcb99e95ac646cdbe4ff15802c12fe6",
            "1bdf9a8bdfde4ad7bf71e131ba8964e3",
            "ed1bc0b0ab55417daa8d5dcfcab16310",
            "dc881b625134401d9c0ea65d948066ad",
            "1247498ff14f4cff91260b0501d84f13",
            "41a305c2bfea4146bb57b7f465e19336",
            "1089140ece8c4ec282603457165b85d2",
            "e4512901c77d4ce49701fcf0a8c5a7be",
            "c8521862b149463da56ac04f3db32f0b",
            "05fd8a3b13c1445eac5d19af569c68a3",
            "543e3a4c459f46299fcf3a774a66ebba",
            "7dd17c2561634e99b7707a56696ad48a",
            "5531a896d04b4382b61dcd523a8ffcb0",
            "9cbffb79c5ea475ba1e8d873442c6a71",
            "2be702b543d04bfda9a7333f4a70d6ff",
            "e3be8140c41446d2b7bf27274ca9e0ec",
            "5c4246da3a244da6a55a80e75e6ef1c3",
            "aa0981851ad04e989ebc03e0b6a580f3",
            "c5ee8b2ee9fc4323819f4aa541147ce4",
            "739eff34e6e049a9b7226f438b80cf69",
            "19e4cbab4aaa4e9980c515b4772725af",
            "85454e4c782646d0a212f04de87a309f",
            "a8079949c5f74b038eea7238860a99b9",
            "4a5627030d5740cb9eba868efc03be04",
            "73bff085b1f54a50977c424f39ec037d",
            "7f17abb065574d5f9054f8caa0ca9a32"
          ]
        },
        "id": "syR82oOTB5LD",
        "outputId": "67987f5e-7f7d-480c-9a73-cc95e4d67f98"
      },
      "outputs": [
        {
          "data": {
            "application/vnd.jupyter.widget-view+json": {
              "model_id": "056383d8f0c44f1c9d1ed7cb249c967b",
              "version_major": 2,
              "version_minor": 0
            },
            "text/plain": [
              "config.json:   0%|          | 0.00/1.21k [00:00<?, ?B/s]"
            ]
          },
          "metadata": {},
          "output_type": "display_data"
        },
        {
          "data": {
            "application/vnd.jupyter.widget-view+json": {
              "model_id": "96a2fcdd3c474c6e9f44cbf90306012d",
              "version_major": 2,
              "version_minor": 0
            },
            "text/plain": [
              "model.safetensors:   0%|          | 0.00/242M [00:00<?, ?B/s]"
            ]
          },
          "metadata": {},
          "output_type": "display_data"
        },
        {
          "data": {
            "application/vnd.jupyter.widget-view+json": {
              "model_id": "ab1af044eb2f4e9eb7e0e35ef06efcaa",
              "version_major": 2,
              "version_minor": 0
            },
            "text/plain": [
              "generation_config.json:   0%|          | 0.00/147 [00:00<?, ?B/s]"
            ]
          },
          "metadata": {},
          "output_type": "display_data"
        },
        {
          "data": {
            "application/vnd.jupyter.widget-view+json": {
              "model_id": "3a79f12df7ad45d08e35c406c2a7fcd3",
              "version_major": 2,
              "version_minor": 0
            },
            "text/plain": [
              "tokenizer_config.json:   0%|          | 0.00/2.32k [00:00<?, ?B/s]"
            ]
          },
          "metadata": {},
          "output_type": "display_data"
        },
        {
          "data": {
            "application/vnd.jupyter.widget-view+json": {
              "model_id": "1247498ff14f4cff91260b0501d84f13",
              "version_major": 2,
              "version_minor": 0
            },
            "text/plain": [
              "spiece.model:   0%|          | 0.00/792k [00:00<?, ?B/s]"
            ]
          },
          "metadata": {},
          "output_type": "display_data"
        },
        {
          "data": {
            "application/vnd.jupyter.widget-view+json": {
              "model_id": "e3be8140c41446d2b7bf27274ca9e0ec",
              "version_major": 2,
              "version_minor": 0
            },
            "text/plain": [
              "tokenizer.json:   0%|          | 0.00/1.39M [00:00<?, ?B/s]"
            ]
          },
          "metadata": {},
          "output_type": "display_data"
        },
        {
          "name": "stderr",
          "output_type": "stream",
          "text": [
            "Device set to use cuda:0\n"
          ]
        },
        {
          "data": {
            "text/plain": [
              "{'baseline': \"(CNN) -- Usain Bolt rounded off the world championships Sunday by claiming his third gold in Moscow as he anchored Jamaica to victory in the men's 4x100m relay.\\nThe fastest man in the world charged clear of United States rival Justin Gatlin as the Jamaican quartet of Nesta Carter, Kemar Bailey-Cole, Nickel Ashmeade and Bolt won in 37.36 seconds.\\nThe U.S finished second in 37.56 seconds with Canada taking the bronze after Britain were disqualified for a faulty handover.\",\n",
              " 'gpt': \"The U.S. men's Olympic team had the most medals held by any men's team in the 200 meters on the field, with the most gold in the 400 and 400m on the field.\\nThe women's team of the day had the most medals held by any women's team in the 200 meters.\\nThe U.S. men's team of the day had the most medals held by any men's team in the 400 and 400m on the field.\",\n",
              " 't5': \"usain Bolt wins men's 4x100m relay gold in Moscow .\\nthe fastest man in the world wins in 37.36 seconds .\\ncanada takes bronze after being disqualified for a faulty handover .\"}"
            ]
          },
          "execution_count": 9,
          "metadata": {},
          "output_type": "execute_result"
        }
      ],
      "source": [
        "pipe = pipeline(\"summarization\", model = 't5-small')\n",
        "pipe_out = pipe(sample_text)\n",
        "summaries[\"t5\"] = \"\\n\".join(sent_tokenize(pipe_out[0]['summary_text']))\n",
        "summaries"
      ]
    },
    {
      "cell_type": "markdown",
      "metadata": {
        "id": "YVgg4TzV9EC9"
      },
      "source": [
        "<h3>c. BART </h3>"
      ]
    },
    {
      "cell_type": "code",
      "execution_count": null,
      "metadata": {
        "colab": {
          "base_uri": "https://localhost:8080/",
          "height": 539,
          "referenced_widgets": [
            "03c3ccc5755a4099b818c5f61eadb5f4",
            "5ae6de3a8f1d419f9216a8bd31183c55",
            "7e862a83e1024093a0f646f47413bdb9",
            "443427ce1ba54683b401366ed0473f7a",
            "5e0e73edaf414896b016ee5c3ffa0411",
            "263aa3894c5d41238850403479a27275",
            "5f363d35342644fe9d67785b72fde19b",
            "2c3e3b8eaa4141f78c4db873dfa6568c",
            "f6a3011c6c3849afb50eebf38db2be20",
            "020ea48a29b7409882809522087f3a02",
            "3aaf1802eee34183ac85a737123eae37",
            "07cdadeccae1429ea2512fe516a321f9",
            "c4c4130b9baa4315af9e2187aaf64d01",
            "37ca589ebaa6485dad6db274f5aa76fe",
            "c89bb51b6f0e49eba2298b044ecb379a",
            "c30b374c19094bb1b607c0753cf6ff3b",
            "e78b3058021342c4883c9c570efb033f",
            "4d2c61cf1e1a45f1a2c92322803972b6",
            "b41b92a372944deaa0448c1c5e37b3c6",
            "8350007ee58e411d841cde031b289308",
            "66482b0702fb4870979a3aa9ce6ebbb7",
            "1aa6138b3fec43379f0293d71ec41075",
            "6668a62421a14738b4f124650e8d6db7",
            "56cd48ba2e444c199f8bcb741d64e74f",
            "77d89eb53afd4e0882ee5cd630e1561c",
            "76c5f565261b4db493f29809eb669cdc",
            "14db537b32664dd6b2d19dcddae0f24b",
            "21267fe52c7d4439ab491827639923ea",
            "4089e36faaef489484eddf1555f01762",
            "30f43035eed84918b935c3ba35119542",
            "8ce4b9390bf4459d9834a37c7cc098bf",
            "8daca7f6af62406696b1b116f438633c",
            "a093d2bd5ba24303b45b540454f3efe9",
            "31aa8bced0be41ecb05f9405e4df9a95",
            "4f5920dcc9b54941811d848d963fea90",
            "fd58c32ad4dd4f289c46faa747eef442",
            "781b93c4920247f99aa897eb0610b50f",
            "7ab24c31f5ef4992b37b2c7a9befb726",
            "f2e5121bc04745df98a2f5fb0bb800ab",
            "8aa191b5c5194e4db15947a2a9a71a65",
            "b4ad9b6e45d44324b0e7b6c2233d08a0",
            "2c6f446053f44a91b61444d8161c0726",
            "80ec36e2cc0a4410aa50358ff970aeab",
            "921cacf881494415966dfc007af6d6fd",
            "8ff9eda181b0484f98f05359571d605d",
            "d3b91ba825ef4d97b7ae572af412384c",
            "eb30d180f5f54ea79aa37ba1471a47d3",
            "717bbf248e3b4db5b1a87b06fff74c6e",
            "04639261d32e4e2885cf0d19692b18c0",
            "75fe8abedcd7443cbf217938b6dfcbc1",
            "dc2a9c14290a4b53b28d1a4a179ddc60",
            "726dead851924842bca24a60b6b819b1",
            "b9df03cebbdb4ab8b562ca2d7e287d2d",
            "27f9e2b088ce4f009dc0a1f3d1f38419",
            "78fc8012e4cc4c7e9fe6a040befaf3bb",
            "b461dda147314f5c85d72185fe5141df",
            "c09ad756df1640dd94abbd1744b4ac93",
            "163546a25618452cb217e471b254a598",
            "467f3590f85549e19824b10a651746d8",
            "db3ea94d0d664a6f8a3d3e8527394d30",
            "99d3609ca27c42ed8afaddacea9246ba",
            "6ade32c2b63741709b280b42dca64851",
            "8e90747cdfd9490089e66f2777acdc1b",
            "52b6b7fce023411c8257598e35075f81",
            "47499d622b0d48179c5d874e34ce61e6",
            "ac57a4e3584b4a2ea4989beaf5ccb850"
          ]
        },
        "id": "PsBv1YxI7HjX",
        "outputId": "59382777-81e0-4170-eabb-21d6e060fcd0"
      },
      "outputs": [
        {
          "data": {
            "application/vnd.jupyter.widget-view+json": {
              "model_id": "03c3ccc5755a4099b818c5f61eadb5f4",
              "version_major": 2,
              "version_minor": 0
            },
            "text/plain": [
              "config.json:   0%|          | 0.00/1.58k [00:00<?, ?B/s]"
            ]
          },
          "metadata": {},
          "output_type": "display_data"
        },
        {
          "data": {
            "application/vnd.jupyter.widget-view+json": {
              "model_id": "07cdadeccae1429ea2512fe516a321f9",
              "version_major": 2,
              "version_minor": 0
            },
            "text/plain": [
              "model.safetensors:   0%|          | 0.00/1.63G [00:00<?, ?B/s]"
            ]
          },
          "metadata": {},
          "output_type": "display_data"
        },
        {
          "data": {
            "application/vnd.jupyter.widget-view+json": {
              "model_id": "6668a62421a14738b4f124650e8d6db7",
              "version_major": 2,
              "version_minor": 0
            },
            "text/plain": [
              "generation_config.json:   0%|          | 0.00/363 [00:00<?, ?B/s]"
            ]
          },
          "metadata": {},
          "output_type": "display_data"
        },
        {
          "data": {
            "application/vnd.jupyter.widget-view+json": {
              "model_id": "31aa8bced0be41ecb05f9405e4df9a95",
              "version_major": 2,
              "version_minor": 0
            },
            "text/plain": [
              "vocab.json:   0%|          | 0.00/899k [00:00<?, ?B/s]"
            ]
          },
          "metadata": {},
          "output_type": "display_data"
        },
        {
          "data": {
            "application/vnd.jupyter.widget-view+json": {
              "model_id": "8ff9eda181b0484f98f05359571d605d",
              "version_major": 2,
              "version_minor": 0
            },
            "text/plain": [
              "merges.txt:   0%|          | 0.00/456k [00:00<?, ?B/s]"
            ]
          },
          "metadata": {},
          "output_type": "display_data"
        },
        {
          "data": {
            "application/vnd.jupyter.widget-view+json": {
              "model_id": "b461dda147314f5c85d72185fe5141df",
              "version_major": 2,
              "version_minor": 0
            },
            "text/plain": [
              "tokenizer.json:   0%|          | 0.00/1.36M [00:00<?, ?B/s]"
            ]
          },
          "metadata": {},
          "output_type": "display_data"
        },
        {
          "name": "stderr",
          "output_type": "stream",
          "text": [
            "Device set to use cuda:0\n"
          ]
        },
        {
          "data": {
            "text/plain": [
              "{'baseline': \"(CNN) -- Usain Bolt rounded off the world championships Sunday by claiming his third gold in Moscow as he anchored Jamaica to victory in the men's 4x100m relay.\\nThe fastest man in the world charged clear of United States rival Justin Gatlin as the Jamaican quartet of Nesta Carter, Kemar Bailey-Cole, Nickel Ashmeade and Bolt won in 37.36 seconds.\\nThe U.S finished second in 37.56 seconds with Canada taking the bronze after Britain were disqualified for a faulty handover.\",\n",
              " 'gpt': \"The U.S. men's Olympic team had the most medals held by any men's team in the 200 meters on the field, with the most gold in the 400 and 400m on the field.\\nThe women's team of the day had the most medals held by any women's team in the 200 meters.\\nThe U.S. men's team of the day had the most medals held by any men's team in the 400 and 400m on the field.\",\n",
              " 't5': \"usain Bolt wins men's 4x100m relay gold in Moscow .\\nthe fastest man in the world wins in 37.36 seconds .\\ncanada takes bronze after being disqualified for a faulty handover .\",\n",
              " 'bart': \"Usain Bolt wins his third gold of the world championships in Moscow.\\nBolt anchors Jamaica to victory in the men's 4x100m relay.\\nThe 26-year-old has now won eight gold medals at world championships.\\nJamaica's women also win gold in the relay, beating France in the process.\"}"
            ]
          },
          "execution_count": 10,
          "metadata": {},
          "output_type": "execute_result"
        }
      ],
      "source": [
        "pipe = pipeline(\"summarization\", model = 'facebook/bart-large-cnn')\n",
        "pipe_out = pipe(sample_text)\n",
        "summaries['bart'] = \"\\n\".join(sent_tokenize(pipe_out[0]['summary_text']))\n",
        "summaries"
      ]
    },
    {
      "cell_type": "markdown",
      "metadata": {
        "id": "0uY-pCcPW-DY"
      },
      "source": [
        "<h3>d. Pegasus"
      ]
    },
    {
      "cell_type": "code",
      "execution_count": null,
      "metadata": {
        "colab": {
          "base_uri": "https://localhost:8080/"
        },
        "id": "Mz_fQUrrVKXm",
        "outputId": "16a6b4b9-4bce-4393-f544-62e5c1580981"
      },
      "outputs": [
        {
          "name": "stderr",
          "output_type": "stream",
          "text": [
            "Some weights of PegasusForConditionalGeneration were not initialized from the model checkpoint at google/pegasus-cnn_dailymail and are newly initialized: ['model.decoder.embed_positions.weight', 'model.encoder.embed_positions.weight']\n",
            "You should probably TRAIN this model on a down-stream task to be able to use it for predictions and inference.\n",
            "Device set to use cuda:0\n"
          ]
        }
      ],
      "source": [
        "pipe = pipeline(\"summarization\", model = 'google/pegasus-cnn_dailymail')\n",
        "pipe_out = pipe(sample_text)\n",
        "summaries[\"pegasus\"] = pipe_out[0]['summary_text'].replace(\" .<n>\", \".\\n\")"
      ]
    },
    {
      "cell_type": "markdown",
      "metadata": {
        "id": "1wJdbVdp9_An"
      },
      "source": [
        "<h2>2. Comparing Different Summaries\n"
      ]
    },
    {
      "cell_type": "code",
      "execution_count": null,
      "metadata": {
        "colab": {
          "base_uri": "https://localhost:8080/"
        },
        "id": "VcNAduVc93Y4",
        "outputId": "47589126-81dc-4324-8a04-2684447c8b91"
      },
      "outputs": [
        {
          "name": "stdout",
          "output_type": "stream",
          "text": [
            "GROUND TRUTH\n",
            "Usain Bolt wins third gold of world championship .\n",
            "Anchors Jamaica to 4x100m relay victory .\n",
            "Eighth gold at the championships for Bolt .\n",
            "Jamaica double up in women's 4x100m relay .\n",
            "\n",
            "BASELINE\n",
            "(CNN) -- Usain Bolt rounded off the world championships Sunday by claiming his third gold in Moscow as he anchored Jamaica to victory in the men's 4x100m relay.\n",
            "The fastest man in the world charged clear of United States rival Justin Gatlin as the Jamaican quartet of Nesta Carter, Kemar Bailey-Cole, Nickel Ashmeade and Bolt won in 37.36 seconds.\n",
            "The U.S finished second in 37.56 seconds with Canada taking the bronze after Britain were disqualified for a faulty handover.\n",
            "\n",
            "GPT\n",
            "The U.S. men's Olympic team had the most medals held by any men's team in the 200 meters on the field, with the most gold in the 400 and 400m on the field.\n",
            "The women's team of the day had the most medals held by any women's team in the 200 meters.\n",
            "The U.S. men's team of the day had the most medals held by any men's team in the 400 and 400m on the field.\n",
            "\n",
            "T5\n",
            "usain Bolt wins men's 4x100m relay gold in Moscow .\n",
            "the fastest man in the world wins in 37.36 seconds .\n",
            "canada takes bronze after being disqualified for a faulty handover .\n",
            "\n",
            "BART\n",
            "Usain Bolt wins his third gold of the world championships in Moscow.\n",
            "Bolt anchors Jamaica to victory in the men's 4x100m relay.\n",
            "The 26-year-old has now won eight gold medals at world championships.\n",
            "Jamaica's women also win gold in the relay, beating France in the process.\n",
            "\n"
          ]
        }
      ],
      "source": [
        "print(\"GROUND TRUTH\")\n",
        "print(dataset[\"train\"][1][\"highlights\"])\n",
        "print(\"\")\n",
        "\n",
        "for model_name in summaries:\n",
        "  print(model_name.upper())\n",
        "  print(summaries[model_name])\n",
        "  print(\"\")"
      ]
    },
    {
      "cell_type": "code",
      "execution_count": null,
      "metadata": {
        "colab": {
          "base_uri": "https://localhost:8080/",
          "height": 399,
          "referenced_widgets": [
            "3c586e1a1b2547c7a268a4fcb9ff0624",
            "58a4a36271014498b220d1b931fefc9e",
            "c47d67f753d74b86ac90eef42bea6745",
            "0d2eef56dd2b422c86bd6974b8bce912",
            "0bbe62eaad3543979345f9969797e63e",
            "37e8ac7dd8cc4d3bbc35cb5e299dd6c5",
            "dc6fec194f44479099d3855df3bd0e7d",
            "76364f5f2e7c439f9367b2cdfc2c7d1e",
            "313fe72c25d5463486f2329037e4d451",
            "3f9f2dc0322f45ceaa659fbf58cac5ec",
            "6caa47547064488ebb104b676a2f1c8e"
          ]
        },
        "id": "Dz4f25ceALU8",
        "outputId": "c2d4676d-f8ce-4095-bf26-d8aca41c54aa"
      },
      "outputs": [
        {
          "name": "stdout",
          "output_type": "stream",
          "text": [
            "Collecting sacrebleu\n",
            "  Downloading sacrebleu-2.5.1-py3-none-any.whl.metadata (51 kB)\n",
            "\u001b[?25l     \u001b[90m━━━━━━━━━━━━━━━━━━━━━━━━━━━━━━━━━━━━━━━━\u001b[0m \u001b[32m0.0/51.8 kB\u001b[0m \u001b[31m?\u001b[0m eta \u001b[36m-:--:--\u001b[0m\r\u001b[2K     \u001b[90m━━━━━━━━━━━━━━━━━━━━━━━━━━━━━━━━━━━━━━━━\u001b[0m \u001b[32m51.8/51.8 kB\u001b[0m \u001b[31m4.2 MB/s\u001b[0m eta \u001b[36m0:00:00\u001b[0m\n",
            "\u001b[?25hCollecting portalocker (from sacrebleu)\n",
            "  Downloading portalocker-3.2.0-py3-none-any.whl.metadata (8.7 kB)\n",
            "Requirement already satisfied: regex in /usr/local/lib/python3.11/dist-packages (from sacrebleu) (2024.11.6)\n",
            "Requirement already satisfied: tabulate>=0.8.9 in /usr/local/lib/python3.11/dist-packages (from sacrebleu) (0.9.0)\n",
            "Requirement already satisfied: numpy>=1.17 in /usr/local/lib/python3.11/dist-packages (from sacrebleu) (2.0.2)\n",
            "Collecting colorama (from sacrebleu)\n",
            "  Downloading colorama-0.4.6-py2.py3-none-any.whl.metadata (17 kB)\n",
            "Requirement already satisfied: lxml in /usr/local/lib/python3.11/dist-packages (from sacrebleu) (5.4.0)\n",
            "Downloading sacrebleu-2.5.1-py3-none-any.whl (104 kB)\n",
            "\u001b[2K   \u001b[90m━━━━━━━━━━━━━━━━━━━━━━━━━━━━━━━━━━━━━━━━\u001b[0m \u001b[32m104.1/104.1 kB\u001b[0m \u001b[31m9.9 MB/s\u001b[0m eta \u001b[36m0:00:00\u001b[0m\n",
            "\u001b[?25hDownloading colorama-0.4.6-py2.py3-none-any.whl (25 kB)\n",
            "Downloading portalocker-3.2.0-py3-none-any.whl (22 kB)\n",
            "Installing collected packages: portalocker, colorama, sacrebleu\n",
            "Successfully installed colorama-0.4.6 portalocker-3.2.0 sacrebleu-2.5.1\n"
          ]
        },
        {
          "name": "stderr",
          "output_type": "stream",
          "text": [
            "<ipython-input-14-1560001239>:3: FutureWarning: load_metric is deprecated and will be removed in the next major version of datasets. Use 'evaluate.load' instead, from the new library 🤗 Evaluate: https://huggingface.co/docs/evaluate\n",
            "  bleu_metric = load_metric(\"sacrebleu\")\n"
          ]
        },
        {
          "data": {
            "application/vnd.jupyter.widget-view+json": {
              "model_id": "3c586e1a1b2547c7a268a4fcb9ff0624",
              "version_major": 2,
              "version_minor": 0
            },
            "text/plain": [
              "Downloading builder script:   0%|          | 0.00/2.85k [00:00<?, ?B/s]"
            ]
          },
          "metadata": {},
          "output_type": "display_data"
        }
      ],
      "source": [
        "!pip install sacrebleu\n",
        "from datasets import load_metric\n",
        "bleu_metric = load_metric(\"sacrebleu\")"
      ]
    },
    {
      "cell_type": "code",
      "execution_count": null,
      "metadata": {
        "colab": {
          "base_uri": "https://localhost:8080/",
          "height": 269
        },
        "id": "Q1mDGOtTCAqd",
        "outputId": "8c713057-c58b-4240-ed18-ab413df7ab2b"
      },
      "outputs": [
        {
          "data": {
            "application/vnd.google.colaboratory.intrinsic+json": {
              "summary": "{\n  \"name\": \"pd\",\n  \"rows\": 7,\n  \"fields\": [\n    {\n      \"column\": \"Value\",\n      \"properties\": {\n        \"dtype\": \"object\",\n        \"semantic_type\": \"\",\n        \"description\": \"\"\n      }\n    }\n  ]\n}",
              "type": "dataframe"
            },
            "text/html": [
              "\n",
              "  <div id=\"df-f34c726d-8c47-4be0-9b66-8cb0de34d17e\" class=\"colab-df-container\">\n",
              "    <div>\n",
              "<style scoped>\n",
              "    .dataframe tbody tr th:only-of-type {\n",
              "        vertical-align: middle;\n",
              "    }\n",
              "\n",
              "    .dataframe tbody tr th {\n",
              "        vertical-align: top;\n",
              "    }\n",
              "\n",
              "    .dataframe thead th {\n",
              "        text-align: right;\n",
              "    }\n",
              "</style>\n",
              "<table border=\"1\" class=\"dataframe\">\n",
              "  <thead>\n",
              "    <tr style=\"text-align: right;\">\n",
              "      <th></th>\n",
              "      <th>Value</th>\n",
              "    </tr>\n",
              "  </thead>\n",
              "  <tbody>\n",
              "    <tr>\n",
              "      <th>score</th>\n",
              "      <td>0.0</td>\n",
              "    </tr>\n",
              "    <tr>\n",
              "      <th>counts</th>\n",
              "      <td>[2, 0, 0, 0]</td>\n",
              "    </tr>\n",
              "    <tr>\n",
              "      <th>totals</th>\n",
              "      <td>[6, 5, 4, 3]</td>\n",
              "    </tr>\n",
              "    <tr>\n",
              "      <th>precisions</th>\n",
              "      <td>[33.33, 0.0, 0.0, 0.0]</td>\n",
              "    </tr>\n",
              "    <tr>\n",
              "      <th>bp</th>\n",
              "      <td>1.0</td>\n",
              "    </tr>\n",
              "    <tr>\n",
              "      <th>sys_len</th>\n",
              "      <td>6</td>\n",
              "    </tr>\n",
              "    <tr>\n",
              "      <th>ref_len</th>\n",
              "      <td>6</td>\n",
              "    </tr>\n",
              "  </tbody>\n",
              "</table>\n",
              "</div>\n",
              "    <div class=\"colab-df-buttons\">\n",
              "\n",
              "  <div class=\"colab-df-container\">\n",
              "    <button class=\"colab-df-convert\" onclick=\"convertToInteractive('df-f34c726d-8c47-4be0-9b66-8cb0de34d17e')\"\n",
              "            title=\"Convert this dataframe to an interactive table.\"\n",
              "            style=\"display:none;\">\n",
              "\n",
              "  <svg xmlns=\"http://www.w3.org/2000/svg\" height=\"24px\" viewBox=\"0 -960 960 960\">\n",
              "    <path d=\"M120-120v-720h720v720H120Zm60-500h600v-160H180v160Zm220 220h160v-160H400v160Zm0 220h160v-160H400v160ZM180-400h160v-160H180v160Zm440 0h160v-160H620v160ZM180-180h160v-160H180v160Zm440 0h160v-160H620v160Z\"/>\n",
              "  </svg>\n",
              "    </button>\n",
              "\n",
              "  <style>\n",
              "    .colab-df-container {\n",
              "      display:flex;\n",
              "      gap: 12px;\n",
              "    }\n",
              "\n",
              "    .colab-df-convert {\n",
              "      background-color: #E8F0FE;\n",
              "      border: none;\n",
              "      border-radius: 50%;\n",
              "      cursor: pointer;\n",
              "      display: none;\n",
              "      fill: #1967D2;\n",
              "      height: 32px;\n",
              "      padding: 0 0 0 0;\n",
              "      width: 32px;\n",
              "    }\n",
              "\n",
              "    .colab-df-convert:hover {\n",
              "      background-color: #E2EBFA;\n",
              "      box-shadow: 0px 1px 2px rgba(60, 64, 67, 0.3), 0px 1px 3px 1px rgba(60, 64, 67, 0.15);\n",
              "      fill: #174EA6;\n",
              "    }\n",
              "\n",
              "    .colab-df-buttons div {\n",
              "      margin-bottom: 4px;\n",
              "    }\n",
              "\n",
              "    [theme=dark] .colab-df-convert {\n",
              "      background-color: #3B4455;\n",
              "      fill: #D2E3FC;\n",
              "    }\n",
              "\n",
              "    [theme=dark] .colab-df-convert:hover {\n",
              "      background-color: #434B5C;\n",
              "      box-shadow: 0px 1px 3px 1px rgba(0, 0, 0, 0.15);\n",
              "      filter: drop-shadow(0px 1px 2px rgba(0, 0, 0, 0.3));\n",
              "      fill: #FFFFFF;\n",
              "    }\n",
              "  </style>\n",
              "\n",
              "    <script>\n",
              "      const buttonEl =\n",
              "        document.querySelector('#df-f34c726d-8c47-4be0-9b66-8cb0de34d17e button.colab-df-convert');\n",
              "      buttonEl.style.display =\n",
              "        google.colab.kernel.accessAllowed ? 'block' : 'none';\n",
              "\n",
              "      async function convertToInteractive(key) {\n",
              "        const element = document.querySelector('#df-f34c726d-8c47-4be0-9b66-8cb0de34d17e');\n",
              "        const dataTable =\n",
              "          await google.colab.kernel.invokeFunction('convertToInteractive',\n",
              "                                                    [key], {});\n",
              "        if (!dataTable) return;\n",
              "\n",
              "        const docLinkHtml = 'Like what you see? Visit the ' +\n",
              "          '<a target=\"_blank\" href=https://colab.research.google.com/notebooks/data_table.ipynb>data table notebook</a>'\n",
              "          + ' to learn more about interactive tables.';\n",
              "        element.innerHTML = '';\n",
              "        dataTable['output_type'] = 'display_data';\n",
              "        await google.colab.output.renderOutput(dataTable, element);\n",
              "        const docLink = document.createElement('div');\n",
              "        docLink.innerHTML = docLinkHtml;\n",
              "        element.appendChild(docLink);\n",
              "      }\n",
              "    </script>\n",
              "  </div>\n",
              "\n",
              "\n",
              "    <div id=\"df-7c554bd3-1c2e-44b7-9db2-566516ba4d87\">\n",
              "      <button class=\"colab-df-quickchart\" onclick=\"quickchart('df-7c554bd3-1c2e-44b7-9db2-566516ba4d87')\"\n",
              "                title=\"Suggest charts\"\n",
              "                style=\"display:none;\">\n",
              "\n",
              "<svg xmlns=\"http://www.w3.org/2000/svg\" height=\"24px\"viewBox=\"0 0 24 24\"\n",
              "     width=\"24px\">\n",
              "    <g>\n",
              "        <path d=\"M19 3H5c-1.1 0-2 .9-2 2v14c0 1.1.9 2 2 2h14c1.1 0 2-.9 2-2V5c0-1.1-.9-2-2-2zM9 17H7v-7h2v7zm4 0h-2V7h2v10zm4 0h-2v-4h2v4z\"/>\n",
              "    </g>\n",
              "</svg>\n",
              "      </button>\n",
              "\n",
              "<style>\n",
              "  .colab-df-quickchart {\n",
              "      --bg-color: #E8F0FE;\n",
              "      --fill-color: #1967D2;\n",
              "      --hover-bg-color: #E2EBFA;\n",
              "      --hover-fill-color: #174EA6;\n",
              "      --disabled-fill-color: #AAA;\n",
              "      --disabled-bg-color: #DDD;\n",
              "  }\n",
              "\n",
              "  [theme=dark] .colab-df-quickchart {\n",
              "      --bg-color: #3B4455;\n",
              "      --fill-color: #D2E3FC;\n",
              "      --hover-bg-color: #434B5C;\n",
              "      --hover-fill-color: #FFFFFF;\n",
              "      --disabled-bg-color: #3B4455;\n",
              "      --disabled-fill-color: #666;\n",
              "  }\n",
              "\n",
              "  .colab-df-quickchart {\n",
              "    background-color: var(--bg-color);\n",
              "    border: none;\n",
              "    border-radius: 50%;\n",
              "    cursor: pointer;\n",
              "    display: none;\n",
              "    fill: var(--fill-color);\n",
              "    height: 32px;\n",
              "    padding: 0;\n",
              "    width: 32px;\n",
              "  }\n",
              "\n",
              "  .colab-df-quickchart:hover {\n",
              "    background-color: var(--hover-bg-color);\n",
              "    box-shadow: 0 1px 2px rgba(60, 64, 67, 0.3), 0 1px 3px 1px rgba(60, 64, 67, 0.15);\n",
              "    fill: var(--button-hover-fill-color);\n",
              "  }\n",
              "\n",
              "  .colab-df-quickchart-complete:disabled,\n",
              "  .colab-df-quickchart-complete:disabled:hover {\n",
              "    background-color: var(--disabled-bg-color);\n",
              "    fill: var(--disabled-fill-color);\n",
              "    box-shadow: none;\n",
              "  }\n",
              "\n",
              "  .colab-df-spinner {\n",
              "    border: 2px solid var(--fill-color);\n",
              "    border-color: transparent;\n",
              "    border-bottom-color: var(--fill-color);\n",
              "    animation:\n",
              "      spin 1s steps(1) infinite;\n",
              "  }\n",
              "\n",
              "  @keyframes spin {\n",
              "    0% {\n",
              "      border-color: transparent;\n",
              "      border-bottom-color: var(--fill-color);\n",
              "      border-left-color: var(--fill-color);\n",
              "    }\n",
              "    20% {\n",
              "      border-color: transparent;\n",
              "      border-left-color: var(--fill-color);\n",
              "      border-top-color: var(--fill-color);\n",
              "    }\n",
              "    30% {\n",
              "      border-color: transparent;\n",
              "      border-left-color: var(--fill-color);\n",
              "      border-top-color: var(--fill-color);\n",
              "      border-right-color: var(--fill-color);\n",
              "    }\n",
              "    40% {\n",
              "      border-color: transparent;\n",
              "      border-right-color: var(--fill-color);\n",
              "      border-top-color: var(--fill-color);\n",
              "    }\n",
              "    60% {\n",
              "      border-color: transparent;\n",
              "      border-right-color: var(--fill-color);\n",
              "    }\n",
              "    80% {\n",
              "      border-color: transparent;\n",
              "      border-right-color: var(--fill-color);\n",
              "      border-bottom-color: var(--fill-color);\n",
              "    }\n",
              "    90% {\n",
              "      border-color: transparent;\n",
              "      border-bottom-color: var(--fill-color);\n",
              "    }\n",
              "  }\n",
              "</style>\n",
              "\n",
              "      <script>\n",
              "        async function quickchart(key) {\n",
              "          const quickchartButtonEl =\n",
              "            document.querySelector('#' + key + ' button');\n",
              "          quickchartButtonEl.disabled = true;  // To prevent multiple clicks.\n",
              "          quickchartButtonEl.classList.add('colab-df-spinner');\n",
              "          try {\n",
              "            const charts = await google.colab.kernel.invokeFunction(\n",
              "                'suggestCharts', [key], {});\n",
              "          } catch (error) {\n",
              "            console.error('Error during call to suggestCharts:', error);\n",
              "          }\n",
              "          quickchartButtonEl.classList.remove('colab-df-spinner');\n",
              "          quickchartButtonEl.classList.add('colab-df-quickchart-complete');\n",
              "        }\n",
              "        (() => {\n",
              "          let quickchartButtonEl =\n",
              "            document.querySelector('#df-7c554bd3-1c2e-44b7-9db2-566516ba4d87 button');\n",
              "          quickchartButtonEl.style.display =\n",
              "            google.colab.kernel.accessAllowed ? 'block' : 'none';\n",
              "        })();\n",
              "      </script>\n",
              "    </div>\n",
              "\n",
              "    </div>\n",
              "  </div>\n"
            ],
            "text/plain": [
              "                             Value\n",
              "score                          0.0\n",
              "counts                [2, 0, 0, 0]\n",
              "totals                [6, 5, 4, 3]\n",
              "precisions  [33.33, 0.0, 0.0, 0.0]\n",
              "bp                             1.0\n",
              "sys_len                          6\n",
              "ref_len                          6"
            ]
          },
          "execution_count": 19,
          "metadata": {},
          "output_type": "execute_result"
        }
      ],
      "source": [
        "import pandas as pd\n",
        "import numpy as np\n",
        "\n",
        "bleu_metric.add(\n",
        "    predictions = \"the the the the the the\",\n",
        "    references = ['the cat is on the mat']\n",
        ")\n",
        "results = bleu_metric.compute(smooth_method=\"floor\", smooth_value=0)\n",
        "results['precisions'] = [np.round(p, 2) for p in results['precisions']]\n",
        "pd.DataFrame.from_dict(results, orient = 'index', columns = ['Value'])"
      ]
    },
    {
      "cell_type": "markdown",
      "metadata": {
        "id": "vv1jiqoZEj17"
      },
      "source": [
        "the `precisions []` arguement show the n-grams precision: in 1-grams: precision = 2/6, and the rest in 0."
      ]
    },
    {
      "cell_type": "code",
      "execution_count": null,
      "metadata": {
        "colab": {
          "base_uri": "https://localhost:8080/",
          "height": 269
        },
        "id": "nDRukcG2EE8v",
        "outputId": "b95254b5-f037-497e-fd05-0503aa4e7c68"
      },
      "outputs": [
        {
          "data": {
            "application/vnd.google.colaboratory.intrinsic+json": {
              "summary": "{\n  \"name\": \"pd\",\n  \"rows\": 7,\n  \"fields\": [\n    {\n      \"column\": \"Value\",\n      \"properties\": {\n        \"dtype\": \"object\",\n        \"semantic_type\": \"\",\n        \"description\": \"\"\n      }\n    }\n  ]\n}",
              "type": "dataframe"
            },
            "text/html": [
              "\n",
              "  <div id=\"df-5b2d48d3-fe93-4db9-a1ea-1f718fa7f380\" class=\"colab-df-container\">\n",
              "    <div>\n",
              "<style scoped>\n",
              "    .dataframe tbody tr th:only-of-type {\n",
              "        vertical-align: middle;\n",
              "    }\n",
              "\n",
              "    .dataframe tbody tr th {\n",
              "        vertical-align: top;\n",
              "    }\n",
              "\n",
              "    .dataframe thead th {\n",
              "        text-align: right;\n",
              "    }\n",
              "</style>\n",
              "<table border=\"1\" class=\"dataframe\">\n",
              "  <thead>\n",
              "    <tr style=\"text-align: right;\">\n",
              "      <th></th>\n",
              "      <th>Value</th>\n",
              "    </tr>\n",
              "  </thead>\n",
              "  <tbody>\n",
              "    <tr>\n",
              "      <th>score</th>\n",
              "      <td>57.893007</td>\n",
              "    </tr>\n",
              "    <tr>\n",
              "      <th>counts</th>\n",
              "      <td>[5, 3, 2, 1]</td>\n",
              "    </tr>\n",
              "    <tr>\n",
              "      <th>totals</th>\n",
              "      <td>[5, 4, 3, 2]</td>\n",
              "    </tr>\n",
              "    <tr>\n",
              "      <th>precisions</th>\n",
              "      <td>[100.0, 75.0, 66.67, 50.0]</td>\n",
              "    </tr>\n",
              "    <tr>\n",
              "      <th>bp</th>\n",
              "      <td>0.818731</td>\n",
              "    </tr>\n",
              "    <tr>\n",
              "      <th>sys_len</th>\n",
              "      <td>5</td>\n",
              "    </tr>\n",
              "    <tr>\n",
              "      <th>ref_len</th>\n",
              "      <td>6</td>\n",
              "    </tr>\n",
              "  </tbody>\n",
              "</table>\n",
              "</div>\n",
              "    <div class=\"colab-df-buttons\">\n",
              "\n",
              "  <div class=\"colab-df-container\">\n",
              "    <button class=\"colab-df-convert\" onclick=\"convertToInteractive('df-5b2d48d3-fe93-4db9-a1ea-1f718fa7f380')\"\n",
              "            title=\"Convert this dataframe to an interactive table.\"\n",
              "            style=\"display:none;\">\n",
              "\n",
              "  <svg xmlns=\"http://www.w3.org/2000/svg\" height=\"24px\" viewBox=\"0 -960 960 960\">\n",
              "    <path d=\"M120-120v-720h720v720H120Zm60-500h600v-160H180v160Zm220 220h160v-160H400v160Zm0 220h160v-160H400v160ZM180-400h160v-160H180v160Zm440 0h160v-160H620v160ZM180-180h160v-160H180v160Zm440 0h160v-160H620v160Z\"/>\n",
              "  </svg>\n",
              "    </button>\n",
              "\n",
              "  <style>\n",
              "    .colab-df-container {\n",
              "      display:flex;\n",
              "      gap: 12px;\n",
              "    }\n",
              "\n",
              "    .colab-df-convert {\n",
              "      background-color: #E8F0FE;\n",
              "      border: none;\n",
              "      border-radius: 50%;\n",
              "      cursor: pointer;\n",
              "      display: none;\n",
              "      fill: #1967D2;\n",
              "      height: 32px;\n",
              "      padding: 0 0 0 0;\n",
              "      width: 32px;\n",
              "    }\n",
              "\n",
              "    .colab-df-convert:hover {\n",
              "      background-color: #E2EBFA;\n",
              "      box-shadow: 0px 1px 2px rgba(60, 64, 67, 0.3), 0px 1px 3px 1px rgba(60, 64, 67, 0.15);\n",
              "      fill: #174EA6;\n",
              "    }\n",
              "\n",
              "    .colab-df-buttons div {\n",
              "      margin-bottom: 4px;\n",
              "    }\n",
              "\n",
              "    [theme=dark] .colab-df-convert {\n",
              "      background-color: #3B4455;\n",
              "      fill: #D2E3FC;\n",
              "    }\n",
              "\n",
              "    [theme=dark] .colab-df-convert:hover {\n",
              "      background-color: #434B5C;\n",
              "      box-shadow: 0px 1px 3px 1px rgba(0, 0, 0, 0.15);\n",
              "      filter: drop-shadow(0px 1px 2px rgba(0, 0, 0, 0.3));\n",
              "      fill: #FFFFFF;\n",
              "    }\n",
              "  </style>\n",
              "\n",
              "    <script>\n",
              "      const buttonEl =\n",
              "        document.querySelector('#df-5b2d48d3-fe93-4db9-a1ea-1f718fa7f380 button.colab-df-convert');\n",
              "      buttonEl.style.display =\n",
              "        google.colab.kernel.accessAllowed ? 'block' : 'none';\n",
              "\n",
              "      async function convertToInteractive(key) {\n",
              "        const element = document.querySelector('#df-5b2d48d3-fe93-4db9-a1ea-1f718fa7f380');\n",
              "        const dataTable =\n",
              "          await google.colab.kernel.invokeFunction('convertToInteractive',\n",
              "                                                    [key], {});\n",
              "        if (!dataTable) return;\n",
              "\n",
              "        const docLinkHtml = 'Like what you see? Visit the ' +\n",
              "          '<a target=\"_blank\" href=https://colab.research.google.com/notebooks/data_table.ipynb>data table notebook</a>'\n",
              "          + ' to learn more about interactive tables.';\n",
              "        element.innerHTML = '';\n",
              "        dataTable['output_type'] = 'display_data';\n",
              "        await google.colab.output.renderOutput(dataTable, element);\n",
              "        const docLink = document.createElement('div');\n",
              "        docLink.innerHTML = docLinkHtml;\n",
              "        element.appendChild(docLink);\n",
              "      }\n",
              "    </script>\n",
              "  </div>\n",
              "\n",
              "\n",
              "    <div id=\"df-0a107776-6259-434e-a5f6-02ee7a461b75\">\n",
              "      <button class=\"colab-df-quickchart\" onclick=\"quickchart('df-0a107776-6259-434e-a5f6-02ee7a461b75')\"\n",
              "                title=\"Suggest charts\"\n",
              "                style=\"display:none;\">\n",
              "\n",
              "<svg xmlns=\"http://www.w3.org/2000/svg\" height=\"24px\"viewBox=\"0 0 24 24\"\n",
              "     width=\"24px\">\n",
              "    <g>\n",
              "        <path d=\"M19 3H5c-1.1 0-2 .9-2 2v14c0 1.1.9 2 2 2h14c1.1 0 2-.9 2-2V5c0-1.1-.9-2-2-2zM9 17H7v-7h2v7zm4 0h-2V7h2v10zm4 0h-2v-4h2v4z\"/>\n",
              "    </g>\n",
              "</svg>\n",
              "      </button>\n",
              "\n",
              "<style>\n",
              "  .colab-df-quickchart {\n",
              "      --bg-color: #E8F0FE;\n",
              "      --fill-color: #1967D2;\n",
              "      --hover-bg-color: #E2EBFA;\n",
              "      --hover-fill-color: #174EA6;\n",
              "      --disabled-fill-color: #AAA;\n",
              "      --disabled-bg-color: #DDD;\n",
              "  }\n",
              "\n",
              "  [theme=dark] .colab-df-quickchart {\n",
              "      --bg-color: #3B4455;\n",
              "      --fill-color: #D2E3FC;\n",
              "      --hover-bg-color: #434B5C;\n",
              "      --hover-fill-color: #FFFFFF;\n",
              "      --disabled-bg-color: #3B4455;\n",
              "      --disabled-fill-color: #666;\n",
              "  }\n",
              "\n",
              "  .colab-df-quickchart {\n",
              "    background-color: var(--bg-color);\n",
              "    border: none;\n",
              "    border-radius: 50%;\n",
              "    cursor: pointer;\n",
              "    display: none;\n",
              "    fill: var(--fill-color);\n",
              "    height: 32px;\n",
              "    padding: 0;\n",
              "    width: 32px;\n",
              "  }\n",
              "\n",
              "  .colab-df-quickchart:hover {\n",
              "    background-color: var(--hover-bg-color);\n",
              "    box-shadow: 0 1px 2px rgba(60, 64, 67, 0.3), 0 1px 3px 1px rgba(60, 64, 67, 0.15);\n",
              "    fill: var(--button-hover-fill-color);\n",
              "  }\n",
              "\n",
              "  .colab-df-quickchart-complete:disabled,\n",
              "  .colab-df-quickchart-complete:disabled:hover {\n",
              "    background-color: var(--disabled-bg-color);\n",
              "    fill: var(--disabled-fill-color);\n",
              "    box-shadow: none;\n",
              "  }\n",
              "\n",
              "  .colab-df-spinner {\n",
              "    border: 2px solid var(--fill-color);\n",
              "    border-color: transparent;\n",
              "    border-bottom-color: var(--fill-color);\n",
              "    animation:\n",
              "      spin 1s steps(1) infinite;\n",
              "  }\n",
              "\n",
              "  @keyframes spin {\n",
              "    0% {\n",
              "      border-color: transparent;\n",
              "      border-bottom-color: var(--fill-color);\n",
              "      border-left-color: var(--fill-color);\n",
              "    }\n",
              "    20% {\n",
              "      border-color: transparent;\n",
              "      border-left-color: var(--fill-color);\n",
              "      border-top-color: var(--fill-color);\n",
              "    }\n",
              "    30% {\n",
              "      border-color: transparent;\n",
              "      border-left-color: var(--fill-color);\n",
              "      border-top-color: var(--fill-color);\n",
              "      border-right-color: var(--fill-color);\n",
              "    }\n",
              "    40% {\n",
              "      border-color: transparent;\n",
              "      border-right-color: var(--fill-color);\n",
              "      border-top-color: var(--fill-color);\n",
              "    }\n",
              "    60% {\n",
              "      border-color: transparent;\n",
              "      border-right-color: var(--fill-color);\n",
              "    }\n",
              "    80% {\n",
              "      border-color: transparent;\n",
              "      border-right-color: var(--fill-color);\n",
              "      border-bottom-color: var(--fill-color);\n",
              "    }\n",
              "    90% {\n",
              "      border-color: transparent;\n",
              "      border-bottom-color: var(--fill-color);\n",
              "    }\n",
              "  }\n",
              "</style>\n",
              "\n",
              "      <script>\n",
              "        async function quickchart(key) {\n",
              "          const quickchartButtonEl =\n",
              "            document.querySelector('#' + key + ' button');\n",
              "          quickchartButtonEl.disabled = true;  // To prevent multiple clicks.\n",
              "          quickchartButtonEl.classList.add('colab-df-spinner');\n",
              "          try {\n",
              "            const charts = await google.colab.kernel.invokeFunction(\n",
              "                'suggestCharts', [key], {});\n",
              "          } catch (error) {\n",
              "            console.error('Error during call to suggestCharts:', error);\n",
              "          }\n",
              "          quickchartButtonEl.classList.remove('colab-df-spinner');\n",
              "          quickchartButtonEl.classList.add('colab-df-quickchart-complete');\n",
              "        }\n",
              "        (() => {\n",
              "          let quickchartButtonEl =\n",
              "            document.querySelector('#df-0a107776-6259-434e-a5f6-02ee7a461b75 button');\n",
              "          quickchartButtonEl.style.display =\n",
              "            google.colab.kernel.accessAllowed ? 'block' : 'none';\n",
              "        })();\n",
              "      </script>\n",
              "    </div>\n",
              "\n",
              "    </div>\n",
              "  </div>\n"
            ],
            "text/plain": [
              "                                 Value\n",
              "score                        57.893007\n",
              "counts                    [5, 3, 2, 1]\n",
              "totals                    [5, 4, 3, 2]\n",
              "precisions  [100.0, 75.0, 66.67, 50.0]\n",
              "bp                            0.818731\n",
              "sys_len                              5\n",
              "ref_len                              6"
            ]
          },
          "execution_count": 20,
          "metadata": {},
          "output_type": "execute_result"
        }
      ],
      "source": [
        "bleu_metric.add(\n",
        "    predictions = \"the cat is on mat\",\n",
        "    references = ['the cat is on the mat']\n",
        ")\n",
        "results = bleu_metric.compute(smooth_method=\"floor\", smooth_value=0)\n",
        "results['precisions'] = [np.round(p, 2) for p in results['precisions']]\n",
        "pd.DataFrame.from_dict(results, orient = 'index', columns = ['Value'])"
      ]
    },
    {
      "cell_type": "code",
      "execution_count": null,
      "metadata": {
        "colab": {
          "base_uri": "https://localhost:8080/",
          "height": 205,
          "referenced_widgets": [
            "68059d6b4828429a8c42f1f7d155d99a",
            "17273e7f0311469b91efae8c8ef5c4c5",
            "66e3185dc47a412db7715c4425e63725",
            "2207322749984e5da559b5c8f9b3bcbe",
            "0b5e90abade44aedae38886a2406f747",
            "26f2c7061d9f498283ffc8f7be7d71d8",
            "fbee1cc775f84ff1a2fe3d24312f375b",
            "f78ab0f68e8c430b8c4cd44dc48d06ae",
            "f6de5aaae42149cf8bf049847ac35854",
            "0c1c3fb908564050ac8b57480d518ddd",
            "038430e948504fcca9889eefbf1b13e2"
          ]
        },
        "collapsed": true,
        "id": "VTpxzIkSJjDw",
        "outputId": "432bc8b8-07eb-4011-a06d-d69ff988e3e9"
      },
      "outputs": [
        {
          "name": "stdout",
          "output_type": "stream",
          "text": [
            "Requirement already satisfied: rouge_score in /usr/local/lib/python3.11/dist-packages (0.1.2)\n",
            "Requirement already satisfied: absl-py in /usr/local/lib/python3.11/dist-packages (from rouge_score) (1.4.0)\n",
            "Requirement already satisfied: nltk in /usr/local/lib/python3.11/dist-packages (from rouge_score) (3.9.1)\n",
            "Requirement already satisfied: numpy in /usr/local/lib/python3.11/dist-packages (from rouge_score) (2.0.2)\n",
            "Requirement already satisfied: six>=1.14.0 in /usr/local/lib/python3.11/dist-packages (from rouge_score) (1.17.0)\n",
            "Requirement already satisfied: click in /usr/local/lib/python3.11/dist-packages (from nltk->rouge_score) (8.2.1)\n",
            "Requirement already satisfied: joblib in /usr/local/lib/python3.11/dist-packages (from nltk->rouge_score) (1.5.1)\n",
            "Requirement already satisfied: regex>=2021.8.3 in /usr/local/lib/python3.11/dist-packages (from nltk->rouge_score) (2024.11.6)\n",
            "Requirement already satisfied: tqdm in /usr/local/lib/python3.11/dist-packages (from nltk->rouge_score) (4.67.1)\n"
          ]
        },
        {
          "data": {
            "application/vnd.jupyter.widget-view+json": {
              "model_id": "68059d6b4828429a8c42f1f7d155d99a",
              "version_major": 2,
              "version_minor": 0
            },
            "text/plain": [
              "Downloading builder script:   0%|          | 0.00/2.17k [00:00<?, ?B/s]"
            ]
          },
          "metadata": {},
          "output_type": "display_data"
        }
      ],
      "source": [
        "!pip install rouge_score\n",
        "rouge_metric = load_metric('rouge')"
      ]
    },
    {
      "cell_type": "markdown",
      "metadata": {
        "id": "AYDhM-N4J34w"
      },
      "source": [
        "apply the ROUGE score to all the models' summaries"
      ]
    },
    {
      "cell_type": "code",
      "execution_count": null,
      "metadata": {
        "colab": {
          "base_uri": "https://localhost:8080/",
          "height": 174
        },
        "id": "YxZQIrL9JyPH",
        "outputId": "03bc90e3-b70e-4dd4-9b98-54b31bdcb1b5"
      },
      "outputs": [
        {
          "data": {
            "application/vnd.google.colaboratory.intrinsic+json": {
              "summary": "{\n  \"name\": \"pd\",\n  \"rows\": 4,\n  \"fields\": [\n    {\n      \"column\": \"rouge1\",\n      \"properties\": {\n        \"dtype\": \"number\",\n        \"std\": 0.19613050242189284,\n        \"min\": 0.10619469026548672,\n        \"max\": 0.5822784810126583,\n        \"num_unique_values\": 4,\n        \"samples\": [\n          0.10619469026548672,\n          0.5822784810126583,\n          0.30357142857142855\n        ],\n        \"semantic_type\": \"\",\n        \"description\": \"\"\n      }\n    },\n    {\n      \"column\": \"rouge2\",\n      \"properties\": {\n        \"dtype\": \"number\",\n        \"std\": 0.07982261211339464,\n        \"min\": 0.01801801801801802,\n        \"max\": 0.20779220779220778,\n        \"num_unique_values\": 4,\n        \"samples\": [\n          0.01801801801801802,\n          0.20779220779220778,\n          0.09090909090909091\n        ],\n        \"semantic_type\": \"\",\n        \"description\": \"\"\n      }\n    },\n    {\n      \"column\": \"rougeL\",\n      \"properties\": {\n        \"dtype\": \"number\",\n        \"std\": 0.15252304499284555,\n        \"min\": 0.08849557522123892,\n        \"max\": 0.45569620253164556,\n        \"num_unique_values\": 4,\n        \"samples\": [\n          0.08849557522123892,\n          0.45569620253164556,\n          0.21428571428571427\n        ],\n        \"semantic_type\": \"\",\n        \"description\": \"\"\n      }\n    },\n    {\n      \"column\": \"rougeLsum\",\n      \"properties\": {\n        \"dtype\": \"number\",\n        \"std\": 0.16904329250534547,\n        \"min\": 0.10619469026548672,\n        \"max\": 0.5063291139240508,\n        \"num_unique_values\": 4,\n        \"samples\": [\n          0.10619469026548672,\n          0.5063291139240508,\n          0.23214285714285718\n        ],\n        \"semantic_type\": \"\",\n        \"description\": \"\"\n      }\n    }\n  ]\n}",
              "type": "dataframe"
            },
            "text/html": [
              "\n",
              "  <div id=\"df-928e8b9c-68d8-4f75-b6ef-88be60af62b9\" class=\"colab-df-container\">\n",
              "    <div>\n",
              "<style scoped>\n",
              "    .dataframe tbody tr th:only-of-type {\n",
              "        vertical-align: middle;\n",
              "    }\n",
              "\n",
              "    .dataframe tbody tr th {\n",
              "        vertical-align: top;\n",
              "    }\n",
              "\n",
              "    .dataframe thead th {\n",
              "        text-align: right;\n",
              "    }\n",
              "</style>\n",
              "<table border=\"1\" class=\"dataframe\">\n",
              "  <thead>\n",
              "    <tr style=\"text-align: right;\">\n",
              "      <th></th>\n",
              "      <th>rouge1</th>\n",
              "      <th>rouge2</th>\n",
              "      <th>rougeL</th>\n",
              "      <th>rougeLsum</th>\n",
              "    </tr>\n",
              "  </thead>\n",
              "  <tbody>\n",
              "    <tr>\n",
              "      <th>baseline</th>\n",
              "      <td>0.303571</td>\n",
              "      <td>0.090909</td>\n",
              "      <td>0.214286</td>\n",
              "      <td>0.232143</td>\n",
              "    </tr>\n",
              "    <tr>\n",
              "      <th>gpt</th>\n",
              "      <td>0.106195</td>\n",
              "      <td>0.018018</td>\n",
              "      <td>0.088496</td>\n",
              "      <td>0.106195</td>\n",
              "    </tr>\n",
              "    <tr>\n",
              "      <th>t5</th>\n",
              "      <td>0.366667</td>\n",
              "      <td>0.137931</td>\n",
              "      <td>0.266667</td>\n",
              "      <td>0.333333</td>\n",
              "    </tr>\n",
              "    <tr>\n",
              "      <th>bart</th>\n",
              "      <td>0.582278</td>\n",
              "      <td>0.207792</td>\n",
              "      <td>0.455696</td>\n",
              "      <td>0.506329</td>\n",
              "    </tr>\n",
              "  </tbody>\n",
              "</table>\n",
              "</div>\n",
              "    <div class=\"colab-df-buttons\">\n",
              "\n",
              "  <div class=\"colab-df-container\">\n",
              "    <button class=\"colab-df-convert\" onclick=\"convertToInteractive('df-928e8b9c-68d8-4f75-b6ef-88be60af62b9')\"\n",
              "            title=\"Convert this dataframe to an interactive table.\"\n",
              "            style=\"display:none;\">\n",
              "\n",
              "  <svg xmlns=\"http://www.w3.org/2000/svg\" height=\"24px\" viewBox=\"0 -960 960 960\">\n",
              "    <path d=\"M120-120v-720h720v720H120Zm60-500h600v-160H180v160Zm220 220h160v-160H400v160Zm0 220h160v-160H400v160ZM180-400h160v-160H180v160Zm440 0h160v-160H620v160ZM180-180h160v-160H180v160Zm440 0h160v-160H620v160Z\"/>\n",
              "  </svg>\n",
              "    </button>\n",
              "\n",
              "  <style>\n",
              "    .colab-df-container {\n",
              "      display:flex;\n",
              "      gap: 12px;\n",
              "    }\n",
              "\n",
              "    .colab-df-convert {\n",
              "      background-color: #E8F0FE;\n",
              "      border: none;\n",
              "      border-radius: 50%;\n",
              "      cursor: pointer;\n",
              "      display: none;\n",
              "      fill: #1967D2;\n",
              "      height: 32px;\n",
              "      padding: 0 0 0 0;\n",
              "      width: 32px;\n",
              "    }\n",
              "\n",
              "    .colab-df-convert:hover {\n",
              "      background-color: #E2EBFA;\n",
              "      box-shadow: 0px 1px 2px rgba(60, 64, 67, 0.3), 0px 1px 3px 1px rgba(60, 64, 67, 0.15);\n",
              "      fill: #174EA6;\n",
              "    }\n",
              "\n",
              "    .colab-df-buttons div {\n",
              "      margin-bottom: 4px;\n",
              "    }\n",
              "\n",
              "    [theme=dark] .colab-df-convert {\n",
              "      background-color: #3B4455;\n",
              "      fill: #D2E3FC;\n",
              "    }\n",
              "\n",
              "    [theme=dark] .colab-df-convert:hover {\n",
              "      background-color: #434B5C;\n",
              "      box-shadow: 0px 1px 3px 1px rgba(0, 0, 0, 0.15);\n",
              "      filter: drop-shadow(0px 1px 2px rgba(0, 0, 0, 0.3));\n",
              "      fill: #FFFFFF;\n",
              "    }\n",
              "  </style>\n",
              "\n",
              "    <script>\n",
              "      const buttonEl =\n",
              "        document.querySelector('#df-928e8b9c-68d8-4f75-b6ef-88be60af62b9 button.colab-df-convert');\n",
              "      buttonEl.style.display =\n",
              "        google.colab.kernel.accessAllowed ? 'block' : 'none';\n",
              "\n",
              "      async function convertToInteractive(key) {\n",
              "        const element = document.querySelector('#df-928e8b9c-68d8-4f75-b6ef-88be60af62b9');\n",
              "        const dataTable =\n",
              "          await google.colab.kernel.invokeFunction('convertToInteractive',\n",
              "                                                    [key], {});\n",
              "        if (!dataTable) return;\n",
              "\n",
              "        const docLinkHtml = 'Like what you see? Visit the ' +\n",
              "          '<a target=\"_blank\" href=https://colab.research.google.com/notebooks/data_table.ipynb>data table notebook</a>'\n",
              "          + ' to learn more about interactive tables.';\n",
              "        element.innerHTML = '';\n",
              "        dataTable['output_type'] = 'display_data';\n",
              "        await google.colab.output.renderOutput(dataTable, element);\n",
              "        const docLink = document.createElement('div');\n",
              "        docLink.innerHTML = docLinkHtml;\n",
              "        element.appendChild(docLink);\n",
              "      }\n",
              "    </script>\n",
              "  </div>\n",
              "\n",
              "\n",
              "    <div id=\"df-cf1afd07-078f-4158-a72f-e3d17263b0ff\">\n",
              "      <button class=\"colab-df-quickchart\" onclick=\"quickchart('df-cf1afd07-078f-4158-a72f-e3d17263b0ff')\"\n",
              "                title=\"Suggest charts\"\n",
              "                style=\"display:none;\">\n",
              "\n",
              "<svg xmlns=\"http://www.w3.org/2000/svg\" height=\"24px\"viewBox=\"0 0 24 24\"\n",
              "     width=\"24px\">\n",
              "    <g>\n",
              "        <path d=\"M19 3H5c-1.1 0-2 .9-2 2v14c0 1.1.9 2 2 2h14c1.1 0 2-.9 2-2V5c0-1.1-.9-2-2-2zM9 17H7v-7h2v7zm4 0h-2V7h2v10zm4 0h-2v-4h2v4z\"/>\n",
              "    </g>\n",
              "</svg>\n",
              "      </button>\n",
              "\n",
              "<style>\n",
              "  .colab-df-quickchart {\n",
              "      --bg-color: #E8F0FE;\n",
              "      --fill-color: #1967D2;\n",
              "      --hover-bg-color: #E2EBFA;\n",
              "      --hover-fill-color: #174EA6;\n",
              "      --disabled-fill-color: #AAA;\n",
              "      --disabled-bg-color: #DDD;\n",
              "  }\n",
              "\n",
              "  [theme=dark] .colab-df-quickchart {\n",
              "      --bg-color: #3B4455;\n",
              "      --fill-color: #D2E3FC;\n",
              "      --hover-bg-color: #434B5C;\n",
              "      --hover-fill-color: #FFFFFF;\n",
              "      --disabled-bg-color: #3B4455;\n",
              "      --disabled-fill-color: #666;\n",
              "  }\n",
              "\n",
              "  .colab-df-quickchart {\n",
              "    background-color: var(--bg-color);\n",
              "    border: none;\n",
              "    border-radius: 50%;\n",
              "    cursor: pointer;\n",
              "    display: none;\n",
              "    fill: var(--fill-color);\n",
              "    height: 32px;\n",
              "    padding: 0;\n",
              "    width: 32px;\n",
              "  }\n",
              "\n",
              "  .colab-df-quickchart:hover {\n",
              "    background-color: var(--hover-bg-color);\n",
              "    box-shadow: 0 1px 2px rgba(60, 64, 67, 0.3), 0 1px 3px 1px rgba(60, 64, 67, 0.15);\n",
              "    fill: var(--button-hover-fill-color);\n",
              "  }\n",
              "\n",
              "  .colab-df-quickchart-complete:disabled,\n",
              "  .colab-df-quickchart-complete:disabled:hover {\n",
              "    background-color: var(--disabled-bg-color);\n",
              "    fill: var(--disabled-fill-color);\n",
              "    box-shadow: none;\n",
              "  }\n",
              "\n",
              "  .colab-df-spinner {\n",
              "    border: 2px solid var(--fill-color);\n",
              "    border-color: transparent;\n",
              "    border-bottom-color: var(--fill-color);\n",
              "    animation:\n",
              "      spin 1s steps(1) infinite;\n",
              "  }\n",
              "\n",
              "  @keyframes spin {\n",
              "    0% {\n",
              "      border-color: transparent;\n",
              "      border-bottom-color: var(--fill-color);\n",
              "      border-left-color: var(--fill-color);\n",
              "    }\n",
              "    20% {\n",
              "      border-color: transparent;\n",
              "      border-left-color: var(--fill-color);\n",
              "      border-top-color: var(--fill-color);\n",
              "    }\n",
              "    30% {\n",
              "      border-color: transparent;\n",
              "      border-left-color: var(--fill-color);\n",
              "      border-top-color: var(--fill-color);\n",
              "      border-right-color: var(--fill-color);\n",
              "    }\n",
              "    40% {\n",
              "      border-color: transparent;\n",
              "      border-right-color: var(--fill-color);\n",
              "      border-top-color: var(--fill-color);\n",
              "    }\n",
              "    60% {\n",
              "      border-color: transparent;\n",
              "      border-right-color: var(--fill-color);\n",
              "    }\n",
              "    80% {\n",
              "      border-color: transparent;\n",
              "      border-right-color: var(--fill-color);\n",
              "      border-bottom-color: var(--fill-color);\n",
              "    }\n",
              "    90% {\n",
              "      border-color: transparent;\n",
              "      border-bottom-color: var(--fill-color);\n",
              "    }\n",
              "  }\n",
              "</style>\n",
              "\n",
              "      <script>\n",
              "        async function quickchart(key) {\n",
              "          const quickchartButtonEl =\n",
              "            document.querySelector('#' + key + ' button');\n",
              "          quickchartButtonEl.disabled = true;  // To prevent multiple clicks.\n",
              "          quickchartButtonEl.classList.add('colab-df-spinner');\n",
              "          try {\n",
              "            const charts = await google.colab.kernel.invokeFunction(\n",
              "                'suggestCharts', [key], {});\n",
              "          } catch (error) {\n",
              "            console.error('Error during call to suggestCharts:', error);\n",
              "          }\n",
              "          quickchartButtonEl.classList.remove('colab-df-spinner');\n",
              "          quickchartButtonEl.classList.add('colab-df-quickchart-complete');\n",
              "        }\n",
              "        (() => {\n",
              "          let quickchartButtonEl =\n",
              "            document.querySelector('#df-cf1afd07-078f-4158-a72f-e3d17263b0ff button');\n",
              "          quickchartButtonEl.style.display =\n",
              "            google.colab.kernel.accessAllowed ? 'block' : 'none';\n",
              "        })();\n",
              "      </script>\n",
              "    </div>\n",
              "\n",
              "    </div>\n",
              "  </div>\n"
            ],
            "text/plain": [
              "            rouge1    rouge2    rougeL  rougeLsum\n",
              "baseline  0.303571  0.090909  0.214286   0.232143\n",
              "gpt       0.106195  0.018018  0.088496   0.106195\n",
              "t5        0.366667  0.137931  0.266667   0.333333\n",
              "bart      0.582278  0.207792  0.455696   0.506329"
            ]
          },
          "execution_count": 28,
          "metadata": {},
          "output_type": "execute_result"
        }
      ],
      "source": [
        "references = dataset[\"train\"][1][\"highlights\"]\n",
        "record = []\n",
        "rouge_names = [\"rouge1\", \"rouge2\", \"rougeL\", \"rougeLsum\"]\n",
        "for model_name in summaries:\n",
        "  rouge_metric.add(prediction = summaries[model_name], reference = references)\n",
        "  score = rouge_metric.compute()\n",
        "  rouge_dict = dict((rn, score[rn].mid.fmeasure) for rn in rouge_names)\n",
        "  record.append(rouge_dict)\n",
        "pd.DataFrame.from_records(record, index = summaries.keys())"
      ]
    },
    {
      "cell_type": "markdown",
      "metadata": {
        "id": "GUPTm6EQMRW1"
      },
      "source": [
        "<h1>3. Evaluating PEGASUS on the CNN/DailyMail Dataset\n"
      ]
    },
    {
      "cell_type": "code",
      "execution_count": null,
      "metadata": {
        "id": "ZuEjHcJZMTT3"
      },
      "outputs": [],
      "source": [
        "def evaluate_summaries_baseline(dataset, metric, column_text = \"article\", column_summary = \"highlights\"):\n",
        "  summaries = [three_sentence_baseline(text) for text in dataset[column_text]]\n",
        "  metric.add_batch(predictions = summaries,\n",
        "                   references = dataset[column_summary])\n",
        "  score = metric.compute()\n",
        "  return score"
      ]
    },
    {
      "cell_type": "code",
      "execution_count": null,
      "metadata": {
        "id": "lMpRbS0AlVed"
      },
      "outputs": [],
      "source": [
        "import pandas as pd\n",
        "import numpy as np"
      ]
    },
    {
      "cell_type": "code",
      "execution_count": null,
      "metadata": {
        "colab": {
          "base_uri": "https://localhost:8080/",
          "height": 80
        },
        "id": "JqAc1sCeRMJJ",
        "outputId": "4d08cdbb-22b9-4565-c0c6-b9ba7d5b067a"
      },
      "outputs": [
        {
          "data": {
            "application/vnd.google.colaboratory.intrinsic+json": {
              "summary": "{\n  \"name\": \"pd\",\n  \"rows\": 1,\n  \"fields\": [\n    {\n      \"column\": \"rouge1\",\n      \"properties\": {\n        \"dtype\": \"number\",\n        \"std\": null,\n        \"min\": 0.393220274273053,\n        \"max\": 0.393220274273053,\n        \"num_unique_values\": 1,\n        \"samples\": [\n          0.393220274273053\n        ],\n        \"semantic_type\": \"\",\n        \"description\": \"\"\n      }\n    },\n    {\n      \"column\": \"rouge2\",\n      \"properties\": {\n        \"dtype\": \"number\",\n        \"std\": null,\n        \"min\": 0.17788971609213589,\n        \"max\": 0.17788971609213589,\n        \"num_unique_values\": 1,\n        \"samples\": [\n          0.17788971609213589\n        ],\n        \"semantic_type\": \"\",\n        \"description\": \"\"\n      }\n    },\n    {\n      \"column\": \"rougeL\",\n      \"properties\": {\n        \"dtype\": \"number\",\n        \"std\": null,\n        \"min\": 0.25491817878323514,\n        \"max\": 0.25491817878323514,\n        \"num_unique_values\": 1,\n        \"samples\": [\n          0.25491817878323514\n        ],\n        \"semantic_type\": \"\",\n        \"description\": \"\"\n      }\n    },\n    {\n      \"column\": \"rougeLsum\",\n      \"properties\": {\n        \"dtype\": \"number\",\n        \"std\": null,\n        \"min\": 0.36332856153740745,\n        \"max\": 0.36332856153740745,\n        \"num_unique_values\": 1,\n        \"samples\": [\n          0.36332856153740745\n        ],\n        \"semantic_type\": \"\",\n        \"description\": \"\"\n      }\n    }\n  ]\n}",
              "type": "dataframe"
            },
            "text/html": [
              "\n",
              "  <div id=\"df-6efd3569-e669-478d-b177-e7b6d0298e38\" class=\"colab-df-container\">\n",
              "    <div>\n",
              "<style scoped>\n",
              "    .dataframe tbody tr th:only-of-type {\n",
              "        vertical-align: middle;\n",
              "    }\n",
              "\n",
              "    .dataframe tbody tr th {\n",
              "        vertical-align: top;\n",
              "    }\n",
              "\n",
              "    .dataframe thead th {\n",
              "        text-align: right;\n",
              "    }\n",
              "</style>\n",
              "<table border=\"1\" class=\"dataframe\">\n",
              "  <thead>\n",
              "    <tr style=\"text-align: right;\">\n",
              "      <th></th>\n",
              "      <th>rouge1</th>\n",
              "      <th>rouge2</th>\n",
              "      <th>rougeL</th>\n",
              "      <th>rougeLsum</th>\n",
              "    </tr>\n",
              "  </thead>\n",
              "  <tbody>\n",
              "    <tr>\n",
              "      <th>baseline</th>\n",
              "      <td>0.39322</td>\n",
              "      <td>0.17789</td>\n",
              "      <td>0.254918</td>\n",
              "      <td>0.363329</td>\n",
              "    </tr>\n",
              "  </tbody>\n",
              "</table>\n",
              "</div>\n",
              "    <div class=\"colab-df-buttons\">\n",
              "\n",
              "  <div class=\"colab-df-container\">\n",
              "    <button class=\"colab-df-convert\" onclick=\"convertToInteractive('df-6efd3569-e669-478d-b177-e7b6d0298e38')\"\n",
              "            title=\"Convert this dataframe to an interactive table.\"\n",
              "            style=\"display:none;\">\n",
              "\n",
              "  <svg xmlns=\"http://www.w3.org/2000/svg\" height=\"24px\" viewBox=\"0 -960 960 960\">\n",
              "    <path d=\"M120-120v-720h720v720H120Zm60-500h600v-160H180v160Zm220 220h160v-160H400v160Zm0 220h160v-160H400v160ZM180-400h160v-160H180v160Zm440 0h160v-160H620v160ZM180-180h160v-160H180v160Zm440 0h160v-160H620v160Z\"/>\n",
              "  </svg>\n",
              "    </button>\n",
              "\n",
              "  <style>\n",
              "    .colab-df-container {\n",
              "      display:flex;\n",
              "      gap: 12px;\n",
              "    }\n",
              "\n",
              "    .colab-df-convert {\n",
              "      background-color: #E8F0FE;\n",
              "      border: none;\n",
              "      border-radius: 50%;\n",
              "      cursor: pointer;\n",
              "      display: none;\n",
              "      fill: #1967D2;\n",
              "      height: 32px;\n",
              "      padding: 0 0 0 0;\n",
              "      width: 32px;\n",
              "    }\n",
              "\n",
              "    .colab-df-convert:hover {\n",
              "      background-color: #E2EBFA;\n",
              "      box-shadow: 0px 1px 2px rgba(60, 64, 67, 0.3), 0px 1px 3px 1px rgba(60, 64, 67, 0.15);\n",
              "      fill: #174EA6;\n",
              "    }\n",
              "\n",
              "    .colab-df-buttons div {\n",
              "      margin-bottom: 4px;\n",
              "    }\n",
              "\n",
              "    [theme=dark] .colab-df-convert {\n",
              "      background-color: #3B4455;\n",
              "      fill: #D2E3FC;\n",
              "    }\n",
              "\n",
              "    [theme=dark] .colab-df-convert:hover {\n",
              "      background-color: #434B5C;\n",
              "      box-shadow: 0px 1px 3px 1px rgba(0, 0, 0, 0.15);\n",
              "      filter: drop-shadow(0px 1px 2px rgba(0, 0, 0, 0.3));\n",
              "      fill: #FFFFFF;\n",
              "    }\n",
              "  </style>\n",
              "\n",
              "    <script>\n",
              "      const buttonEl =\n",
              "        document.querySelector('#df-6efd3569-e669-478d-b177-e7b6d0298e38 button.colab-df-convert');\n",
              "      buttonEl.style.display =\n",
              "        google.colab.kernel.accessAllowed ? 'block' : 'none';\n",
              "\n",
              "      async function convertToInteractive(key) {\n",
              "        const element = document.querySelector('#df-6efd3569-e669-478d-b177-e7b6d0298e38');\n",
              "        const dataTable =\n",
              "          await google.colab.kernel.invokeFunction('convertToInteractive',\n",
              "                                                    [key], {});\n",
              "        if (!dataTable) return;\n",
              "\n",
              "        const docLinkHtml = 'Like what you see? Visit the ' +\n",
              "          '<a target=\"_blank\" href=https://colab.research.google.com/notebooks/data_table.ipynb>data table notebook</a>'\n",
              "          + ' to learn more about interactive tables.';\n",
              "        element.innerHTML = '';\n",
              "        dataTable['output_type'] = 'display_data';\n",
              "        await google.colab.output.renderOutput(dataTable, element);\n",
              "        const docLink = document.createElement('div');\n",
              "        docLink.innerHTML = docLinkHtml;\n",
              "        element.appendChild(docLink);\n",
              "      }\n",
              "    </script>\n",
              "  </div>\n",
              "\n",
              "\n",
              "    </div>\n",
              "  </div>\n"
            ],
            "text/plain": [
              "           rouge1   rouge2    rougeL  rougeLsum\n",
              "baseline  0.39322  0.17789  0.254918   0.363329"
            ]
          },
          "execution_count": 21,
          "metadata": {},
          "output_type": "execute_result"
        }
      ],
      "source": [
        "#down-sample to minimize the calculation time\n",
        "test_sample = dataset['test'].shuffle(seed = 42).select(range(200))\n",
        "\n",
        "score = evaluate_summaries_baseline(test_sample, rouge_metric)\n",
        "\n",
        "rouge_names = [\"rouge1\", \"rouge2\", \"rougeL\", \"rougeLsum\"]\n",
        "rouge_dict = dict((rn, score[rn].mid.fmeasure) for rn in rouge_names)\n",
        "pd.DataFrame.from_dict(rouge_dict, orient = 'index', columns = ['baseline']).T"
      ]
    },
    {
      "cell_type": "code",
      "execution_count": null,
      "metadata": {
        "id": "wbLF9-MUSrbY"
      },
      "outputs": [],
      "source": [
        "from tqdm import tqdm\n",
        "import torch\n",
        "device = \"cuda\" if torch.cuda.is_available() else \"cpu\"\n",
        "\n",
        "#create batch_size chunks for multiple-processing\n",
        "def chunks(list_of_elements, batch_size):\n",
        "  \"\"\"Yield successive batch-sized chunks from list_of_elements.\"\"\"\n",
        "  for i in range(0, len(list_of_elements), batch_size):\n",
        "    yield list_of_elements[i: i + batch_size]\n",
        "\n",
        "\n",
        "def evaluate_summaries_pegasus(dataset, metric, model, tokenizer,\n",
        "                               batch_size = 16, device = device, column_text = \"article\", column_summary = \"highlights\"):\n",
        "  article_batches = list(chunks(dataset[column_text], batch_size))\n",
        "  target_batches = list(chunks(dataset[column_summary], batch_size))\n",
        "\n",
        "  for article_batch, target_batch in tqdm(\n",
        "      zip(article_batches, target_batches), total = len(article_batches)):\n",
        "      inputs = tokenizer(article_batch, max_length = 1024, truncation = True, padding = \"max_length\", return_tensors = \"pt\")\n",
        "      summaries = model.generate(input_ids = inputs[\"input_ids\"].to(device),\n",
        "                                 attention_mask = inputs[\"attention_mask\"].to(device),\n",
        "                                 length_penalty = 0.8, num_beams = 8, max_length = 128)\n",
        "      decoded_summaries = [tokenizer.decode(s, skip_special_tokens = True, clean_up_tokenization_spaces = True)\n",
        "                           for s in summaries]\n",
        "      decoded_summaries = [d.replace(\"<n>\", \" \") for d in decoded_summaries]\n",
        "      metric.add_batch(predictions = decoded_summaries, references = target_batch)\n",
        "  score = metric.compute()\n",
        "  return score"
      ]
    },
    {
      "cell_type": "code",
      "execution_count": null,
      "metadata": {
        "colab": {
          "base_uri": "https://localhost:8080/"
        },
        "id": "fDgBBipoXoLh",
        "outputId": "bd2c75f9-f838-45cb-ab45-b93e85a49422"
      },
      "outputs": [
        {
          "name": "stderr",
          "output_type": "stream",
          "text": [
            "Some weights of PegasusForConditionalGeneration were not initialized from the model checkpoint at google/pegasus-cnn_dailymail and are newly initialized: ['model.decoder.embed_positions.weight', 'model.encoder.embed_positions.weight']\n",
            "You should probably TRAIN this model on a down-stream task to be able to use it for predictions and inference.\n",
            "100%|██████████| 50/50 [08:16<00:00,  9.92s/it]\n"
          ]
        },
        {
          "data": {
            "application/vnd.google.colaboratory.intrinsic+json": {
              "summary": "{\n  \"name\": \"pd\",\n  \"rows\": 4,\n  \"fields\": [\n    {\n      \"column\": \"pegasus\",\n      \"properties\": {\n        \"dtype\": \"number\",\n        \"std\": 0.09632582081148303,\n        \"min\": 0.20576062418380076,\n        \"max\": 0.4284881352886646,\n        \"num_unique_values\": 4,\n        \"samples\": [\n          0.20576062418380076,\n          0.37225855272516484,\n          0.4284881352886646\n        ],\n        \"semantic_type\": \"\",\n        \"description\": \"\"\n      }\n    }\n  ]\n}",
              "type": "dataframe"
            },
            "text/html": [
              "\n",
              "  <div id=\"df-2f0985be-7e59-4717-a96c-6fc2bb3b11ee\" class=\"colab-df-container\">\n",
              "    <div>\n",
              "<style scoped>\n",
              "    .dataframe tbody tr th:only-of-type {\n",
              "        vertical-align: middle;\n",
              "    }\n",
              "\n",
              "    .dataframe tbody tr th {\n",
              "        vertical-align: top;\n",
              "    }\n",
              "\n",
              "    .dataframe thead th {\n",
              "        text-align: right;\n",
              "    }\n",
              "</style>\n",
              "<table border=\"1\" class=\"dataframe\">\n",
              "  <thead>\n",
              "    <tr style=\"text-align: right;\">\n",
              "      <th></th>\n",
              "      <th>pegasus</th>\n",
              "    </tr>\n",
              "  </thead>\n",
              "  <tbody>\n",
              "    <tr>\n",
              "      <th>rouge1</th>\n",
              "      <td>0.428488</td>\n",
              "    </tr>\n",
              "    <tr>\n",
              "      <th>rouge2</th>\n",
              "      <td>0.205761</td>\n",
              "    </tr>\n",
              "    <tr>\n",
              "      <th>rougeL</th>\n",
              "      <td>0.298884</td>\n",
              "    </tr>\n",
              "    <tr>\n",
              "      <th>rougeLsum</th>\n",
              "      <td>0.372259</td>\n",
              "    </tr>\n",
              "  </tbody>\n",
              "</table>\n",
              "</div>\n",
              "    <div class=\"colab-df-buttons\">\n",
              "\n",
              "  <div class=\"colab-df-container\">\n",
              "    <button class=\"colab-df-convert\" onclick=\"convertToInteractive('df-2f0985be-7e59-4717-a96c-6fc2bb3b11ee')\"\n",
              "            title=\"Convert this dataframe to an interactive table.\"\n",
              "            style=\"display:none;\">\n",
              "\n",
              "  <svg xmlns=\"http://www.w3.org/2000/svg\" height=\"24px\" viewBox=\"0 -960 960 960\">\n",
              "    <path d=\"M120-120v-720h720v720H120Zm60-500h600v-160H180v160Zm220 220h160v-160H400v160Zm0 220h160v-160H400v160ZM180-400h160v-160H180v160Zm440 0h160v-160H620v160ZM180-180h160v-160H180v160Zm440 0h160v-160H620v160Z\"/>\n",
              "  </svg>\n",
              "    </button>\n",
              "\n",
              "  <style>\n",
              "    .colab-df-container {\n",
              "      display:flex;\n",
              "      gap: 12px;\n",
              "    }\n",
              "\n",
              "    .colab-df-convert {\n",
              "      background-color: #E8F0FE;\n",
              "      border: none;\n",
              "      border-radius: 50%;\n",
              "      cursor: pointer;\n",
              "      display: none;\n",
              "      fill: #1967D2;\n",
              "      height: 32px;\n",
              "      padding: 0 0 0 0;\n",
              "      width: 32px;\n",
              "    }\n",
              "\n",
              "    .colab-df-convert:hover {\n",
              "      background-color: #E2EBFA;\n",
              "      box-shadow: 0px 1px 2px rgba(60, 64, 67, 0.3), 0px 1px 3px 1px rgba(60, 64, 67, 0.15);\n",
              "      fill: #174EA6;\n",
              "    }\n",
              "\n",
              "    .colab-df-buttons div {\n",
              "      margin-bottom: 4px;\n",
              "    }\n",
              "\n",
              "    [theme=dark] .colab-df-convert {\n",
              "      background-color: #3B4455;\n",
              "      fill: #D2E3FC;\n",
              "    }\n",
              "\n",
              "    [theme=dark] .colab-df-convert:hover {\n",
              "      background-color: #434B5C;\n",
              "      box-shadow: 0px 1px 3px 1px rgba(0, 0, 0, 0.15);\n",
              "      filter: drop-shadow(0px 1px 2px rgba(0, 0, 0, 0.3));\n",
              "      fill: #FFFFFF;\n",
              "    }\n",
              "  </style>\n",
              "\n",
              "    <script>\n",
              "      const buttonEl =\n",
              "        document.querySelector('#df-2f0985be-7e59-4717-a96c-6fc2bb3b11ee button.colab-df-convert');\n",
              "      buttonEl.style.display =\n",
              "        google.colab.kernel.accessAllowed ? 'block' : 'none';\n",
              "\n",
              "      async function convertToInteractive(key) {\n",
              "        const element = document.querySelector('#df-2f0985be-7e59-4717-a96c-6fc2bb3b11ee');\n",
              "        const dataTable =\n",
              "          await google.colab.kernel.invokeFunction('convertToInteractive',\n",
              "                                                    [key], {});\n",
              "        if (!dataTable) return;\n",
              "\n",
              "        const docLinkHtml = 'Like what you see? Visit the ' +\n",
              "          '<a target=\"_blank\" href=https://colab.research.google.com/notebooks/data_table.ipynb>data table notebook</a>'\n",
              "          + ' to learn more about interactive tables.';\n",
              "        element.innerHTML = '';\n",
              "        dataTable['output_type'] = 'display_data';\n",
              "        await google.colab.output.renderOutput(dataTable, element);\n",
              "        const docLink = document.createElement('div');\n",
              "        docLink.innerHTML = docLinkHtml;\n",
              "        element.appendChild(docLink);\n",
              "      }\n",
              "    </script>\n",
              "  </div>\n",
              "\n",
              "\n",
              "    <div id=\"df-d14afbb1-5773-410d-873a-369d650d4904\">\n",
              "      <button class=\"colab-df-quickchart\" onclick=\"quickchart('df-d14afbb1-5773-410d-873a-369d650d4904')\"\n",
              "                title=\"Suggest charts\"\n",
              "                style=\"display:none;\">\n",
              "\n",
              "<svg xmlns=\"http://www.w3.org/2000/svg\" height=\"24px\"viewBox=\"0 0 24 24\"\n",
              "     width=\"24px\">\n",
              "    <g>\n",
              "        <path d=\"M19 3H5c-1.1 0-2 .9-2 2v14c0 1.1.9 2 2 2h14c1.1 0 2-.9 2-2V5c0-1.1-.9-2-2-2zM9 17H7v-7h2v7zm4 0h-2V7h2v10zm4 0h-2v-4h2v4z\"/>\n",
              "    </g>\n",
              "</svg>\n",
              "      </button>\n",
              "\n",
              "<style>\n",
              "  .colab-df-quickchart {\n",
              "      --bg-color: #E8F0FE;\n",
              "      --fill-color: #1967D2;\n",
              "      --hover-bg-color: #E2EBFA;\n",
              "      --hover-fill-color: #174EA6;\n",
              "      --disabled-fill-color: #AAA;\n",
              "      --disabled-bg-color: #DDD;\n",
              "  }\n",
              "\n",
              "  [theme=dark] .colab-df-quickchart {\n",
              "      --bg-color: #3B4455;\n",
              "      --fill-color: #D2E3FC;\n",
              "      --hover-bg-color: #434B5C;\n",
              "      --hover-fill-color: #FFFFFF;\n",
              "      --disabled-bg-color: #3B4455;\n",
              "      --disabled-fill-color: #666;\n",
              "  }\n",
              "\n",
              "  .colab-df-quickchart {\n",
              "    background-color: var(--bg-color);\n",
              "    border: none;\n",
              "    border-radius: 50%;\n",
              "    cursor: pointer;\n",
              "    display: none;\n",
              "    fill: var(--fill-color);\n",
              "    height: 32px;\n",
              "    padding: 0;\n",
              "    width: 32px;\n",
              "  }\n",
              "\n",
              "  .colab-df-quickchart:hover {\n",
              "    background-color: var(--hover-bg-color);\n",
              "    box-shadow: 0 1px 2px rgba(60, 64, 67, 0.3), 0 1px 3px 1px rgba(60, 64, 67, 0.15);\n",
              "    fill: var(--button-hover-fill-color);\n",
              "  }\n",
              "\n",
              "  .colab-df-quickchart-complete:disabled,\n",
              "  .colab-df-quickchart-complete:disabled:hover {\n",
              "    background-color: var(--disabled-bg-color);\n",
              "    fill: var(--disabled-fill-color);\n",
              "    box-shadow: none;\n",
              "  }\n",
              "\n",
              "  .colab-df-spinner {\n",
              "    border: 2px solid var(--fill-color);\n",
              "    border-color: transparent;\n",
              "    border-bottom-color: var(--fill-color);\n",
              "    animation:\n",
              "      spin 1s steps(1) infinite;\n",
              "  }\n",
              "\n",
              "  @keyframes spin {\n",
              "    0% {\n",
              "      border-color: transparent;\n",
              "      border-bottom-color: var(--fill-color);\n",
              "      border-left-color: var(--fill-color);\n",
              "    }\n",
              "    20% {\n",
              "      border-color: transparent;\n",
              "      border-left-color: var(--fill-color);\n",
              "      border-top-color: var(--fill-color);\n",
              "    }\n",
              "    30% {\n",
              "      border-color: transparent;\n",
              "      border-left-color: var(--fill-color);\n",
              "      border-top-color: var(--fill-color);\n",
              "      border-right-color: var(--fill-color);\n",
              "    }\n",
              "    40% {\n",
              "      border-color: transparent;\n",
              "      border-right-color: var(--fill-color);\n",
              "      border-top-color: var(--fill-color);\n",
              "    }\n",
              "    60% {\n",
              "      border-color: transparent;\n",
              "      border-right-color: var(--fill-color);\n",
              "    }\n",
              "    80% {\n",
              "      border-color: transparent;\n",
              "      border-right-color: var(--fill-color);\n",
              "      border-bottom-color: var(--fill-color);\n",
              "    }\n",
              "    90% {\n",
              "      border-color: transparent;\n",
              "      border-bottom-color: var(--fill-color);\n",
              "    }\n",
              "  }\n",
              "</style>\n",
              "\n",
              "      <script>\n",
              "        async function quickchart(key) {\n",
              "          const quickchartButtonEl =\n",
              "            document.querySelector('#' + key + ' button');\n",
              "          quickchartButtonEl.disabled = true;  // To prevent multiple clicks.\n",
              "          quickchartButtonEl.classList.add('colab-df-spinner');\n",
              "          try {\n",
              "            const charts = await google.colab.kernel.invokeFunction(\n",
              "                'suggestCharts', [key], {});\n",
              "          } catch (error) {\n",
              "            console.error('Error during call to suggestCharts:', error);\n",
              "          }\n",
              "          quickchartButtonEl.classList.remove('colab-df-spinner');\n",
              "          quickchartButtonEl.classList.add('colab-df-quickchart-complete');\n",
              "        }\n",
              "        (() => {\n",
              "          let quickchartButtonEl =\n",
              "            document.querySelector('#df-d14afbb1-5773-410d-873a-369d650d4904 button');\n",
              "          quickchartButtonEl.style.display =\n",
              "            google.colab.kernel.accessAllowed ? 'block' : 'none';\n",
              "        })();\n",
              "      </script>\n",
              "    </div>\n",
              "\n",
              "    </div>\n",
              "  </div>\n"
            ],
            "text/plain": [
              "            pegasus\n",
              "rouge1     0.428488\n",
              "rouge2     0.205761\n",
              "rougeL     0.298884\n",
              "rougeLsum  0.372259"
            ]
          },
          "execution_count": 25,
          "metadata": {},
          "output_type": "execute_result"
        }
      ],
      "source": [
        "from transformers import AutoModelForSeq2SeqLM, AutoTokenizer\n",
        "model_ckpt = \"google/pegasus-cnn_dailymail\"\n",
        "tokenizer = AutoTokenizer.from_pretrained(model_ckpt)\n",
        "model = AutoModelForSeq2SeqLM.from_pretrained(model_ckpt).to(device)\n",
        "score = evaluate_summaries_pegasus(dataset = test_sample, metric = rouge_metric, model = model, tokenizer = tokenizer, batch_size = 4)\n",
        "rouge_dict = dict((rn, score[rn].mid.fmeasure) for rn in rouge_names)\n",
        "pd.DataFrame.from_dict(rouge_dict, orient = 'index', columns = ['pegasus'])"
      ]
    },
    {
      "cell_type": "code",
      "execution_count": null,
      "metadata": {
        "id": "tGZ_lawNaTtW"
      },
      "outputs": [],
      "source": [
        "import torch\n",
        "torch.cuda.empty_cache()\n"
      ]
    }
  ],
  "metadata": {
    "accelerator": "GPU",
    "colab": {
      "gpuType": "T4",
      "provenance": []
    },
    "kernelspec": {
      "display_name": "Python 3",
      "name": "python3"
    },
    "language_info": {
      "name": "python"
    }
  },
  "nbformat": 4,
  "nbformat_minor": 0
}